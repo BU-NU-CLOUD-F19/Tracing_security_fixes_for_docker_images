{
 "cells": [
  {
   "cell_type": "code",
   "execution_count": 1,
   "metadata": {},
   "outputs": [],
   "source": [
    "import pandas as pd\n",
    "import numpy as np\n",
    "import matplotlib.pyplot as plt\n",
    "%matplotlib inline"
   ]
  },
  {
   "cell_type": "code",
   "execution_count": 4,
   "metadata": {},
   "outputs": [],
   "source": [
    "data_path = \"../GitOperations/data/Final_Report.csv\""
   ]
  },
  {
   "cell_type": "code",
   "execution_count": 61,
   "metadata": {},
   "outputs": [],
   "source": [
    "data = pd.read_csv(data_path)\n",
    "columns = ['Package', 'Vulnerability', 'OS', 'Package_Version', 'OS_base_name', \n",
    "           'Date_Reported', 'Date_Fixed', 'Days_For_Fix']\n",
    "data = data[columns]"
   ]
  },
  {
   "cell_type": "code",
   "execution_count": 62,
   "metadata": {},
   "outputs": [
    {
     "data": {
      "text/html": [
       "<div>\n",
       "<style scoped>\n",
       "    .dataframe tbody tr th:only-of-type {\n",
       "        vertical-align: middle;\n",
       "    }\n",
       "\n",
       "    .dataframe tbody tr th {\n",
       "        vertical-align: top;\n",
       "    }\n",
       "\n",
       "    .dataframe thead th {\n",
       "        text-align: right;\n",
       "    }\n",
       "</style>\n",
       "<table border=\"1\" class=\"dataframe\">\n",
       "  <thead>\n",
       "    <tr style=\"text-align: right;\">\n",
       "      <th></th>\n",
       "      <th>Package</th>\n",
       "      <th>Vulnerability</th>\n",
       "      <th>OS</th>\n",
       "      <th>Package_Version</th>\n",
       "      <th>OS_base_name</th>\n",
       "      <th>Date_Reported</th>\n",
       "      <th>Date_Fixed</th>\n",
       "      <th>Days_For_Fix</th>\n",
       "    </tr>\n",
       "  </thead>\n",
       "  <tbody>\n",
       "    <tr>\n",
       "      <th>0</th>\n",
       "      <td>tar</td>\n",
       "      <td>CVE-2018-20482</td>\n",
       "      <td>alpine:v3.6</td>\n",
       "      <td>1.31-r0</td>\n",
       "      <td>alpine</td>\n",
       "      <td>2018-12-26</td>\n",
       "      <td>NaN</td>\n",
       "      <td>NaN</td>\n",
       "    </tr>\n",
       "    <tr>\n",
       "      <th>1</th>\n",
       "      <td>tar</td>\n",
       "      <td>CVE-2016-6321</td>\n",
       "      <td>alpine:v3.6</td>\n",
       "      <td>1.29-r1</td>\n",
       "      <td>alpine</td>\n",
       "      <td>2016-10-27</td>\n",
       "      <td>NaN</td>\n",
       "      <td>NaN</td>\n",
       "    </tr>\n",
       "    <tr>\n",
       "      <th>2</th>\n",
       "      <td>tar</td>\n",
       "      <td>CVE-2019-9923</td>\n",
       "      <td>debian:8</td>\n",
       "      <td>#MAXV#</td>\n",
       "      <td>debian</td>\n",
       "      <td>2019-01-02</td>\n",
       "      <td>NaN</td>\n",
       "      <td>NaN</td>\n",
       "    </tr>\n",
       "    <tr>\n",
       "      <th>3</th>\n",
       "      <td>tar</td>\n",
       "      <td>CVE-2007-4131</td>\n",
       "      <td>debian:8</td>\n",
       "      <td>1.18-2</td>\n",
       "      <td>debian</td>\n",
       "      <td>2007-08-13</td>\n",
       "      <td>NaN</td>\n",
       "      <td>NaN</td>\n",
       "    </tr>\n",
       "    <tr>\n",
       "      <th>4</th>\n",
       "      <td>tar</td>\n",
       "      <td>CVE-2007-4476</td>\n",
       "      <td>debian:8</td>\n",
       "      <td>1.18-1</td>\n",
       "      <td>debian</td>\n",
       "      <td>2007-08-13</td>\n",
       "      <td>NaN</td>\n",
       "      <td>NaN</td>\n",
       "    </tr>\n",
       "    <tr>\n",
       "      <th>5</th>\n",
       "      <td>tar</td>\n",
       "      <td>CVE-2010-0624</td>\n",
       "      <td>debian:8</td>\n",
       "      <td>1.23-1</td>\n",
       "      <td>debian</td>\n",
       "      <td>2005-12-23</td>\n",
       "      <td>2011-09-13</td>\n",
       "      <td>2090.0</td>\n",
       "    </tr>\n",
       "    <tr>\n",
       "      <th>6</th>\n",
       "      <td>tar</td>\n",
       "      <td>CVE-2005-2541</td>\n",
       "      <td>debian:8</td>\n",
       "      <td>#MAXV#</td>\n",
       "      <td>debian</td>\n",
       "      <td>2005-08-04</td>\n",
       "      <td>NaN</td>\n",
       "      <td>NaN</td>\n",
       "    </tr>\n",
       "  </tbody>\n",
       "</table>\n",
       "</div>"
      ],
      "text/plain": [
       "  Package   Vulnerability           OS Package_Version OS_base_name  \\\n",
       "0     tar  CVE-2018-20482  alpine:v3.6         1.31-r0       alpine   \n",
       "1     tar   CVE-2016-6321  alpine:v3.6         1.29-r1       alpine   \n",
       "2     tar   CVE-2019-9923     debian:8          #MAXV#       debian   \n",
       "3     tar   CVE-2007-4131     debian:8          1.18-2       debian   \n",
       "4     tar   CVE-2007-4476     debian:8          1.18-1       debian   \n",
       "5     tar   CVE-2010-0624     debian:8          1.23-1       debian   \n",
       "6     tar   CVE-2005-2541     debian:8          #MAXV#       debian   \n",
       "\n",
       "  Date_Reported  Date_Fixed  Days_For_Fix  \n",
       "0    2018-12-26         NaN           NaN  \n",
       "1    2016-10-27         NaN           NaN  \n",
       "2    2019-01-02         NaN           NaN  \n",
       "3    2007-08-13         NaN           NaN  \n",
       "4    2007-08-13         NaN           NaN  \n",
       "5    2005-12-23  2011-09-13        2090.0  \n",
       "6    2005-08-04         NaN           NaN  "
      ]
     },
     "execution_count": 62,
     "metadata": {},
     "output_type": "execute_result"
    }
   ],
   "source": [
    "data.head(7)"
   ]
  },
  {
   "cell_type": "code",
   "execution_count": 63,
   "metadata": {},
   "outputs": [
    {
     "data": {
      "text/plain": [
       "(1406, 8)"
      ]
     },
     "execution_count": 63,
     "metadata": {},
     "output_type": "execute_result"
    }
   ],
   "source": [
    "data.shape"
   ]
  },
  {
   "cell_type": "code",
   "execution_count": 64,
   "metadata": {},
   "outputs": [
    {
     "data": {
      "text/plain": [
       "54"
      ]
     },
     "execution_count": 64,
     "metadata": {},
     "output_type": "execute_result"
    }
   ],
   "source": [
    "len(data.Package.unique())"
   ]
  },
  {
   "cell_type": "code",
   "execution_count": 65,
   "metadata": {},
   "outputs": [
    {
     "data": {
      "text/plain": [
       "array(['tar', 'redmine', 'python', 'yum-utils', 'vim', 'perl',\n",
       "       'coreutils', 'nodejs', 'zip', 'libcap', 'tcl', 'subversion',\n",
       "       'byobu', 'dpkg', 'libstdc++', 'unzip', 'npm', 'openssl', 'node',\n",
       "       'gnupg2', 'ca-certificates', 'python-httplib2', 'git', 'binutils',\n",
       "       'procps', 'iputils', 'jq', 'gcc', 'htop', 'wget', 'gnupg',\n",
       "       'mcrypt', 'gd', 'postgresql', 'pwgen', 'gettext', 'findutils',\n",
       "       'patch', 'bzip2', 'flex', 'dirmngr', 'go', 'ruby', 'exif',\n",
       "       'net-tools', 'curl', 'grep', 'libgcc', 'bzr', 'runit', 'mercurial',\n",
       "       'sysstat', 'bash', 'tk'], dtype=object)"
      ]
     },
     "execution_count": 65,
     "metadata": {},
     "output_type": "execute_result"
    }
   ],
   "source": [
    "data.Package.unique()"
   ]
  },
  {
   "cell_type": "code",
   "execution_count": 66,
   "metadata": {},
   "outputs": [
    {
     "data": {
      "text/plain": [
       "<matplotlib.axes._subplots.AxesSubplot at 0x2dd2ff4b0f0>"
      ]
     },
     "execution_count": 66,
     "metadata": {},
     "output_type": "execute_result"
    },
    {
     "data": {
      "image/png": "[encoded data removed]",
      "text/plain": [
       "<Figure size 720x720 with 1 Axes>"
      ]
     },
     "metadata": {
      "needs_background": "light"
     },
     "output_type": "display_data"
    }
   ],
   "source": [
    "plt.figure(figsize=(10,10))\n",
    "data.Package.value_counts().plot('barh')"
   ]
  },
  {
   "cell_type": "code",
   "execution_count": 67,
   "metadata": {},
   "outputs": [
    {
     "data": {
      "text/plain": [
       "<matplotlib.axes._subplots.AxesSubplot at 0x2dd2f57d978>"
      ]
     },
     "execution_count": 67,
     "metadata": {},
     "output_type": "execute_result"
    },
    {
     "data": {
      "image/png": "[encoded data removed]",
      "text/plain": [
       "<Figure size 720x720 with 1 Axes>"
      ]
     },
     "metadata": {
      "needs_background": "light"
     },
     "output_type": "display_data"
    }
   ],
   "source": [
    "plt.figure(figsize=(10,10))\n",
    "data.OS.value_counts().plot('barh')"
   ]
  },
  {
   "cell_type": "code",
   "execution_count": 68,
   "metadata": {},
   "outputs": [
    {
     "data": {
      "text/plain": [
       "debian    0.494310\n",
       "alpine    0.171408\n",
       "oracle    0.167141\n",
       "centos    0.162873\n",
       "ubuntu    0.004267\n",
       "Name: OS_base_name, dtype: float64"
      ]
     },
     "execution_count": 68,
     "metadata": {},
     "output_type": "execute_result"
    }
   ],
   "source": [
    "data['OS_base_name'].value_counts('norm')"
   ]
  },
  {
   "cell_type": "code",
   "execution_count": 69,
   "metadata": {},
   "outputs": [
    {
     "data": {
      "text/plain": [
       "<matplotlib.axes._subplots.AxesSubplot at 0x2dd301b2f60>"
      ]
     },
     "execution_count": 69,
     "metadata": {},
     "output_type": "execute_result"
    },
    {
     "data": {
      "image/png": "[encoded data removed]",
      "text/plain": [
       "<Figure size 720x720 with 1 Axes>"
      ]
     },
     "metadata": {},
     "output_type": "display_data"
    }
   ],
   "source": [
    "plt.figure(figsize=(10,10))\n",
    "data['OS_base_name'].value_counts('norm').plot('pie')"
   ]
  },
  {
   "cell_type": "code",
   "execution_count": 70,
   "metadata": {},
   "outputs": [
    {
     "data": {
      "text/plain": [
       "array(['CVE-2018-20482', 'CVE-2016-6321', 'CVE-2019-9923', ...,\n",
       "       'RHSA-2011:1073', 'ELSA-2008-0136', 'RHSA-2008:0136'], dtype=object)"
      ]
     },
     "execution_count": 70,
     "metadata": {},
     "output_type": "execute_result"
    }
   ],
   "source": [
    "data['Vulnerability'].unique()"
   ]
  },
  {
   "cell_type": "code",
   "execution_count": 71,
   "metadata": {},
   "outputs": [
    {
     "data": {
      "text/plain": [
       "1376"
      ]
     },
     "execution_count": 71,
     "metadata": {},
     "output_type": "execute_result"
    }
   ],
   "source": [
    "len(data['Vulnerability'].unique())"
   ]
  },
  {
   "cell_type": "code",
   "execution_count": 72,
   "metadata": {},
   "outputs": [],
   "source": [
    "day_fixed_df = data[~data['Days_For_Fix'].isnull()]"
   ]
  },
  {
   "cell_type": "code",
   "execution_count": 74,
   "metadata": {},
   "outputs": [
    {
     "data": {
      "text/plain": [
       "(121, 8)"
      ]
     },
     "execution_count": 74,
     "metadata": {},
     "output_type": "execute_result"
    }
   ],
   "source": [
    "day_fixed_df.shape"
   ]
  },
  {
   "cell_type": "code",
   "execution_count": 75,
   "metadata": {},
   "outputs": [],
   "source": [
    "day_fixed_df.sort_values('Days_For_Fix', ascending=False, inplace=True)"
   ]
  },
  {
   "cell_type": "code",
   "execution_count": 76,
   "metadata": {},
   "outputs": [
    {
     "data": {
      "text/html": [
       "<div>\n",
       "<style scoped>\n",
       "    .dataframe tbody tr th:only-of-type {\n",
       "        vertical-align: middle;\n",
       "    }\n",
       "\n",
       "    .dataframe tbody tr th {\n",
       "        vertical-align: top;\n",
       "    }\n",
       "\n",
       "    .dataframe thead th {\n",
       "        text-align: right;\n",
       "    }\n",
       "</style>\n",
       "<table border=\"1\" class=\"dataframe\">\n",
       "  <thead>\n",
       "    <tr style=\"text-align: right;\">\n",
       "      <th></th>\n",
       "      <th>Package</th>\n",
       "      <th>Vulnerability</th>\n",
       "      <th>OS</th>\n",
       "      <th>Package_Version</th>\n",
       "      <th>OS_base_name</th>\n",
       "      <th>Date_Reported</th>\n",
       "      <th>Date_Fixed</th>\n",
       "      <th>Days_For_Fix</th>\n",
       "    </tr>\n",
       "  </thead>\n",
       "  <tbody>\n",
       "    <tr>\n",
       "      <th>985</th>\n",
       "      <td>mcrypt</td>\n",
       "      <td>CVE-2012-4527</td>\n",
       "      <td>debian:unstable</td>\n",
       "      <td>2.6.8-1.3</td>\n",
       "      <td>debian</td>\n",
       "      <td>2012-10-18</td>\n",
       "      <td>2018-12-12</td>\n",
       "      <td>2246.0</td>\n",
       "    </tr>\n",
       "    <tr>\n",
       "      <th>5</th>\n",
       "      <td>tar</td>\n",
       "      <td>CVE-2010-0624</td>\n",
       "      <td>debian:8</td>\n",
       "      <td>1.23-1</td>\n",
       "      <td>debian</td>\n",
       "      <td>2005-12-23</td>\n",
       "      <td>2011-09-13</td>\n",
       "      <td>2090.0</td>\n",
       "    </tr>\n",
       "    <tr>\n",
       "      <th>1386</th>\n",
       "      <td>bash</td>\n",
       "      <td>CVE-2012-6711</td>\n",
       "      <td>debian:8</td>\n",
       "      <td>4.3-1</td>\n",
       "      <td>debian</td>\n",
       "      <td>2019-06-17</td>\n",
       "      <td>2014-03-05</td>\n",
       "      <td>1930.0</td>\n",
       "    </tr>\n",
       "    <tr>\n",
       "      <th>350</th>\n",
       "      <td>unzip</td>\n",
       "      <td>CVE-2018-18384</td>\n",
       "      <td>debian:10</td>\n",
       "      <td>6.0-11</td>\n",
       "      <td>debian</td>\n",
       "      <td>2018-10-16</td>\n",
       "      <td>2014-04-30</td>\n",
       "      <td>1630.0</td>\n",
       "    </tr>\n",
       "    <tr>\n",
       "      <th>188</th>\n",
       "      <td>coreutils</td>\n",
       "      <td>CVE-2017-2616</td>\n",
       "      <td>debian:unstable</td>\n",
       "      <td>8.20-1</td>\n",
       "      <td>debian</td>\n",
       "      <td>2017-03-21</td>\n",
       "      <td>2012-11-18</td>\n",
       "      <td>1584.0</td>\n",
       "    </tr>\n",
       "  </tbody>\n",
       "</table>\n",
       "</div>"
      ],
      "text/plain": [
       "        Package   Vulnerability               OS Package_Version OS_base_name  \\\n",
       "985      mcrypt   CVE-2012-4527  debian:unstable       2.6.8-1.3       debian   \n",
       "5           tar   CVE-2010-0624         debian:8          1.23-1       debian   \n",
       "1386       bash   CVE-2012-6711         debian:8           4.3-1       debian   \n",
       "350       unzip  CVE-2018-18384        debian:10          6.0-11       debian   \n",
       "188   coreutils   CVE-2017-2616  debian:unstable          8.20-1       debian   \n",
       "\n",
       "     Date_Reported  Date_Fixed  Days_For_Fix  \n",
       "985     2012-10-18  2018-12-12        2246.0  \n",
       "5       2005-12-23  2011-09-13        2090.0  \n",
       "1386    2019-06-17  2014-03-05        1930.0  \n",
       "350     2018-10-16  2014-04-30        1630.0  \n",
       "188     2017-03-21  2012-11-18        1584.0  "
      ]
     },
     "execution_count": 76,
     "metadata": {},
     "output_type": "execute_result"
    }
   ],
   "source": [
    "day_fixed_df.head()"
   ]
  },
  {
   "cell_type": "code",
   "execution_count": 78,
   "metadata": {},
   "outputs": [
    {
     "data": {
      "text/plain": [
       "array(['alpine', 'debian', 'oracle', 'centos', 'ubuntu'], dtype=object)"
      ]
     },
     "execution_count": 78,
     "metadata": {},
     "output_type": "execute_result"
    }
   ],
   "source": [
    "data['OS_base_name'].unique()"
   ]
  },
  {
   "cell_type": "code",
   "execution_count": 87,
   "metadata": {},
   "outputs": [
    {
     "data": {
      "text/html": [
       "<div>\n",
       "<style scoped>\n",
       "    .dataframe tbody tr th:only-of-type {\n",
       "        vertical-align: middle;\n",
       "    }\n",
       "\n",
       "    .dataframe tbody tr th {\n",
       "        vertical-align: top;\n",
       "    }\n",
       "\n",
       "    .dataframe thead th {\n",
       "        text-align: right;\n",
       "    }\n",
       "</style>\n",
       "<table border=\"1\" class=\"dataframe\">\n",
       "  <thead>\n",
       "    <tr style=\"text-align: right;\">\n",
       "      <th></th>\n",
       "      <th>Days_For_Fix</th>\n",
       "    </tr>\n",
       "    <tr>\n",
       "      <th>OS_base_name</th>\n",
       "      <th></th>\n",
       "    </tr>\n",
       "  </thead>\n",
       "  <tbody>\n",
       "    <tr>\n",
       "      <th>debian</th>\n",
       "      <td>30362.0</td>\n",
       "    </tr>\n",
       "    <tr>\n",
       "      <th>ubuntu</th>\n",
       "      <td>267.0</td>\n",
       "    </tr>\n",
       "    <tr>\n",
       "      <th>alpine</th>\n",
       "      <td>0.0</td>\n",
       "    </tr>\n",
       "    <tr>\n",
       "      <th>centos</th>\n",
       "      <td>0.0</td>\n",
       "    </tr>\n",
       "    <tr>\n",
       "      <th>oracle</th>\n",
       "      <td>0.0</td>\n",
       "    </tr>\n",
       "  </tbody>\n",
       "</table>\n",
       "</div>"
      ],
      "text/plain": [
       "              Days_For_Fix\n",
       "OS_base_name              \n",
       "debian             30362.0\n",
       "ubuntu               267.0\n",
       "alpine                 0.0\n",
       "centos                 0.0\n",
       "oracle                 0.0"
      ]
     },
     "execution_count": 87,
     "metadata": {},
     "output_type": "execute_result"
    }
   ],
   "source": [
    "data.groupby('OS_base_name').sum().sort_values('Days_For_Fix', ascending=False)"
   ]
  },
  {
   "cell_type": "code",
   "execution_count": 92,
   "metadata": {},
   "outputs": [
    {
     "data": {
      "text/plain": [
       "<matplotlib.axes._subplots.AxesSubplot at 0x2dd305df748>"
      ]
     },
     "execution_count": 92,
     "metadata": {},
     "output_type": "execute_result"
    },
    {
     "data": {
      "image/png": "[encoded data removed]",
      "text/plain": [
       "<Figure size 432x288 with 1 Axes>"
      ]
     },
     "metadata": {
      "needs_background": "light"
     },
     "output_type": "display_data"
    }
   ],
   "source": [
    "data.groupby('OS_base_name').sum().sort_values('Days_For_Fix', ascending=False).plot(kind='bar')"
   ]
  },
  {
   "cell_type": "code",
   "execution_count": 94,
   "metadata": {},
   "outputs": [
    {
     "data": {
      "text/plain": [
       "<matplotlib.axes._subplots.AxesSubplot at 0x2dd306457b8>"
      ]
     },
     "execution_count": 94,
     "metadata": {},
     "output_type": "execute_result"
    },
    {
     "data": {
      "image/png": "[encoded data removed]",
      "text/plain": [
       "<Figure size 432x288 with 1 Axes>"
      ]
     },
     "metadata": {
      "needs_background": "light"
     },
     "output_type": "display_data"
    }
   ],
   "source": [
    "day_fixed_df['Days_For_Fix'][day_fixed_df['OS_base_name']=='debian'].plot('hist')"
   ]
  }
 ],
 "metadata": {
  "kernelspec": {
   "display_name": "Python 3",
   "language": "python",
   "name": "python3"
  },
  "language_info": {
   "codemirror_mode": {
    "name": "ipython",
    "version": 3
   },
   "file_extension": ".py",
   "mimetype": "text/x-python",
   "name": "python",
   "nbconvert_exporter": "python",
   "pygments_lexer": "ipython3",
   "version": "3.7.3"
  }
 },
 "nbformat": 4,
 "nbformat_minor": 2
}
