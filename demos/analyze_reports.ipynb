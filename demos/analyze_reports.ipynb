{
 "cells": [
  {
   "cell_type": "markdown",
   "metadata": {},
   "source": [
    "# Identify how fast OS packages respond to security vulnerabilities - Analysis"
   ]
  },
  {
   "cell_type": "code",
   "execution_count": 1,
   "metadata": {},
   "outputs": [],
   "source": [
    "import pandas as pd\n",
    "import numpy as np\n",
    "import matplotlib.pyplot as plt\n",
    "%matplotlib inline"
   ]
  },
  {
   "cell_type": "markdown",
   "metadata": {},
   "source": [
    "## Read in full report data "
   ]
  },
  {
   "cell_type": "code",
   "execution_count": 2,
   "metadata": {},
   "outputs": [],
   "source": [
    "full_data_path = \"../GitOperations/data/report.csv\"\n",
    "full_data = pd.read_csv(full_data_path, index_col = 0)"
   ]
  },
  {
   "cell_type": "code",
   "execution_count": 3,
   "metadata": {},
   "outputs": [
    {
     "data": {
      "text/html": [
       "<div>\n",
       "<style scoped>\n",
       "    .dataframe tbody tr th:only-of-type {\n",
       "        vertical-align: middle;\n",
       "    }\n",
       "\n",
       "    .dataframe tbody tr th {\n",
       "        vertical-align: top;\n",
       "    }\n",
       "\n",
       "    .dataframe thead th {\n",
       "        text-align: right;\n",
       "    }\n",
       "</style>\n",
       "<table border=\"1\" class=\"dataframe\">\n",
       "  <thead>\n",
       "    <tr style=\"text-align: right;\">\n",
       "      <th></th>\n",
       "      <th>Package</th>\n",
       "      <th>Vulnerability</th>\n",
       "      <th>OS</th>\n",
       "      <th>Package_Version</th>\n",
       "    </tr>\n",
       "    <tr>\n",
       "      <th>index</th>\n",
       "      <th></th>\n",
       "      <th></th>\n",
       "      <th></th>\n",
       "      <th></th>\n",
       "    </tr>\n",
       "  </thead>\n",
       "  <tbody>\n",
       "    <tr>\n",
       "      <th>0</th>\n",
       "      <td>tar</td>\n",
       "      <td>CVE-2018-20482</td>\n",
       "      <td>alpine:v3.6</td>\n",
       "      <td>1.31-r0</td>\n",
       "    </tr>\n",
       "    <tr>\n",
       "      <th>1</th>\n",
       "      <td>tar</td>\n",
       "      <td>CVE-2016-6321</td>\n",
       "      <td>alpine:v3.6</td>\n",
       "      <td>1.29-r1</td>\n",
       "    </tr>\n",
       "    <tr>\n",
       "      <th>2</th>\n",
       "      <td>tar</td>\n",
       "      <td>CVE-2016-6321</td>\n",
       "      <td>alpine:v3.7</td>\n",
       "      <td>1.29-r1</td>\n",
       "    </tr>\n",
       "    <tr>\n",
       "      <th>3</th>\n",
       "      <td>tar</td>\n",
       "      <td>CVE-2018-20482</td>\n",
       "      <td>alpine:v3.7</td>\n",
       "      <td>1.31-r0</td>\n",
       "    </tr>\n",
       "    <tr>\n",
       "      <th>4</th>\n",
       "      <td>tar</td>\n",
       "      <td>CVE-2016-6321</td>\n",
       "      <td>alpine:v3.8</td>\n",
       "      <td>1.29-r1</td>\n",
       "    </tr>\n",
       "    <tr>\n",
       "      <th>5</th>\n",
       "      <td>tar</td>\n",
       "      <td>CVE-2018-20482</td>\n",
       "      <td>alpine:v3.8</td>\n",
       "      <td>1.31-r0</td>\n",
       "    </tr>\n",
       "    <tr>\n",
       "      <th>6</th>\n",
       "      <td>tar</td>\n",
       "      <td>CVE-2016-6321</td>\n",
       "      <td>alpine:v3.4</td>\n",
       "      <td>1.29-r1</td>\n",
       "    </tr>\n",
       "    <tr>\n",
       "      <th>7</th>\n",
       "      <td>tar</td>\n",
       "      <td>CVE-2018-20482</td>\n",
       "      <td>alpine:v3.10</td>\n",
       "      <td>1.31-r0</td>\n",
       "    </tr>\n",
       "    <tr>\n",
       "      <th>8</th>\n",
       "      <td>tar</td>\n",
       "      <td>CVE-2016-6321</td>\n",
       "      <td>alpine:v3.10</td>\n",
       "      <td>1.29-r1</td>\n",
       "    </tr>\n",
       "    <tr>\n",
       "      <th>9</th>\n",
       "      <td>tar</td>\n",
       "      <td>CVE-2018-20482</td>\n",
       "      <td>alpine:v3.9</td>\n",
       "      <td>1.31-r0</td>\n",
       "    </tr>\n",
       "    <tr>\n",
       "      <th>10</th>\n",
       "      <td>tar</td>\n",
       "      <td>CVE-2016-6321</td>\n",
       "      <td>alpine:v3.9</td>\n",
       "      <td>1.29-r1</td>\n",
       "    </tr>\n",
       "    <tr>\n",
       "      <th>11</th>\n",
       "      <td>tar</td>\n",
       "      <td>CVE-2016-6321</td>\n",
       "      <td>alpine:v3.5</td>\n",
       "      <td>1.29-r1</td>\n",
       "    </tr>\n",
       "    <tr>\n",
       "      <th>12</th>\n",
       "      <td>tar</td>\n",
       "      <td>CVE-2019-9923</td>\n",
       "      <td>debian:8</td>\n",
       "      <td>#MAXV#</td>\n",
       "    </tr>\n",
       "    <tr>\n",
       "      <th>13</th>\n",
       "      <td>tar</td>\n",
       "      <td>CVE-2018-20482</td>\n",
       "      <td>debian:8</td>\n",
       "      <td>1.27.1-2+deb8u2</td>\n",
       "    </tr>\n",
       "    <tr>\n",
       "      <th>14</th>\n",
       "      <td>tar</td>\n",
       "      <td>CVE-2007-4131</td>\n",
       "      <td>debian:8</td>\n",
       "      <td>1.18-2</td>\n",
       "    </tr>\n",
       "    <tr>\n",
       "      <th>15</th>\n",
       "      <td>tar</td>\n",
       "      <td>CVE-2007-4476</td>\n",
       "      <td>debian:8</td>\n",
       "      <td>1.18-1</td>\n",
       "    </tr>\n",
       "    <tr>\n",
       "      <th>16</th>\n",
       "      <td>tar</td>\n",
       "      <td>CVE-2010-0624</td>\n",
       "      <td>debian:8</td>\n",
       "      <td>1.23-1</td>\n",
       "    </tr>\n",
       "    <tr>\n",
       "      <th>17</th>\n",
       "      <td>tar</td>\n",
       "      <td>CVE-2016-6321</td>\n",
       "      <td>debian:8</td>\n",
       "      <td>1.27.1-2+deb8u1</td>\n",
       "    </tr>\n",
       "    <tr>\n",
       "      <th>18</th>\n",
       "      <td>tar</td>\n",
       "      <td>CVE-2005-2541</td>\n",
       "      <td>debian:8</td>\n",
       "      <td>#MAXV#</td>\n",
       "    </tr>\n",
       "    <tr>\n",
       "      <th>19</th>\n",
       "      <td>tar</td>\n",
       "      <td>CVE-2006-6097</td>\n",
       "      <td>debian:8</td>\n",
       "      <td>1.16-2</td>\n",
       "    </tr>\n",
       "  </tbody>\n",
       "</table>\n",
       "</div>"
      ],
      "text/plain": [
       "      Package   Vulnerability            OS  Package_Version\n",
       "index                                                       \n",
       "0         tar  CVE-2018-20482   alpine:v3.6          1.31-r0\n",
       "1         tar   CVE-2016-6321   alpine:v3.6          1.29-r1\n",
       "2         tar   CVE-2016-6321   alpine:v3.7          1.29-r1\n",
       "3         tar  CVE-2018-20482   alpine:v3.7          1.31-r0\n",
       "4         tar   CVE-2016-6321   alpine:v3.8          1.29-r1\n",
       "5         tar  CVE-2018-20482   alpine:v3.8          1.31-r0\n",
       "6         tar   CVE-2016-6321   alpine:v3.4          1.29-r1\n",
       "7         tar  CVE-2018-20482  alpine:v3.10          1.31-r0\n",
       "8         tar   CVE-2016-6321  alpine:v3.10          1.29-r1\n",
       "9         tar  CVE-2018-20482   alpine:v3.9          1.31-r0\n",
       "10        tar   CVE-2016-6321   alpine:v3.9          1.29-r1\n",
       "11        tar   CVE-2016-6321   alpine:v3.5          1.29-r1\n",
       "12        tar   CVE-2019-9923      debian:8           #MAXV#\n",
       "13        tar  CVE-2018-20482      debian:8  1.27.1-2+deb8u2\n",
       "14        tar   CVE-2007-4131      debian:8           1.18-2\n",
       "15        tar   CVE-2007-4476      debian:8           1.18-1\n",
       "16        tar   CVE-2010-0624      debian:8           1.23-1\n",
       "17        tar   CVE-2016-6321      debian:8  1.27.1-2+deb8u1\n",
       "18        tar   CVE-2005-2541      debian:8           #MAXV#\n",
       "19        tar   CVE-2006-6097      debian:8           1.16-2"
      ]
     },
     "execution_count": 3,
     "metadata": {},
     "output_type": "execute_result"
    }
   ],
   "source": [
    "full_data.head(20)"
   ]
  },
  {
   "cell_type": "markdown",
   "metadata": {},
   "source": [
    "## Distribution of packages in the full data"
   ]
  },
  {
   "cell_type": "code",
   "execution_count": 7,
   "metadata": {},
   "outputs": [
    {
     "data": {
      "image/png": "[encoded data removed]",
      "text/plain": [
       "<Figure size 720x720 with 1 Axes>"
      ]
     },
     "metadata": {
      "needs_background": "light"
     },
     "output_type": "display_data"
    }
   ],
   "source": [
    "plt.figure(figsize=(10,10))\n",
    "full_data.Package.value_counts()[::-1].plot('barh', \n",
    "                                             title=\"Distribution of packages in the full data\")\n",
    "plt.savefig(\"outputs/Distribution_of_packages_in_the_full_data.png\")\n",
    "\n",
    "plt.show()"
   ]
  },
  {
   "cell_type": "markdown",
   "metadata": {},
   "source": [
    "## Full data contained duplicate vulnerabilities "
   ]
  },
  {
   "cell_type": "code",
   "execution_count": 8,
   "metadata": {},
   "outputs": [
    {
     "data": {
      "text/html": [
       "<div>\n",
       "<style scoped>\n",
       "    .dataframe tbody tr th:only-of-type {\n",
       "        vertical-align: middle;\n",
       "    }\n",
       "\n",
       "    .dataframe tbody tr th {\n",
       "        vertical-align: top;\n",
       "    }\n",
       "\n",
       "    .dataframe thead th {\n",
       "        text-align: right;\n",
       "    }\n",
       "</style>\n",
       "<table border=\"1\" class=\"dataframe\">\n",
       "  <thead>\n",
       "    <tr style=\"text-align: right;\">\n",
       "      <th></th>\n",
       "      <th>Package</th>\n",
       "      <th>Vulnerability</th>\n",
       "      <th>OS</th>\n",
       "      <th>Package_Version</th>\n",
       "    </tr>\n",
       "    <tr>\n",
       "      <th>index</th>\n",
       "      <th></th>\n",
       "      <th></th>\n",
       "      <th></th>\n",
       "      <th></th>\n",
       "    </tr>\n",
       "  </thead>\n",
       "  <tbody>\n",
       "    <tr>\n",
       "      <th>2</th>\n",
       "      <td>tar</td>\n",
       "      <td>CVE-2016-6321</td>\n",
       "      <td>alpine:v3.7</td>\n",
       "      <td>1.29-r1</td>\n",
       "    </tr>\n",
       "    <tr>\n",
       "      <th>3</th>\n",
       "      <td>tar</td>\n",
       "      <td>CVE-2018-20482</td>\n",
       "      <td>alpine:v3.7</td>\n",
       "      <td>1.31-r0</td>\n",
       "    </tr>\n",
       "    <tr>\n",
       "      <th>4</th>\n",
       "      <td>tar</td>\n",
       "      <td>CVE-2016-6321</td>\n",
       "      <td>alpine:v3.8</td>\n",
       "      <td>1.29-r1</td>\n",
       "    </tr>\n",
       "    <tr>\n",
       "      <th>5</th>\n",
       "      <td>tar</td>\n",
       "      <td>CVE-2018-20482</td>\n",
       "      <td>alpine:v3.8</td>\n",
       "      <td>1.31-r0</td>\n",
       "    </tr>\n",
       "    <tr>\n",
       "      <th>6</th>\n",
       "      <td>tar</td>\n",
       "      <td>CVE-2016-6321</td>\n",
       "      <td>alpine:v3.4</td>\n",
       "      <td>1.29-r1</td>\n",
       "    </tr>\n",
       "    <tr>\n",
       "      <th>7</th>\n",
       "      <td>tar</td>\n",
       "      <td>CVE-2018-20482</td>\n",
       "      <td>alpine:v3.10</td>\n",
       "      <td>1.31-r0</td>\n",
       "    </tr>\n",
       "    <tr>\n",
       "      <th>8</th>\n",
       "      <td>tar</td>\n",
       "      <td>CVE-2016-6321</td>\n",
       "      <td>alpine:v3.10</td>\n",
       "      <td>1.29-r1</td>\n",
       "    </tr>\n",
       "    <tr>\n",
       "      <th>9</th>\n",
       "      <td>tar</td>\n",
       "      <td>CVE-2018-20482</td>\n",
       "      <td>alpine:v3.9</td>\n",
       "      <td>1.31-r0</td>\n",
       "    </tr>\n",
       "    <tr>\n",
       "      <th>10</th>\n",
       "      <td>tar</td>\n",
       "      <td>CVE-2016-6321</td>\n",
       "      <td>alpine:v3.9</td>\n",
       "      <td>1.29-r1</td>\n",
       "    </tr>\n",
       "    <tr>\n",
       "      <th>11</th>\n",
       "      <td>tar</td>\n",
       "      <td>CVE-2016-6321</td>\n",
       "      <td>alpine:v3.5</td>\n",
       "      <td>1.29-r1</td>\n",
       "    </tr>\n",
       "    <tr>\n",
       "      <th>23</th>\n",
       "      <td>tar</td>\n",
       "      <td>CVE-2007-4131</td>\n",
       "      <td>debian:9</td>\n",
       "      <td>1.18-2</td>\n",
       "    </tr>\n",
       "    <tr>\n",
       "      <th>25</th>\n",
       "      <td>tar</td>\n",
       "      <td>CVE-2002-1216</td>\n",
       "      <td>debian:9</td>\n",
       "      <td>1.13.25</td>\n",
       "    </tr>\n",
       "    <tr>\n",
       "      <th>26</th>\n",
       "      <td>tar</td>\n",
       "      <td>CVE-2007-4476</td>\n",
       "      <td>debian:9</td>\n",
       "      <td>1.18-1</td>\n",
       "    </tr>\n",
       "    <tr>\n",
       "      <th>28</th>\n",
       "      <td>tar</td>\n",
       "      <td>CVE-2010-0624</td>\n",
       "      <td>debian:9</td>\n",
       "      <td>1.23-1</td>\n",
       "    </tr>\n",
       "    <tr>\n",
       "      <th>29</th>\n",
       "      <td>tar</td>\n",
       "      <td>CVE-2005-2541</td>\n",
       "      <td>debian:9</td>\n",
       "      <td>#MAXV#</td>\n",
       "    </tr>\n",
       "    <tr>\n",
       "      <th>30</th>\n",
       "      <td>tar</td>\n",
       "      <td>CVE-2006-0300</td>\n",
       "      <td>debian:9</td>\n",
       "      <td>1.15.1-3</td>\n",
       "    </tr>\n",
       "    <tr>\n",
       "      <th>31</th>\n",
       "      <td>tar</td>\n",
       "      <td>CVE-2019-9923</td>\n",
       "      <td>debian:9</td>\n",
       "      <td>#MAXV#</td>\n",
       "    </tr>\n",
       "    <tr>\n",
       "      <th>32</th>\n",
       "      <td>tar</td>\n",
       "      <td>CVE-2005-1918</td>\n",
       "      <td>debian:9</td>\n",
       "      <td>1.14-2.2</td>\n",
       "    </tr>\n",
       "    <tr>\n",
       "      <th>33</th>\n",
       "      <td>tar</td>\n",
       "      <td>CVE-2006-6097</td>\n",
       "      <td>debian:9</td>\n",
       "      <td>1.16-2</td>\n",
       "    </tr>\n",
       "    <tr>\n",
       "      <th>34</th>\n",
       "      <td>tar</td>\n",
       "      <td>CVE-2019-9923</td>\n",
       "      <td>debian:unstable</td>\n",
       "      <td>#MAXV#</td>\n",
       "    </tr>\n",
       "  </tbody>\n",
       "</table>\n",
       "</div>"
      ],
      "text/plain": [
       "      Package   Vulnerability               OS Package_Version\n",
       "index                                                         \n",
       "2         tar   CVE-2016-6321      alpine:v3.7         1.29-r1\n",
       "3         tar  CVE-2018-20482      alpine:v3.7         1.31-r0\n",
       "4         tar   CVE-2016-6321      alpine:v3.8         1.29-r1\n",
       "5         tar  CVE-2018-20482      alpine:v3.8         1.31-r0\n",
       "6         tar   CVE-2016-6321      alpine:v3.4         1.29-r1\n",
       "7         tar  CVE-2018-20482     alpine:v3.10         1.31-r0\n",
       "8         tar   CVE-2016-6321     alpine:v3.10         1.29-r1\n",
       "9         tar  CVE-2018-20482      alpine:v3.9         1.31-r0\n",
       "10        tar   CVE-2016-6321      alpine:v3.9         1.29-r1\n",
       "11        tar   CVE-2016-6321      alpine:v3.5         1.29-r1\n",
       "23        tar   CVE-2007-4131         debian:9          1.18-2\n",
       "25        tar   CVE-2002-1216         debian:9         1.13.25\n",
       "26        tar   CVE-2007-4476         debian:9          1.18-1\n",
       "28        tar   CVE-2010-0624         debian:9          1.23-1\n",
       "29        tar   CVE-2005-2541         debian:9          #MAXV#\n",
       "30        tar   CVE-2006-0300         debian:9        1.15.1-3\n",
       "31        tar   CVE-2019-9923         debian:9          #MAXV#\n",
       "32        tar   CVE-2005-1918         debian:9        1.14-2.2\n",
       "33        tar   CVE-2006-6097         debian:9          1.16-2\n",
       "34        tar   CVE-2019-9923  debian:unstable          #MAXV#"
      ]
     },
     "execution_count": 8,
     "metadata": {},
     "output_type": "execute_result"
    }
   ],
   "source": [
    "full_data[full_data[['Package', 'Vulnerability', 'Package_Version']].duplicated()].head(20)"
   ]
  },
  {
   "cell_type": "markdown",
   "metadata": {},
   "source": [
    "## Reading the de-duplicated data "
   ]
  },
  {
   "cell_type": "code",
   "execution_count": 9,
   "metadata": {},
   "outputs": [],
   "source": [
    "data_path = \"../GitOperations/data/Final_Report.csv\""
   ]
  },
  {
   "cell_type": "code",
   "execution_count": 10,
   "metadata": {},
   "outputs": [],
   "source": [
    "data = pd.read_csv(data_path)\n",
    "columns = ['Package', 'Vulnerability', 'OS', 'Package_Version', 'OS_base_name', \n",
    "           'Date_Reported', 'Date_Fixed', 'Days_For_Fix']\n",
    "data = data[columns]"
   ]
  },
  {
   "cell_type": "code",
   "execution_count": 11,
   "metadata": {},
   "outputs": [
    {
     "data": {
      "text/html": [
       "<div>\n",
       "<style scoped>\n",
       "    .dataframe tbody tr th:only-of-type {\n",
       "        vertical-align: middle;\n",
       "    }\n",
       "\n",
       "    .dataframe tbody tr th {\n",
       "        vertical-align: top;\n",
       "    }\n",
       "\n",
       "    .dataframe thead th {\n",
       "        text-align: right;\n",
       "    }\n",
       "</style>\n",
       "<table border=\"1\" class=\"dataframe\">\n",
       "  <thead>\n",
       "    <tr style=\"text-align: right;\">\n",
       "      <th></th>\n",
       "      <th>Package</th>\n",
       "      <th>Vulnerability</th>\n",
       "      <th>OS</th>\n",
       "      <th>Package_Version</th>\n",
       "      <th>OS_base_name</th>\n",
       "      <th>Date_Reported</th>\n",
       "      <th>Date_Fixed</th>\n",
       "      <th>Days_For_Fix</th>\n",
       "    </tr>\n",
       "  </thead>\n",
       "  <tbody>\n",
       "    <tr>\n",
       "      <th>0</th>\n",
       "      <td>tar</td>\n",
       "      <td>CVE-2018-20482</td>\n",
       "      <td>alpine:v3.6</td>\n",
       "      <td>1.31-r0</td>\n",
       "      <td>alpine</td>\n",
       "      <td>2018-12-26</td>\n",
       "      <td>NaN</td>\n",
       "      <td>NaN</td>\n",
       "    </tr>\n",
       "    <tr>\n",
       "      <th>1</th>\n",
       "      <td>tar</td>\n",
       "      <td>CVE-2016-6321</td>\n",
       "      <td>alpine:v3.6</td>\n",
       "      <td>1.29-r1</td>\n",
       "      <td>alpine</td>\n",
       "      <td>2016-10-27</td>\n",
       "      <td>NaN</td>\n",
       "      <td>NaN</td>\n",
       "    </tr>\n",
       "    <tr>\n",
       "      <th>2</th>\n",
       "      <td>tar</td>\n",
       "      <td>CVE-2019-9923</td>\n",
       "      <td>debian:8</td>\n",
       "      <td>#MAXV#</td>\n",
       "      <td>debian</td>\n",
       "      <td>2019-01-02</td>\n",
       "      <td>NaN</td>\n",
       "      <td>NaN</td>\n",
       "    </tr>\n",
       "    <tr>\n",
       "      <th>3</th>\n",
       "      <td>tar</td>\n",
       "      <td>CVE-2007-4131</td>\n",
       "      <td>debian:8</td>\n",
       "      <td>1.18-2</td>\n",
       "      <td>debian</td>\n",
       "      <td>2007-08-13</td>\n",
       "      <td>NaN</td>\n",
       "      <td>NaN</td>\n",
       "    </tr>\n",
       "    <tr>\n",
       "      <th>4</th>\n",
       "      <td>tar</td>\n",
       "      <td>CVE-2007-4476</td>\n",
       "      <td>debian:8</td>\n",
       "      <td>1.18-1</td>\n",
       "      <td>debian</td>\n",
       "      <td>2007-08-13</td>\n",
       "      <td>NaN</td>\n",
       "      <td>NaN</td>\n",
       "    </tr>\n",
       "    <tr>\n",
       "      <th>5</th>\n",
       "      <td>tar</td>\n",
       "      <td>CVE-2010-0624</td>\n",
       "      <td>debian:8</td>\n",
       "      <td>1.23-1</td>\n",
       "      <td>debian</td>\n",
       "      <td>2005-12-23</td>\n",
       "      <td>2011-09-13</td>\n",
       "      <td>2090.0</td>\n",
       "    </tr>\n",
       "    <tr>\n",
       "      <th>6</th>\n",
       "      <td>tar</td>\n",
       "      <td>CVE-2005-2541</td>\n",
       "      <td>debian:8</td>\n",
       "      <td>#MAXV#</td>\n",
       "      <td>debian</td>\n",
       "      <td>2005-08-04</td>\n",
       "      <td>NaN</td>\n",
       "      <td>NaN</td>\n",
       "    </tr>\n",
       "  </tbody>\n",
       "</table>\n",
       "</div>"
      ],
      "text/plain": [
       "  Package   Vulnerability           OS Package_Version OS_base_name  \\\n",
       "0     tar  CVE-2018-20482  alpine:v3.6         1.31-r0       alpine   \n",
       "1     tar   CVE-2016-6321  alpine:v3.6         1.29-r1       alpine   \n",
       "2     tar   CVE-2019-9923     debian:8          #MAXV#       debian   \n",
       "3     tar   CVE-2007-4131     debian:8          1.18-2       debian   \n",
       "4     tar   CVE-2007-4476     debian:8          1.18-1       debian   \n",
       "5     tar   CVE-2010-0624     debian:8          1.23-1       debian   \n",
       "6     tar   CVE-2005-2541     debian:8          #MAXV#       debian   \n",
       "\n",
       "  Date_Reported  Date_Fixed  Days_For_Fix  \n",
       "0    2018-12-26         NaN           NaN  \n",
       "1    2016-10-27         NaN           NaN  \n",
       "2    2019-01-02         NaN           NaN  \n",
       "3    2007-08-13         NaN           NaN  \n",
       "4    2007-08-13         NaN           NaN  \n",
       "5    2005-12-23  2011-09-13        2090.0  \n",
       "6    2005-08-04         NaN           NaN  "
      ]
     },
     "execution_count": 11,
     "metadata": {},
     "output_type": "execute_result"
    }
   ],
   "source": [
    "data.head(7)"
   ]
  },
  {
   "cell_type": "markdown",
   "metadata": {},
   "source": [
    "Our script is able to get dates when a vulnerability is reported using the XForce API. We scrape data for the date when a vulnerability is fixed. "
   ]
  },
  {
   "cell_type": "code",
   "execution_count": 12,
   "metadata": {},
   "outputs": [
    {
     "data": {
      "text/plain": [
       "(1406, 8)"
      ]
     },
     "execution_count": 12,
     "metadata": {},
     "output_type": "execute_result"
    }
   ],
   "source": [
    "data.shape"
   ]
  },
  {
   "cell_type": "markdown",
   "metadata": {},
   "source": [
    "There are 54 packages to be tracked"
   ]
  },
  {
   "cell_type": "code",
   "execution_count": 13,
   "metadata": {},
   "outputs": [
    {
     "data": {
      "text/plain": [
       "54"
      ]
     },
     "execution_count": 13,
     "metadata": {},
     "output_type": "execute_result"
    }
   ],
   "source": [
    "len(data.Package.unique())"
   ]
  },
  {
   "cell_type": "markdown",
   "metadata": {},
   "source": [
    "Some of the packages can be seen here:"
   ]
  },
  {
   "cell_type": "code",
   "execution_count": 14,
   "metadata": {},
   "outputs": [
    {
     "data": {
      "text/plain": [
       "array(['tar', 'redmine', 'python', 'yum-utils', 'vim', 'perl',\n",
       "       'coreutils', 'nodejs', 'zip', 'libcap', 'tcl', 'subversion',\n",
       "       'byobu', 'dpkg', 'libstdc++', 'unzip', 'npm', 'openssl', 'node',\n",
       "       'gnupg2', 'ca-certificates', 'python-httplib2', 'git', 'binutils',\n",
       "       'procps', 'iputils', 'jq', 'gcc', 'htop', 'wget', 'gnupg',\n",
       "       'mcrypt', 'gd', 'postgresql', 'pwgen', 'gettext', 'findutils',\n",
       "       'patch', 'bzip2', 'flex', 'dirmngr', 'go', 'ruby', 'exif',\n",
       "       'net-tools', 'curl', 'grep', 'libgcc', 'bzr', 'runit', 'mercurial',\n",
       "       'sysstat', 'bash', 'tk'], dtype=object)"
      ]
     },
     "execution_count": 14,
     "metadata": {},
     "output_type": "execute_result"
    }
   ],
   "source": [
    "data.Package.unique()"
   ]
  },
  {
   "cell_type": "markdown",
   "metadata": {},
   "source": [
    "## Distribution of Packages in the cleaned data"
   ]
  },
  {
   "cell_type": "code",
   "execution_count": 15,
   "metadata": {},
   "outputs": [
    {
     "data": {
      "image/png": "[encoded data removed]",
      "text/plain": [
       "<Figure size 720x720 with 1 Axes>"
      ]
     },
     "metadata": {
      "needs_background": "light"
     },
     "output_type": "display_data"
    }
   ],
   "source": [
    "plt.figure(figsize=(10,10))\n",
    "data.Package.value_counts()[::-1].plot('barh',\n",
    "                                       title=\"Distribution of packages in the de-duplicated data\")\n",
    "plt.savefig(\"outputs/Distribution_of_packages_in_the_dedup_data.png\")\n",
    "\n",
    "plt.show()"
   ]
  },
  {
   "cell_type": "markdown",
   "metadata": {},
   "source": [
    "## Distribution of OS in the cleaned data"
   ]
  },
  {
   "cell_type": "code",
   "execution_count": 16,
   "metadata": {
    "scrolled": true
   },
   "outputs": [
    {
     "data": {
      "image/png": "[encoded data removed]",
      "text/plain": [
       "<Figure size 720x720 with 1 Axes>"
      ]
     },
     "metadata": {
      "needs_background": "light"
     },
     "output_type": "display_data"
    }
   ],
   "source": [
    "plt.figure(figsize=(10,10))\n",
    "data.OS.value_counts()[::-1].plot('barh', \n",
    "                             title=\"OS Distribution\")\n",
    "plt.savefig(\"outputs/OS_Distribution\")\n",
    "\n",
    "plt.show()"
   ]
  },
  {
   "cell_type": "code",
   "execution_count": 17,
   "metadata": {},
   "outputs": [
    {
     "data": {
      "text/plain": [
       "debian    0.494310\n",
       "alpine    0.171408\n",
       "oracle    0.167141\n",
       "centos    0.162873\n",
       "ubuntu    0.004267\n",
       "Name: OS_base_name, dtype: float64"
      ]
     },
     "execution_count": 17,
     "metadata": {},
     "output_type": "execute_result"
    }
   ],
   "source": [
    "data['OS_base_name'].value_counts('norm')"
   ]
  },
  {
   "cell_type": "code",
   "execution_count": 18,
   "metadata": {},
   "outputs": [
    {
     "data": {
      "text/plain": [
       "<matplotlib.axes._subplots.AxesSubplot at 0x2176bf484a8>"
      ]
     },
     "execution_count": 18,
     "metadata": {},
     "output_type": "execute_result"
    },
    {
     "data": {
      "image/png": "[encoded data removed]",
      "text/plain": [
       "<Figure size 720x720 with 1 Axes>"
      ]
     },
     "metadata": {},
     "output_type": "display_data"
    }
   ],
   "source": [
    "plt.figure(figsize=(10,10))\n",
    "data['OS_base_name'].value_counts('norm').plot('pie')"
   ]
  },
  {
   "cell_type": "markdown",
   "metadata": {},
   "source": [
    "## Analyzing how long it takes for vulnerabilities to be fixed"
   ]
  },
  {
   "cell_type": "code",
   "execution_count": 19,
   "metadata": {},
   "outputs": [
    {
     "data": {
      "text/plain": [
       "(121, 8)"
      ]
     },
     "execution_count": 19,
     "metadata": {},
     "output_type": "execute_result"
    }
   ],
   "source": [
    "day_fixed_df = data[~data['Days_For_Fix'].isnull()]\n",
    "day_fixed_df.shape"
   ]
  },
  {
   "cell_type": "code",
   "execution_count": 20,
   "metadata": {},
   "outputs": [],
   "source": [
    "day_fixed_df.sort_values('Days_For_Fix', ascending=False, inplace=True)"
   ]
  },
  {
   "cell_type": "code",
   "execution_count": 21,
   "metadata": {},
   "outputs": [
    {
     "data": {
      "text/html": [
       "<div>\n",
       "<style scoped>\n",
       "    .dataframe tbody tr th:only-of-type {\n",
       "        vertical-align: middle;\n",
       "    }\n",
       "\n",
       "    .dataframe tbody tr th {\n",
       "        vertical-align: top;\n",
       "    }\n",
       "\n",
       "    .dataframe thead th {\n",
       "        text-align: right;\n",
       "    }\n",
       "</style>\n",
       "<table border=\"1\" class=\"dataframe\">\n",
       "  <thead>\n",
       "    <tr style=\"text-align: right;\">\n",
       "      <th></th>\n",
       "      <th>Package</th>\n",
       "      <th>Vulnerability</th>\n",
       "      <th>OS</th>\n",
       "      <th>Package_Version</th>\n",
       "      <th>OS_base_name</th>\n",
       "      <th>Date_Reported</th>\n",
       "      <th>Date_Fixed</th>\n",
       "      <th>Days_For_Fix</th>\n",
       "    </tr>\n",
       "  </thead>\n",
       "  <tbody>\n",
       "    <tr>\n",
       "      <th>985</th>\n",
       "      <td>mcrypt</td>\n",
       "      <td>CVE-2012-4527</td>\n",
       "      <td>debian:unstable</td>\n",
       "      <td>2.6.8-1.3</td>\n",
       "      <td>debian</td>\n",
       "      <td>2012-10-18</td>\n",
       "      <td>2018-12-12</td>\n",
       "      <td>2246.0</td>\n",
       "    </tr>\n",
       "    <tr>\n",
       "      <th>5</th>\n",
       "      <td>tar</td>\n",
       "      <td>CVE-2010-0624</td>\n",
       "      <td>debian:8</td>\n",
       "      <td>1.23-1</td>\n",
       "      <td>debian</td>\n",
       "      <td>2005-12-23</td>\n",
       "      <td>2011-09-13</td>\n",
       "      <td>2090.0</td>\n",
       "    </tr>\n",
       "    <tr>\n",
       "      <th>1386</th>\n",
       "      <td>bash</td>\n",
       "      <td>CVE-2012-6711</td>\n",
       "      <td>debian:8</td>\n",
       "      <td>4.3-1</td>\n",
       "      <td>debian</td>\n",
       "      <td>2019-06-17</td>\n",
       "      <td>2014-03-05</td>\n",
       "      <td>1930.0</td>\n",
       "    </tr>\n",
       "    <tr>\n",
       "      <th>350</th>\n",
       "      <td>unzip</td>\n",
       "      <td>CVE-2018-18384</td>\n",
       "      <td>debian:10</td>\n",
       "      <td>6.0-11</td>\n",
       "      <td>debian</td>\n",
       "      <td>2018-10-16</td>\n",
       "      <td>2014-04-30</td>\n",
       "      <td>1630.0</td>\n",
       "    </tr>\n",
       "    <tr>\n",
       "      <th>188</th>\n",
       "      <td>coreutils</td>\n",
       "      <td>CVE-2017-2616</td>\n",
       "      <td>debian:unstable</td>\n",
       "      <td>8.20-1</td>\n",
       "      <td>debian</td>\n",
       "      <td>2017-03-21</td>\n",
       "      <td>2012-11-18</td>\n",
       "      <td>1584.0</td>\n",
       "    </tr>\n",
       "  </tbody>\n",
       "</table>\n",
       "</div>"
      ],
      "text/plain": [
       "        Package   Vulnerability               OS Package_Version OS_base_name  \\\n",
       "985      mcrypt   CVE-2012-4527  debian:unstable       2.6.8-1.3       debian   \n",
       "5           tar   CVE-2010-0624         debian:8          1.23-1       debian   \n",
       "1386       bash   CVE-2012-6711         debian:8           4.3-1       debian   \n",
       "350       unzip  CVE-2018-18384        debian:10          6.0-11       debian   \n",
       "188   coreutils   CVE-2017-2616  debian:unstable          8.20-1       debian   \n",
       "\n",
       "     Date_Reported  Date_Fixed  Days_For_Fix  \n",
       "985     2012-10-18  2018-12-12        2246.0  \n",
       "5       2005-12-23  2011-09-13        2090.0  \n",
       "1386    2019-06-17  2014-03-05        1930.0  \n",
       "350     2018-10-16  2014-04-30        1630.0  \n",
       "188     2017-03-21  2012-11-18        1584.0  "
      ]
     },
     "execution_count": 21,
     "metadata": {},
     "output_type": "execute_result"
    }
   ],
   "source": [
    "day_fixed_df.head()"
   ]
  },
  {
   "cell_type": "markdown",
   "metadata": {},
   "source": [
    "## Debian and Ubuntu are the Operating systems we analyzed"
   ]
  },
  {
   "cell_type": "code",
   "execution_count": 22,
   "metadata": {},
   "outputs": [
    {
     "data": {
      "text/plain": [
       "array(['alpine', 'debian', 'oracle', 'centos', 'ubuntu'], dtype=object)"
      ]
     },
     "execution_count": 22,
     "metadata": {},
     "output_type": "execute_result"
    }
   ],
   "source": [
    "data['OS_base_name'].unique()"
   ]
  },
  {
   "cell_type": "code",
   "execution_count": 23,
   "metadata": {
    "scrolled": true
   },
   "outputs": [
    {
     "data": {
      "text/html": [
       "<div>\n",
       "<style scoped>\n",
       "    .dataframe tbody tr th:only-of-type {\n",
       "        vertical-align: middle;\n",
       "    }\n",
       "\n",
       "    .dataframe tbody tr th {\n",
       "        vertical-align: top;\n",
       "    }\n",
       "\n",
       "    .dataframe thead th {\n",
       "        text-align: right;\n",
       "    }\n",
       "</style>\n",
       "<table border=\"1\" class=\"dataframe\">\n",
       "  <thead>\n",
       "    <tr style=\"text-align: right;\">\n",
       "      <th></th>\n",
       "      <th>Days_For_Fix</th>\n",
       "    </tr>\n",
       "    <tr>\n",
       "      <th>OS_base_name</th>\n",
       "      <th></th>\n",
       "    </tr>\n",
       "  </thead>\n",
       "  <tbody>\n",
       "    <tr>\n",
       "      <th>debian</th>\n",
       "      <td>30362.0</td>\n",
       "    </tr>\n",
       "    <tr>\n",
       "      <th>ubuntu</th>\n",
       "      <td>267.0</td>\n",
       "    </tr>\n",
       "    <tr>\n",
       "      <th>alpine</th>\n",
       "      <td>0.0</td>\n",
       "    </tr>\n",
       "    <tr>\n",
       "      <th>centos</th>\n",
       "      <td>0.0</td>\n",
       "    </tr>\n",
       "    <tr>\n",
       "      <th>oracle</th>\n",
       "      <td>0.0</td>\n",
       "    </tr>\n",
       "  </tbody>\n",
       "</table>\n",
       "</div>"
      ],
      "text/plain": [
       "              Days_For_Fix\n",
       "OS_base_name              \n",
       "debian             30362.0\n",
       "ubuntu               267.0\n",
       "alpine                 0.0\n",
       "centos                 0.0\n",
       "oracle                 0.0"
      ]
     },
     "execution_count": 23,
     "metadata": {},
     "output_type": "execute_result"
    }
   ],
   "source": [
    "data.groupby('OS_base_name').sum().sort_values('Days_For_Fix', ascending=False)"
   ]
  },
  {
   "cell_type": "code",
   "execution_count": 24,
   "metadata": {},
   "outputs": [
    {
     "data": {
      "text/plain": [
       "<Figure size 720x720 with 0 Axes>"
      ]
     },
     "metadata": {},
     "output_type": "display_data"
    },
    {
     "data": {
      "image/png": "[encoded data removed]",
      "text/plain": [
       "<Figure size 432x288 with 1 Axes>"
      ]
     },
     "metadata": {
      "needs_background": "light"
     },
     "output_type": "display_data"
    }
   ],
   "source": [
    "plt.figure(figsize=(10,10))\n",
    "ax = data.groupby('OS_base_name').sum().sort_values('Days_For_Fix', ascending=True).plot(kind='barh')\n",
    "ax.set(xlabel = 'No of days')\n",
    "plt.show()"
   ]
  },
  {
   "cell_type": "markdown",
   "metadata": {},
   "source": [
    "## Histograms to demonstrate how much time it takes for a fix"
   ]
  },
  {
   "cell_type": "code",
   "execution_count": 25,
   "metadata": {},
   "outputs": [
    {
     "data": {
      "image/png": "[encoded data removed]",
      "text/plain": [
       "<Figure size 720x720 with 1 Axes>"
      ]
     },
     "metadata": {
      "needs_background": "light"
     },
     "output_type": "display_data"
    }
   ],
   "source": [
    "plt.figure(figsize=(10,10))\n",
    "ax = day_fixed_df['Days_For_Fix'][day_fixed_df['OS_base_name']=='debian'].plot('hist',\n",
    "                                                                          title=\"Time for package vulnerability fixes for Debian\")\n",
    "ax.set(xlabel = 'No of days')\n",
    "\n",
    "plt.savefig(\"outputs/Debian_Vulnerability_Fixes.png\")\n",
    "\n",
    "plt.show()"
   ]
  },
  {
   "cell_type": "code",
   "execution_count": 26,
   "metadata": {},
   "outputs": [
    {
     "data": {
      "image/png": "[encoded data removed]",
      "text/plain": [
       "<Figure size 720x720 with 1 Axes>"
      ]
     },
     "metadata": {
      "needs_background": "light"
     },
     "output_type": "display_data"
    }
   ],
   "source": [
    "plt.figure(figsize=(10,10))\n",
    "ax = day_fixed_df['Days_For_Fix'][day_fixed_df['OS_base_name']=='ubuntu'].plot('hist',\n",
    "                                                                          title=\"Time for package vulnerability fixes for Ubuntu\")\n",
    "ax.set(xlabel = 'No of days')\n",
    "\n",
    "plt.savefig(\"outputs/Ubuntu_Vulnerability_Fixes.png\")\n",
    "\n",
    "plt.show()"
   ]
  },
  {
   "cell_type": "code",
   "execution_count": 27,
   "metadata": {},
   "outputs": [
    {
     "name": "stdout",
     "output_type": "stream",
     "text": [
      "For Debian:\n",
      "687 vulnerabilities were reported\n",
      "120 vulnerabilities were fixed\n"
     ]
    }
   ],
   "source": [
    "debian_info = data[data['OS_base_name']=='debian']\n",
    "print(\"For Debian:\")\n",
    "print(len(debian_info[~debian_info['Date_Reported'].isnull()]), \"vulnerabilities were reported\")\n",
    "print(len(debian_info[~debian_info['Date_Fixed'].isnull()]), \"vulnerabilities were fixed\")"
   ]
  },
  {
   "cell_type": "markdown",
   "metadata": {},
   "source": [
    "120 vulnerabilities out of 686 reported vulnerabilities were fixed. Rest are still unifixed."
   ]
  },
  {
   "cell_type": "code",
   "execution_count": 28,
   "metadata": {},
   "outputs": [
    {
     "name": "stdout",
     "output_type": "stream",
     "text": [
      "For Ubuntu:\n",
      "6 vulnerabilities were reported\n",
      "2 vulnerabilities were fixed\n"
     ]
    }
   ],
   "source": [
    "ubuntu_info = data[data['OS_base_name']=='ubuntu']\n",
    "print(\"For Ubuntu:\")\n",
    "print(len(ubuntu_info[~ubuntu_info['Date_Reported'].isnull()]), \"vulnerabilities were reported\")\n",
    "print(len(ubuntu_info[~ubuntu_info['Date_Fixed'].isnull()]), \"vulnerabilities were fixed\")"
   ]
  },
  {
   "cell_type": "markdown",
   "metadata": {},
   "source": [
    "__________"
   ]
  }
 ],
 "metadata": {
  "kernelspec": {
   "display_name": "Python 3",
   "language": "python",
   "name": "python3"
  },
  "language_info": {
   "codemirror_mode": {
    "name": "ipython",
    "version": 3
   },
   "file_extension": ".py",
   "mimetype": "text/x-python",
   "name": "python",
   "nbconvert_exporter": "python",
   "pygments_lexer": "ipython3",
   "version": "3.7.3"
  }
 },
 "nbformat": 4,
 "nbformat_minor": 2
}
