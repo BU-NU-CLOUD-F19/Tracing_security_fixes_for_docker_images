{
 "cells": [
  {
   "cell_type": "markdown",
   "metadata": {},
   "source": [
    "# Identify how fast OS packages respond to security vulnerabilities - Analysis"
   ]
  },
  {
   "cell_type": "code",
   "execution_count": 1,
   "metadata": {},
   "outputs": [],
   "source": [
    "import pandas as pd\n",
    "import numpy as np\n",
    "import matplotlib.pyplot as plt\n",
    "%matplotlib inline"
   ]
  },
  {
   "cell_type": "markdown",
   "metadata": {},
   "source": [
    "## Read in full report data "
   ]
  },
  {
   "cell_type": "code",
   "execution_count": 2,
   "metadata": {},
   "outputs": [],
   "source": [
    "full_data_path = \"../deliverable1/outputs/clair_reports.csv\"\n",
    "full_data = pd.read_csv(full_data_path, index_col = 0)"
   ]
  },
  {
   "cell_type": "code",
   "execution_count": 3,
   "metadata": {},
   "outputs": [
    {
     "data": {
      "text/html": [
       "<div>\n",
       "<style scoped>\n",
       "    .dataframe tbody tr th:only-of-type {\n",
       "        vertical-align: middle;\n",
       "    }\n",
       "\n",
       "    .dataframe tbody tr th {\n",
       "        vertical-align: top;\n",
       "    }\n",
       "\n",
       "    .dataframe thead th {\n",
       "        text-align: right;\n",
       "    }\n",
       "</style>\n",
       "<table border=\"1\" class=\"dataframe\">\n",
       "  <thead>\n",
       "    <tr style=\"text-align: right;\">\n",
       "      <th></th>\n",
       "      <th>Package</th>\n",
       "      <th>Vulnerability</th>\n",
       "      <th>OS</th>\n",
       "      <th>Package_Version</th>\n",
       "    </tr>\n",
       "    <tr>\n",
       "      <th>index</th>\n",
       "      <th></th>\n",
       "      <th></th>\n",
       "      <th></th>\n",
       "      <th></th>\n",
       "    </tr>\n",
       "  </thead>\n",
       "  <tbody>\n",
       "    <tr>\n",
       "      <th>0</th>\n",
       "      <td>tar</td>\n",
       "      <td>CVE-2018-20482</td>\n",
       "      <td>alpine:v3.6</td>\n",
       "      <td>1.31-r0</td>\n",
       "    </tr>\n",
       "    <tr>\n",
       "      <th>1</th>\n",
       "      <td>tar</td>\n",
       "      <td>CVE-2016-6321</td>\n",
       "      <td>alpine:v3.6</td>\n",
       "      <td>1.29-r1</td>\n",
       "    </tr>\n",
       "    <tr>\n",
       "      <th>2</th>\n",
       "      <td>tar</td>\n",
       "      <td>CVE-2016-6321</td>\n",
       "      <td>alpine:v3.7</td>\n",
       "      <td>1.29-r1</td>\n",
       "    </tr>\n",
       "    <tr>\n",
       "      <th>3</th>\n",
       "      <td>tar</td>\n",
       "      <td>CVE-2018-20482</td>\n",
       "      <td>alpine:v3.7</td>\n",
       "      <td>1.31-r0</td>\n",
       "    </tr>\n",
       "    <tr>\n",
       "      <th>4</th>\n",
       "      <td>tar</td>\n",
       "      <td>CVE-2016-6321</td>\n",
       "      <td>alpine:v3.8</td>\n",
       "      <td>1.29-r1</td>\n",
       "    </tr>\n",
       "    <tr>\n",
       "      <th>5</th>\n",
       "      <td>tar</td>\n",
       "      <td>CVE-2018-20482</td>\n",
       "      <td>alpine:v3.8</td>\n",
       "      <td>1.31-r0</td>\n",
       "    </tr>\n",
       "    <tr>\n",
       "      <th>6</th>\n",
       "      <td>tar</td>\n",
       "      <td>CVE-2016-6321</td>\n",
       "      <td>alpine:v3.4</td>\n",
       "      <td>1.29-r1</td>\n",
       "    </tr>\n",
       "    <tr>\n",
       "      <th>7</th>\n",
       "      <td>tar</td>\n",
       "      <td>CVE-2018-20482</td>\n",
       "      <td>alpine:v3.10</td>\n",
       "      <td>1.31-r0</td>\n",
       "    </tr>\n",
       "    <tr>\n",
       "      <th>8</th>\n",
       "      <td>tar</td>\n",
       "      <td>CVE-2016-6321</td>\n",
       "      <td>alpine:v3.10</td>\n",
       "      <td>1.29-r1</td>\n",
       "    </tr>\n",
       "    <tr>\n",
       "      <th>9</th>\n",
       "      <td>tar</td>\n",
       "      <td>CVE-2018-20482</td>\n",
       "      <td>alpine:v3.9</td>\n",
       "      <td>1.31-r0</td>\n",
       "    </tr>\n",
       "    <tr>\n",
       "      <th>10</th>\n",
       "      <td>tar</td>\n",
       "      <td>CVE-2016-6321</td>\n",
       "      <td>alpine:v3.9</td>\n",
       "      <td>1.29-r1</td>\n",
       "    </tr>\n",
       "    <tr>\n",
       "      <th>11</th>\n",
       "      <td>tar</td>\n",
       "      <td>CVE-2016-6321</td>\n",
       "      <td>alpine:v3.5</td>\n",
       "      <td>1.29-r1</td>\n",
       "    </tr>\n",
       "    <tr>\n",
       "      <th>12</th>\n",
       "      <td>tar</td>\n",
       "      <td>CVE-2019-9923</td>\n",
       "      <td>debian:8</td>\n",
       "      <td>#MAXV#</td>\n",
       "    </tr>\n",
       "    <tr>\n",
       "      <th>13</th>\n",
       "      <td>tar</td>\n",
       "      <td>CVE-2018-20482</td>\n",
       "      <td>debian:8</td>\n",
       "      <td>1.27.1-2+deb8u2</td>\n",
       "    </tr>\n",
       "    <tr>\n",
       "      <th>14</th>\n",
       "      <td>tar</td>\n",
       "      <td>CVE-2007-4131</td>\n",
       "      <td>debian:8</td>\n",
       "      <td>1.18-2</td>\n",
       "    </tr>\n",
       "    <tr>\n",
       "      <th>15</th>\n",
       "      <td>tar</td>\n",
       "      <td>CVE-2007-4476</td>\n",
       "      <td>debian:8</td>\n",
       "      <td>1.18-1</td>\n",
       "    </tr>\n",
       "    <tr>\n",
       "      <th>16</th>\n",
       "      <td>tar</td>\n",
       "      <td>CVE-2010-0624</td>\n",
       "      <td>debian:8</td>\n",
       "      <td>1.23-1</td>\n",
       "    </tr>\n",
       "    <tr>\n",
       "      <th>17</th>\n",
       "      <td>tar</td>\n",
       "      <td>CVE-2016-6321</td>\n",
       "      <td>debian:8</td>\n",
       "      <td>1.27.1-2+deb8u1</td>\n",
       "    </tr>\n",
       "    <tr>\n",
       "      <th>18</th>\n",
       "      <td>tar</td>\n",
       "      <td>CVE-2005-2541</td>\n",
       "      <td>debian:8</td>\n",
       "      <td>#MAXV#</td>\n",
       "    </tr>\n",
       "    <tr>\n",
       "      <th>19</th>\n",
       "      <td>tar</td>\n",
       "      <td>CVE-2006-6097</td>\n",
       "      <td>debian:8</td>\n",
       "      <td>1.16-2</td>\n",
       "    </tr>\n",
       "  </tbody>\n",
       "</table>\n",
       "</div>"
      ],
      "text/plain": [
       "      Package   Vulnerability            OS  Package_Version\n",
       "index                                                       \n",
       "0         tar  CVE-2018-20482   alpine:v3.6          1.31-r0\n",
       "1         tar   CVE-2016-6321   alpine:v3.6          1.29-r1\n",
       "2         tar   CVE-2016-6321   alpine:v3.7          1.29-r1\n",
       "3         tar  CVE-2018-20482   alpine:v3.7          1.31-r0\n",
       "4         tar   CVE-2016-6321   alpine:v3.8          1.29-r1\n",
       "5         tar  CVE-2018-20482   alpine:v3.8          1.31-r0\n",
       "6         tar   CVE-2016-6321   alpine:v3.4          1.29-r1\n",
       "7         tar  CVE-2018-20482  alpine:v3.10          1.31-r0\n",
       "8         tar   CVE-2016-6321  alpine:v3.10          1.29-r1\n",
       "9         tar  CVE-2018-20482   alpine:v3.9          1.31-r0\n",
       "10        tar   CVE-2016-6321   alpine:v3.9          1.29-r1\n",
       "11        tar   CVE-2016-6321   alpine:v3.5          1.29-r1\n",
       "12        tar   CVE-2019-9923      debian:8           #MAXV#\n",
       "13        tar  CVE-2018-20482      debian:8  1.27.1-2+deb8u2\n",
       "14        tar   CVE-2007-4131      debian:8           1.18-2\n",
       "15        tar   CVE-2007-4476      debian:8           1.18-1\n",
       "16        tar   CVE-2010-0624      debian:8           1.23-1\n",
       "17        tar   CVE-2016-6321      debian:8  1.27.1-2+deb8u1\n",
       "18        tar   CVE-2005-2541      debian:8           #MAXV#\n",
       "19        tar   CVE-2006-6097      debian:8           1.16-2"
      ]
     },
     "execution_count": 3,
     "metadata": {},
     "output_type": "execute_result"
    }
   ],
   "source": [
    "full_data.head(20)"
   ]
  },
  {
   "cell_type": "markdown",
   "metadata": {},
   "source": [
    "## Distribution of packages in the full data"
   ]
  },
  {
   "cell_type": "code",
   "execution_count": 4,
   "metadata": {},
   "outputs": [
    {
     "data": {
      "image/png": "[encoded data removed]",
      "text/plain": [
       "<Figure size 720x720 with 1 Axes>"
      ]
     },
     "metadata": {
      "needs_background": "light"
     },
     "output_type": "display_data"
    }
   ],
   "source": [
    "plt.figure(figsize=(10,10))\n",
    "full_data.Package.value_counts()[::-1].plot('barh', \n",
    "                                             title=\"Number of vulnerabilities per package in the full data\")\n",
    "plt.savefig(\"outputs/Number_of_vulnerabilities_per_package_in_the_full_data.png\")\n",
    "\n",
    "plt.show()"
   ]
  },
  {
   "cell_type": "markdown",
   "metadata": {},
   "source": [
    "## Full data contained duplicate vulnerabilities "
   ]
  },
  {
   "cell_type": "code",
   "execution_count": 5,
   "metadata": {},
   "outputs": [],
   "source": [
    "full_data['OS_base_name'] = full_data.apply(lambda row: row['OS'].split(\":\")[0], axis=1)"
   ]
  },
  {
   "cell_type": "code",
   "execution_count": 6,
   "metadata": {},
   "outputs": [
    {
     "data": {
      "text/html": [
       "<div>\n",
       "<style scoped>\n",
       "    .dataframe tbody tr th:only-of-type {\n",
       "        vertical-align: middle;\n",
       "    }\n",
       "\n",
       "    .dataframe tbody tr th {\n",
       "        vertical-align: top;\n",
       "    }\n",
       "\n",
       "    .dataframe thead th {\n",
       "        text-align: right;\n",
       "    }\n",
       "</style>\n",
       "<table border=\"1\" class=\"dataframe\">\n",
       "  <thead>\n",
       "    <tr style=\"text-align: right;\">\n",
       "      <th></th>\n",
       "      <th>Package</th>\n",
       "      <th>Vulnerability</th>\n",
       "      <th>OS</th>\n",
       "      <th>Package_Version</th>\n",
       "      <th>OS_base_name</th>\n",
       "    </tr>\n",
       "    <tr>\n",
       "      <th>index</th>\n",
       "      <th></th>\n",
       "      <th></th>\n",
       "      <th></th>\n",
       "      <th></th>\n",
       "      <th></th>\n",
       "    </tr>\n",
       "  </thead>\n",
       "  <tbody>\n",
       "    <tr>\n",
       "      <th>2</th>\n",
       "      <td>tar</td>\n",
       "      <td>CVE-2016-6321</td>\n",
       "      <td>alpine:v3.7</td>\n",
       "      <td>1.29-r1</td>\n",
       "      <td>alpine</td>\n",
       "    </tr>\n",
       "    <tr>\n",
       "      <th>3</th>\n",
       "      <td>tar</td>\n",
       "      <td>CVE-2018-20482</td>\n",
       "      <td>alpine:v3.7</td>\n",
       "      <td>1.31-r0</td>\n",
       "      <td>alpine</td>\n",
       "    </tr>\n",
       "    <tr>\n",
       "      <th>4</th>\n",
       "      <td>tar</td>\n",
       "      <td>CVE-2016-6321</td>\n",
       "      <td>alpine:v3.8</td>\n",
       "      <td>1.29-r1</td>\n",
       "      <td>alpine</td>\n",
       "    </tr>\n",
       "    <tr>\n",
       "      <th>5</th>\n",
       "      <td>tar</td>\n",
       "      <td>CVE-2018-20482</td>\n",
       "      <td>alpine:v3.8</td>\n",
       "      <td>1.31-r0</td>\n",
       "      <td>alpine</td>\n",
       "    </tr>\n",
       "    <tr>\n",
       "      <th>6</th>\n",
       "      <td>tar</td>\n",
       "      <td>CVE-2016-6321</td>\n",
       "      <td>alpine:v3.4</td>\n",
       "      <td>1.29-r1</td>\n",
       "      <td>alpine</td>\n",
       "    </tr>\n",
       "    <tr>\n",
       "      <th>7</th>\n",
       "      <td>tar</td>\n",
       "      <td>CVE-2018-20482</td>\n",
       "      <td>alpine:v3.10</td>\n",
       "      <td>1.31-r0</td>\n",
       "      <td>alpine</td>\n",
       "    </tr>\n",
       "    <tr>\n",
       "      <th>8</th>\n",
       "      <td>tar</td>\n",
       "      <td>CVE-2016-6321</td>\n",
       "      <td>alpine:v3.10</td>\n",
       "      <td>1.29-r1</td>\n",
       "      <td>alpine</td>\n",
       "    </tr>\n",
       "    <tr>\n",
       "      <th>9</th>\n",
       "      <td>tar</td>\n",
       "      <td>CVE-2018-20482</td>\n",
       "      <td>alpine:v3.9</td>\n",
       "      <td>1.31-r0</td>\n",
       "      <td>alpine</td>\n",
       "    </tr>\n",
       "    <tr>\n",
       "      <th>10</th>\n",
       "      <td>tar</td>\n",
       "      <td>CVE-2016-6321</td>\n",
       "      <td>alpine:v3.9</td>\n",
       "      <td>1.29-r1</td>\n",
       "      <td>alpine</td>\n",
       "    </tr>\n",
       "    <tr>\n",
       "      <th>11</th>\n",
       "      <td>tar</td>\n",
       "      <td>CVE-2016-6321</td>\n",
       "      <td>alpine:v3.5</td>\n",
       "      <td>1.29-r1</td>\n",
       "      <td>alpine</td>\n",
       "    </tr>\n",
       "    <tr>\n",
       "      <th>23</th>\n",
       "      <td>tar</td>\n",
       "      <td>CVE-2007-4131</td>\n",
       "      <td>debian:9</td>\n",
       "      <td>1.18-2</td>\n",
       "      <td>debian</td>\n",
       "    </tr>\n",
       "    <tr>\n",
       "      <th>25</th>\n",
       "      <td>tar</td>\n",
       "      <td>CVE-2002-1216</td>\n",
       "      <td>debian:9</td>\n",
       "      <td>1.13.25</td>\n",
       "      <td>debian</td>\n",
       "    </tr>\n",
       "    <tr>\n",
       "      <th>26</th>\n",
       "      <td>tar</td>\n",
       "      <td>CVE-2007-4476</td>\n",
       "      <td>debian:9</td>\n",
       "      <td>1.18-1</td>\n",
       "      <td>debian</td>\n",
       "    </tr>\n",
       "    <tr>\n",
       "      <th>28</th>\n",
       "      <td>tar</td>\n",
       "      <td>CVE-2010-0624</td>\n",
       "      <td>debian:9</td>\n",
       "      <td>1.23-1</td>\n",
       "      <td>debian</td>\n",
       "    </tr>\n",
       "    <tr>\n",
       "      <th>29</th>\n",
       "      <td>tar</td>\n",
       "      <td>CVE-2005-2541</td>\n",
       "      <td>debian:9</td>\n",
       "      <td>#MAXV#</td>\n",
       "      <td>debian</td>\n",
       "    </tr>\n",
       "    <tr>\n",
       "      <th>30</th>\n",
       "      <td>tar</td>\n",
       "      <td>CVE-2006-0300</td>\n",
       "      <td>debian:9</td>\n",
       "      <td>1.15.1-3</td>\n",
       "      <td>debian</td>\n",
       "    </tr>\n",
       "    <tr>\n",
       "      <th>31</th>\n",
       "      <td>tar</td>\n",
       "      <td>CVE-2019-9923</td>\n",
       "      <td>debian:9</td>\n",
       "      <td>#MAXV#</td>\n",
       "      <td>debian</td>\n",
       "    </tr>\n",
       "    <tr>\n",
       "      <th>32</th>\n",
       "      <td>tar</td>\n",
       "      <td>CVE-2005-1918</td>\n",
       "      <td>debian:9</td>\n",
       "      <td>1.14-2.2</td>\n",
       "      <td>debian</td>\n",
       "    </tr>\n",
       "    <tr>\n",
       "      <th>33</th>\n",
       "      <td>tar</td>\n",
       "      <td>CVE-2006-6097</td>\n",
       "      <td>debian:9</td>\n",
       "      <td>1.16-2</td>\n",
       "      <td>debian</td>\n",
       "    </tr>\n",
       "    <tr>\n",
       "      <th>34</th>\n",
       "      <td>tar</td>\n",
       "      <td>CVE-2019-9923</td>\n",
       "      <td>debian:unstable</td>\n",
       "      <td>#MAXV#</td>\n",
       "      <td>debian</td>\n",
       "    </tr>\n",
       "  </tbody>\n",
       "</table>\n",
       "</div>"
      ],
      "text/plain": [
       "      Package   Vulnerability               OS Package_Version OS_base_name\n",
       "index                                                                      \n",
       "2         tar   CVE-2016-6321      alpine:v3.7         1.29-r1       alpine\n",
       "3         tar  CVE-2018-20482      alpine:v3.7         1.31-r0       alpine\n",
       "4         tar   CVE-2016-6321      alpine:v3.8         1.29-r1       alpine\n",
       "5         tar  CVE-2018-20482      alpine:v3.8         1.31-r0       alpine\n",
       "6         tar   CVE-2016-6321      alpine:v3.4         1.29-r1       alpine\n",
       "7         tar  CVE-2018-20482     alpine:v3.10         1.31-r0       alpine\n",
       "8         tar   CVE-2016-6321     alpine:v3.10         1.29-r1       alpine\n",
       "9         tar  CVE-2018-20482      alpine:v3.9         1.31-r0       alpine\n",
       "10        tar   CVE-2016-6321      alpine:v3.9         1.29-r1       alpine\n",
       "11        tar   CVE-2016-6321      alpine:v3.5         1.29-r1       alpine\n",
       "23        tar   CVE-2007-4131         debian:9          1.18-2       debian\n",
       "25        tar   CVE-2002-1216         debian:9         1.13.25       debian\n",
       "26        tar   CVE-2007-4476         debian:9          1.18-1       debian\n",
       "28        tar   CVE-2010-0624         debian:9          1.23-1       debian\n",
       "29        tar   CVE-2005-2541         debian:9          #MAXV#       debian\n",
       "30        tar   CVE-2006-0300         debian:9        1.15.1-3       debian\n",
       "31        tar   CVE-2019-9923         debian:9          #MAXV#       debian\n",
       "32        tar   CVE-2005-1918         debian:9        1.14-2.2       debian\n",
       "33        tar   CVE-2006-6097         debian:9          1.16-2       debian\n",
       "34        tar   CVE-2019-9923  debian:unstable          #MAXV#       debian"
      ]
     },
     "execution_count": 6,
     "metadata": {},
     "output_type": "execute_result"
    }
   ],
   "source": [
    "full_data[full_data[['Package', 'Vulnerability', 'OS_base_name', 'Package_Version']].duplicated()].head(20)"
   ]
  },
  {
   "cell_type": "markdown",
   "metadata": {},
   "source": [
    "## Reading the de-duplicated data "
   ]
  },
  {
   "cell_type": "code",
   "execution_count": 7,
   "metadata": {
    "scrolled": true
   },
   "outputs": [],
   "source": [
    "data = full_data[~full_data[['Package', 'Vulnerability', 'Package_Version', 'OS_base_name']].duplicated()]"
   ]
  },
  {
   "cell_type": "code",
   "execution_count": 8,
   "metadata": {},
   "outputs": [
    {
     "data": {
      "text/plain": [
       "(3604, 5)"
      ]
     },
     "execution_count": 8,
     "metadata": {},
     "output_type": "execute_result"
    }
   ],
   "source": [
    "data.shape"
   ]
  },
  {
   "cell_type": "code",
   "execution_count": 9,
   "metadata": {
    "scrolled": true
   },
   "outputs": [
    {
     "data": {
      "text/plain": [
       "debian    1324\n",
       "ubuntu    1301\n",
       "alpine     442\n",
       "oracle     272\n",
       "centos     265\n",
       "Name: OS_base_name, dtype: int64"
      ]
     },
     "execution_count": 9,
     "metadata": {},
     "output_type": "execute_result"
    }
   ],
   "source": [
    "data.OS_base_name.value_counts()"
   ]
  },
  {
   "cell_type": "code",
   "execution_count": 12,
   "metadata": {},
   "outputs": [],
   "source": [
    "data_path = \"../deliverable1/outputs/vulnerability_timestamps.csv\"\n",
    "data.to_csv(data_path)"
   ]
  },
  {
   "cell_type": "code",
   "execution_count": 13,
   "metadata": {},
   "outputs": [],
   "source": [
    "data = pd.read_csv(data_path)\n",
    "columns = ['Package', 'Vulnerability', 'OS', 'Package_Version', 'OS_base_name', \n",
    "           'Date_Reported', 'Date_Fixed', 'Days_For_Fix']\n",
    "data = data[columns]"
   ]
  },
  {
   "cell_type": "code",
   "execution_count": 16,
   "metadata": {},
   "outputs": [
    {
     "data": {
      "text/html": [
       "<div>\n",
       "<style scoped>\n",
       "    .dataframe tbody tr th:only-of-type {\n",
       "        vertical-align: middle;\n",
       "    }\n",
       "\n",
       "    .dataframe tbody tr th {\n",
       "        vertical-align: top;\n",
       "    }\n",
       "\n",
       "    .dataframe thead th {\n",
       "        text-align: right;\n",
       "    }\n",
       "</style>\n",
       "<table border=\"1\" class=\"dataframe\">\n",
       "  <thead>\n",
       "    <tr style=\"text-align: right;\">\n",
       "      <th></th>\n",
       "      <th>Package</th>\n",
       "      <th>Vulnerability</th>\n",
       "      <th>OS</th>\n",
       "      <th>Package_Version</th>\n",
       "      <th>OS_base_name</th>\n",
       "      <th>Date_Reported</th>\n",
       "      <th>Date_Fixed</th>\n",
       "      <th>Days_For_Fix</th>\n",
       "    </tr>\n",
       "  </thead>\n",
       "  <tbody>\n",
       "    <tr>\n",
       "      <th>0</th>\n",
       "      <td>tar</td>\n",
       "      <td>CVE-2018-20482</td>\n",
       "      <td>alpine:v3.6</td>\n",
       "      <td>1.31-r0</td>\n",
       "      <td>alpine</td>\n",
       "      <td>2018-12-26</td>\n",
       "      <td>NaN</td>\n",
       "      <td>NaN</td>\n",
       "    </tr>\n",
       "    <tr>\n",
       "      <th>1</th>\n",
       "      <td>tar</td>\n",
       "      <td>CVE-2016-6321</td>\n",
       "      <td>alpine:v3.6</td>\n",
       "      <td>1.29-r1</td>\n",
       "      <td>alpine</td>\n",
       "      <td>2016-10-27</td>\n",
       "      <td>NaN</td>\n",
       "      <td>NaN</td>\n",
       "    </tr>\n",
       "    <tr>\n",
       "      <th>2</th>\n",
       "      <td>tar</td>\n",
       "      <td>CVE-2019-9923</td>\n",
       "      <td>debian:8</td>\n",
       "      <td>#MAXV#</td>\n",
       "      <td>debian</td>\n",
       "      <td>2019-01-02</td>\n",
       "      <td>NaN</td>\n",
       "      <td>NaN</td>\n",
       "    </tr>\n",
       "    <tr>\n",
       "      <th>3</th>\n",
       "      <td>tar</td>\n",
       "      <td>CVE-2018-20482</td>\n",
       "      <td>debian:8</td>\n",
       "      <td>1.27.1-2+deb8u2</td>\n",
       "      <td>debian</td>\n",
       "      <td>2018-12-26</td>\n",
       "      <td>NaN</td>\n",
       "      <td>NaN</td>\n",
       "    </tr>\n",
       "    <tr>\n",
       "      <th>4</th>\n",
       "      <td>tar</td>\n",
       "      <td>CVE-2007-4131</td>\n",
       "      <td>debian:8</td>\n",
       "      <td>1.18-2</td>\n",
       "      <td>debian</td>\n",
       "      <td>2007-08-13</td>\n",
       "      <td>NaN</td>\n",
       "      <td>NaN</td>\n",
       "    </tr>\n",
       "    <tr>\n",
       "      <th>5</th>\n",
       "      <td>tar</td>\n",
       "      <td>CVE-2007-4476</td>\n",
       "      <td>debian:8</td>\n",
       "      <td>1.18-1</td>\n",
       "      <td>debian</td>\n",
       "      <td>2007-08-13</td>\n",
       "      <td>NaN</td>\n",
       "      <td>NaN</td>\n",
       "    </tr>\n",
       "    <tr>\n",
       "      <th>6</th>\n",
       "      <td>tar</td>\n",
       "      <td>CVE-2010-0624</td>\n",
       "      <td>debian:8</td>\n",
       "      <td>1.23-1</td>\n",
       "      <td>debian</td>\n",
       "      <td>2005-12-23</td>\n",
       "      <td>2011-09-13</td>\n",
       "      <td>2090.0</td>\n",
       "    </tr>\n",
       "  </tbody>\n",
       "</table>\n",
       "</div>"
      ],
      "text/plain": [
       "  Package   Vulnerability           OS  Package_Version OS_base_name  \\\n",
       "0     tar  CVE-2018-20482  alpine:v3.6          1.31-r0       alpine   \n",
       "1     tar   CVE-2016-6321  alpine:v3.6          1.29-r1       alpine   \n",
       "2     tar   CVE-2019-9923     debian:8           #MAXV#       debian   \n",
       "3     tar  CVE-2018-20482     debian:8  1.27.1-2+deb8u2       debian   \n",
       "4     tar   CVE-2007-4131     debian:8           1.18-2       debian   \n",
       "5     tar   CVE-2007-4476     debian:8           1.18-1       debian   \n",
       "6     tar   CVE-2010-0624     debian:8           1.23-1       debian   \n",
       "\n",
       "  Date_Reported  Date_Fixed  Days_For_Fix  \n",
       "0    2018-12-26         NaN           NaN  \n",
       "1    2016-10-27         NaN           NaN  \n",
       "2    2019-01-02         NaN           NaN  \n",
       "3    2018-12-26         NaN           NaN  \n",
       "4    2007-08-13         NaN           NaN  \n",
       "5    2007-08-13         NaN           NaN  \n",
       "6    2005-12-23  2011-09-13        2090.0  "
      ]
     },
     "execution_count": 16,
     "metadata": {},
     "output_type": "execute_result"
    }
   ],
   "source": [
    "data.head(7)"
   ]
  },
  {
   "cell_type": "markdown",
   "metadata": {},
   "source": [
    "Our script is able to get dates when a vulnerability is reported using the XForce API. We scrape data for the date when a vulnerability is fixed. "
   ]
  },
  {
   "cell_type": "code",
   "execution_count": 17,
   "metadata": {},
   "outputs": [
    {
     "data": {
      "text/plain": [
       "(3604, 8)"
      ]
     },
     "execution_count": 17,
     "metadata": {},
     "output_type": "execute_result"
    }
   ],
   "source": [
    "data.shape"
   ]
  },
  {
   "cell_type": "markdown",
   "metadata": {},
   "source": [
    "There are 54 packages to be tracked"
   ]
  },
  {
   "cell_type": "code",
   "execution_count": 18,
   "metadata": {},
   "outputs": [
    {
     "data": {
      "text/plain": [
       "54"
      ]
     },
     "execution_count": 18,
     "metadata": {},
     "output_type": "execute_result"
    }
   ],
   "source": [
    "len(data.Package.unique())"
   ]
  },
  {
   "cell_type": "markdown",
   "metadata": {},
   "source": [
    "Some of the packages can be seen here:"
   ]
  },
  {
   "cell_type": "code",
   "execution_count": 19,
   "metadata": {},
   "outputs": [
    {
     "data": {
      "text/plain": [
       "array(['tar', 'redmine', 'python', 'yum-utils', 'vim', 'perl',\n",
       "       'coreutils', 'nodejs', 'zip', 'libcap', 'tcl', 'subversion',\n",
       "       'byobu', 'dpkg', 'libstdc++', 'unzip', 'npm', 'openssl', 'node',\n",
       "       'gnupg2', 'ca-certificates', 'python-httplib2', 'git', 'binutils',\n",
       "       'procps', 'iputils', 'jq', 'gcc', 'htop', 'wget', 'gnupg',\n",
       "       'mcrypt', 'gd', 'postgresql', 'pwgen', 'gettext', 'findutils',\n",
       "       'patch', 'bzip2', 'flex', 'dirmngr', 'go', 'ruby', 'exif',\n",
       "       'net-tools', 'curl', 'grep', 'libgcc', 'bzr', 'runit', 'mercurial',\n",
       "       'sysstat', 'bash', 'tk'], dtype=object)"
      ]
     },
     "execution_count": 19,
     "metadata": {},
     "output_type": "execute_result"
    }
   ],
   "source": [
    "data.Package.unique()"
   ]
  },
  {
   "cell_type": "code",
   "execution_count": 20,
   "metadata": {},
   "outputs": [
    {
     "data": {
      "text/html": [
       "<div>\n",
       "<style scoped>\n",
       "    .dataframe tbody tr th:only-of-type {\n",
       "        vertical-align: middle;\n",
       "    }\n",
       "\n",
       "    .dataframe tbody tr th {\n",
       "        vertical-align: top;\n",
       "    }\n",
       "\n",
       "    .dataframe thead th {\n",
       "        text-align: right;\n",
       "    }\n",
       "</style>\n",
       "<table border=\"1\" class=\"dataframe\">\n",
       "  <thead>\n",
       "    <tr style=\"text-align: right;\">\n",
       "      <th></th>\n",
       "      <th>Package</th>\n",
       "      <th>Vulnerability</th>\n",
       "      <th>OS</th>\n",
       "      <th>Package_Version</th>\n",
       "      <th>OS_base_name</th>\n",
       "      <th>Date_Reported</th>\n",
       "      <th>Date_Fixed</th>\n",
       "      <th>Days_For_Fix</th>\n",
       "    </tr>\n",
       "  </thead>\n",
       "  <tbody>\n",
       "    <tr>\n",
       "      <th>0</th>\n",
       "      <td>bash</td>\n",
       "      <td>CVE-2016-7543</td>\n",
       "      <td>debian:10</td>\n",
       "      <td>4.4-1</td>\n",
       "      <td>debian</td>\n",
       "      <td>2016-09-16</td>\n",
       "      <td>2016-11-21</td>\n",
       "      <td>66.0</td>\n",
       "    </tr>\n",
       "    <tr>\n",
       "      <th>1</th>\n",
       "      <td>bash</td>\n",
       "      <td>CVE-2017-5932</td>\n",
       "      <td>debian:10</td>\n",
       "      <td>4.4-3</td>\n",
       "      <td>debian</td>\n",
       "      <td>2017-02-07</td>\n",
       "      <td>2017-01-25</td>\n",
       "      <td>13.0</td>\n",
       "    </tr>\n",
       "    <tr>\n",
       "      <th>2</th>\n",
       "      <td>bash</td>\n",
       "      <td>CVE-2016-9401</td>\n",
       "      <td>debian:10</td>\n",
       "      <td>4.4-3</td>\n",
       "      <td>debian</td>\n",
       "      <td>2016-11-17</td>\n",
       "      <td>2017-01-25</td>\n",
       "      <td>69.0</td>\n",
       "    </tr>\n",
       "    <tr>\n",
       "      <th>3</th>\n",
       "      <td>bash</td>\n",
       "      <td>CVE-2014-6277</td>\n",
       "      <td>ubuntu:12.04</td>\n",
       "      <td>4.2-2ubuntu2.6</td>\n",
       "      <td>ubuntu</td>\n",
       "      <td>2014-09-27</td>\n",
       "      <td>2014-10-09</td>\n",
       "      <td>12.0</td>\n",
       "    </tr>\n",
       "    <tr>\n",
       "      <th>4</th>\n",
       "      <td>bash</td>\n",
       "      <td>CVE-2014-6278</td>\n",
       "      <td>ubuntu:12.04</td>\n",
       "      <td>4.2-2ubuntu2.6</td>\n",
       "      <td>ubuntu</td>\n",
       "      <td>2014-09-27</td>\n",
       "      <td>2014-10-09</td>\n",
       "      <td>12.0</td>\n",
       "    </tr>\n",
       "    <tr>\n",
       "      <th>5</th>\n",
       "      <td>bash</td>\n",
       "      <td>CVE-2016-0634</td>\n",
       "      <td>ubuntu:16.10</td>\n",
       "      <td>4.3-15ubuntu1.1</td>\n",
       "      <td>ubuntu</td>\n",
       "      <td>2016-09-16</td>\n",
       "      <td>2018-01-23</td>\n",
       "      <td>494.0</td>\n",
       "    </tr>\n",
       "    <tr>\n",
       "      <th>6</th>\n",
       "      <td>bash</td>\n",
       "      <td>CVE-2016-9401</td>\n",
       "      <td>ubuntu:16.10</td>\n",
       "      <td>4.3-15ubuntu1.1</td>\n",
       "      <td>ubuntu</td>\n",
       "      <td>2016-11-17</td>\n",
       "      <td>2018-01-23</td>\n",
       "      <td>432.0</td>\n",
       "    </tr>\n",
       "    <tr>\n",
       "      <th>7</th>\n",
       "      <td>bash</td>\n",
       "      <td>CVE-2016-7543</td>\n",
       "      <td>ubuntu:16.10</td>\n",
       "      <td>4.3-15ubuntu1.1</td>\n",
       "      <td>ubuntu</td>\n",
       "      <td>2016-09-16</td>\n",
       "      <td>2018-01-23</td>\n",
       "      <td>494.0</td>\n",
       "    </tr>\n",
       "    <tr>\n",
       "      <th>8</th>\n",
       "      <td>bash</td>\n",
       "      <td>CVE-2016-9401</td>\n",
       "      <td>ubuntu:14.04</td>\n",
       "      <td>4.3-7ubuntu1.7</td>\n",
       "      <td>ubuntu</td>\n",
       "      <td>2016-11-17</td>\n",
       "      <td>2017-05-17</td>\n",
       "      <td>181.0</td>\n",
       "    </tr>\n",
       "    <tr>\n",
       "      <th>9</th>\n",
       "      <td>bash</td>\n",
       "      <td>CVE-2016-7543</td>\n",
       "      <td>ubuntu:14.04</td>\n",
       "      <td>4.3-7ubuntu1.7</td>\n",
       "      <td>ubuntu</td>\n",
       "      <td>2016-09-16</td>\n",
       "      <td>2017-05-17</td>\n",
       "      <td>243.0</td>\n",
       "    </tr>\n",
       "    <tr>\n",
       "      <th>10</th>\n",
       "      <td>bash</td>\n",
       "      <td>CVE-2014-6277</td>\n",
       "      <td>ubuntu:14.04</td>\n",
       "      <td>4.3-7ubuntu1.5</td>\n",
       "      <td>ubuntu</td>\n",
       "      <td>2014-09-27</td>\n",
       "      <td>2017-05-04</td>\n",
       "      <td>950.0</td>\n",
       "    </tr>\n",
       "    <tr>\n",
       "      <th>11</th>\n",
       "      <td>bash</td>\n",
       "      <td>CVE-2014-6278</td>\n",
       "      <td>ubuntu:14.04</td>\n",
       "      <td>4.3-7ubuntu1.5</td>\n",
       "      <td>ubuntu</td>\n",
       "      <td>2014-09-27</td>\n",
       "      <td>2017-05-04</td>\n",
       "      <td>950.0</td>\n",
       "    </tr>\n",
       "    <tr>\n",
       "      <th>12</th>\n",
       "      <td>bash</td>\n",
       "      <td>CVE-2016-0634</td>\n",
       "      <td>ubuntu:14.04</td>\n",
       "      <td>4.3-7ubuntu1.7</td>\n",
       "      <td>ubuntu</td>\n",
       "      <td>2016-09-16</td>\n",
       "      <td>2017-05-17</td>\n",
       "      <td>243.0</td>\n",
       "    </tr>\n",
       "    <tr>\n",
       "      <th>13</th>\n",
       "      <td>bash</td>\n",
       "      <td>CVE-2016-9401</td>\n",
       "      <td>ubuntu:16.04</td>\n",
       "      <td>4.3-14ubuntu1.2</td>\n",
       "      <td>ubuntu</td>\n",
       "      <td>2016-11-17</td>\n",
       "      <td>2019-05-16</td>\n",
       "      <td>910.0</td>\n",
       "    </tr>\n",
       "    <tr>\n",
       "      <th>14</th>\n",
       "      <td>bash</td>\n",
       "      <td>CVE-2016-7543</td>\n",
       "      <td>ubuntu:16.04</td>\n",
       "      <td>4.3-14ubuntu1.2</td>\n",
       "      <td>ubuntu</td>\n",
       "      <td>2016-09-16</td>\n",
       "      <td>2019-05-16</td>\n",
       "      <td>972.0</td>\n",
       "    </tr>\n",
       "    <tr>\n",
       "      <th>15</th>\n",
       "      <td>bash</td>\n",
       "      <td>CVE-2016-0634</td>\n",
       "      <td>ubuntu:16.04</td>\n",
       "      <td>4.3-14ubuntu1.2</td>\n",
       "      <td>ubuntu</td>\n",
       "      <td>2016-09-16</td>\n",
       "      <td>2019-05-16</td>\n",
       "      <td>972.0</td>\n",
       "    </tr>\n",
       "    <tr>\n",
       "      <th>16</th>\n",
       "      <td>bash</td>\n",
       "      <td>CVE-2019-9924</td>\n",
       "      <td>ubuntu:16.04</td>\n",
       "      <td>4.3-14ubuntu1.4</td>\n",
       "      <td>ubuntu</td>\n",
       "      <td>2018-11-14</td>\n",
       "      <td>2019-07-15</td>\n",
       "      <td>243.0</td>\n",
       "    </tr>\n",
       "    <tr>\n",
       "      <th>17</th>\n",
       "      <td>bash</td>\n",
       "      <td>CVE-2016-9401</td>\n",
       "      <td>ubuntu:18.10</td>\n",
       "      <td>4.4-5ubuntu1</td>\n",
       "      <td>ubuntu</td>\n",
       "      <td>2016-11-17</td>\n",
       "      <td>2018-02-07</td>\n",
       "      <td>447.0</td>\n",
       "    </tr>\n",
       "    <tr>\n",
       "      <th>18</th>\n",
       "      <td>bash</td>\n",
       "      <td>CVE-2016-9401</td>\n",
       "      <td>ubuntu:17.04</td>\n",
       "      <td>4.4-2ubuntu1.1</td>\n",
       "      <td>ubuntu</td>\n",
       "      <td>2016-11-17</td>\n",
       "      <td>2018-06-22</td>\n",
       "      <td>582.0</td>\n",
       "    </tr>\n",
       "    <tr>\n",
       "      <th>19</th>\n",
       "      <td>bash</td>\n",
       "      <td>CVE-2017-5932</td>\n",
       "      <td>ubuntu:17.04</td>\n",
       "      <td>4.4-2ubuntu1.1</td>\n",
       "      <td>ubuntu</td>\n",
       "      <td>2017-02-07</td>\n",
       "      <td>2018-06-22</td>\n",
       "      <td>500.0</td>\n",
       "    </tr>\n",
       "  </tbody>\n",
       "</table>\n",
       "</div>"
      ],
      "text/plain": [
       "   Package  Vulnerability            OS  Package_Version OS_base_name  \\\n",
       "0     bash  CVE-2016-7543     debian:10            4.4-1       debian   \n",
       "1     bash  CVE-2017-5932     debian:10            4.4-3       debian   \n",
       "2     bash  CVE-2016-9401     debian:10            4.4-3       debian   \n",
       "3     bash  CVE-2014-6277  ubuntu:12.04   4.2-2ubuntu2.6       ubuntu   \n",
       "4     bash  CVE-2014-6278  ubuntu:12.04   4.2-2ubuntu2.6       ubuntu   \n",
       "5     bash  CVE-2016-0634  ubuntu:16.10  4.3-15ubuntu1.1       ubuntu   \n",
       "6     bash  CVE-2016-9401  ubuntu:16.10  4.3-15ubuntu1.1       ubuntu   \n",
       "7     bash  CVE-2016-7543  ubuntu:16.10  4.3-15ubuntu1.1       ubuntu   \n",
       "8     bash  CVE-2016-9401  ubuntu:14.04   4.3-7ubuntu1.7       ubuntu   \n",
       "9     bash  CVE-2016-7543  ubuntu:14.04   4.3-7ubuntu1.7       ubuntu   \n",
       "10    bash  CVE-2014-6277  ubuntu:14.04   4.3-7ubuntu1.5       ubuntu   \n",
       "11    bash  CVE-2014-6278  ubuntu:14.04   4.3-7ubuntu1.5       ubuntu   \n",
       "12    bash  CVE-2016-0634  ubuntu:14.04   4.3-7ubuntu1.7       ubuntu   \n",
       "13    bash  CVE-2016-9401  ubuntu:16.04  4.3-14ubuntu1.2       ubuntu   \n",
       "14    bash  CVE-2016-7543  ubuntu:16.04  4.3-14ubuntu1.2       ubuntu   \n",
       "15    bash  CVE-2016-0634  ubuntu:16.04  4.3-14ubuntu1.2       ubuntu   \n",
       "16    bash  CVE-2019-9924  ubuntu:16.04  4.3-14ubuntu1.4       ubuntu   \n",
       "17    bash  CVE-2016-9401  ubuntu:18.10     4.4-5ubuntu1       ubuntu   \n",
       "18    bash  CVE-2016-9401  ubuntu:17.04   4.4-2ubuntu1.1       ubuntu   \n",
       "19    bash  CVE-2017-5932  ubuntu:17.04   4.4-2ubuntu1.1       ubuntu   \n",
       "\n",
       "   Date_Reported  Date_Fixed  Days_For_Fix  \n",
       "0     2016-09-16  2016-11-21          66.0  \n",
       "1     2017-02-07  2017-01-25          13.0  \n",
       "2     2016-11-17  2017-01-25          69.0  \n",
       "3     2014-09-27  2014-10-09          12.0  \n",
       "4     2014-09-27  2014-10-09          12.0  \n",
       "5     2016-09-16  2018-01-23         494.0  \n",
       "6     2016-11-17  2018-01-23         432.0  \n",
       "7     2016-09-16  2018-01-23         494.0  \n",
       "8     2016-11-17  2017-05-17         181.0  \n",
       "9     2016-09-16  2017-05-17         243.0  \n",
       "10    2014-09-27  2017-05-04         950.0  \n",
       "11    2014-09-27  2017-05-04         950.0  \n",
       "12    2016-09-16  2017-05-17         243.0  \n",
       "13    2016-11-17  2019-05-16         910.0  \n",
       "14    2016-09-16  2019-05-16         972.0  \n",
       "15    2016-09-16  2019-05-16         972.0  \n",
       "16    2018-11-14  2019-07-15         243.0  \n",
       "17    2016-11-17  2018-02-07         447.0  \n",
       "18    2016-11-17  2018-06-22         582.0  \n",
       "19    2017-02-07  2018-06-22         500.0  "
      ]
     },
     "execution_count": 20,
     "metadata": {},
     "output_type": "execute_result"
    }
   ],
   "source": [
    "data[~data['Days_For_Fix'].isnull()].tail(20).reset_index(drop=True)"
   ]
  },
  {
   "cell_type": "markdown",
   "metadata": {},
   "source": [
    "## Distribution of Packages in the cleaned data"
   ]
  },
  {
   "cell_type": "code",
   "execution_count": 21,
   "metadata": {},
   "outputs": [
    {
     "data": {
      "image/png": "[encoded data removed]",
      "text/plain": [
       "<Figure size 720x720 with 1 Axes>"
      ]
     },
     "metadata": {
      "needs_background": "light"
     },
     "output_type": "display_data"
    }
   ],
   "source": [
    "plt.figure(figsize=(10,10))\n",
    "data.Package.value_counts()[::-1].plot('barh',\n",
    "                                       title=\"Number of vulnerabilities per package in the de-duplicated data\")\n",
    "plt.savefig(\"outputs/Number_of_vulnerabilities_per_package_in_the_dedup_data.png\")\n",
    "\n",
    "plt.show()"
   ]
  },
  {
   "cell_type": "markdown",
   "metadata": {},
   "source": [
    "## Distribution of OS in the cleaned data"
   ]
  },
  {
   "cell_type": "code",
   "execution_count": 22,
   "metadata": {
    "scrolled": false
   },
   "outputs": [
    {
     "data": {
      "image/png": "[encoded data removed]",
      "text/plain": [
       "<Figure size 720x720 with 1 Axes>"
      ]
     },
     "metadata": {
      "needs_background": "light"
     },
     "output_type": "display_data"
    }
   ],
   "source": [
    "plt.figure(figsize=(10,10))\n",
    "data.OS.value_counts()[::-1].plot('barh', \n",
    "                             title=\"OS Distribution\")\n",
    "plt.savefig(\"outputs/OS_Distribution\")\n",
    "\n",
    "plt.show()"
   ]
  },
  {
   "cell_type": "code",
   "execution_count": 23,
   "metadata": {},
   "outputs": [
    {
     "data": {
      "text/plain": [
       "debian    0.367370\n",
       "ubuntu    0.360988\n",
       "alpine    0.122642\n",
       "oracle    0.075472\n",
       "centos    0.073529\n",
       "Name: OS_base_name, dtype: float64"
      ]
     },
     "execution_count": 23,
     "metadata": {},
     "output_type": "execute_result"
    }
   ],
   "source": [
    "data['OS_base_name'].value_counts('norm')"
   ]
  },
  {
   "cell_type": "code",
   "execution_count": 24,
   "metadata": {},
   "outputs": [
    {
     "data": {
      "text/plain": [
       "<matplotlib.axes._subplots.AxesSubplot at 0x19d5976e358>"
      ]
     },
     "execution_count": 24,
     "metadata": {},
     "output_type": "execute_result"
    },
    {
     "data": {
      "image/png": "[encoded data removed]",
      "text/plain": [
       "<Figure size 720x720 with 1 Axes>"
      ]
     },
     "metadata": {},
     "output_type": "display_data"
    }
   ],
   "source": [
    "plt.figure(figsize=(10,10))\n",
    "data['OS_base_name'].value_counts('norm').plot('pie')"
   ]
  },
  {
   "cell_type": "markdown",
   "metadata": {},
   "source": [
    "## Analyzing how long it takes for vulnerabilities to be fixed"
   ]
  },
  {
   "cell_type": "code",
   "execution_count": 25,
   "metadata": {},
   "outputs": [
    {
     "data": {
      "text/plain": [
       "(803, 8)"
      ]
     },
     "execution_count": 25,
     "metadata": {},
     "output_type": "execute_result"
    }
   ],
   "source": [
    "day_fixed_df = data[~data['Days_For_Fix'].isnull()]\n",
    "day_fixed_df.shape"
   ]
  },
  {
   "cell_type": "code",
   "execution_count": 26,
   "metadata": {},
   "outputs": [],
   "source": [
    "day_fixed_df.sort_values('Days_For_Fix', ascending=False, inplace=True)"
   ]
  },
  {
   "cell_type": "code",
   "execution_count": 27,
   "metadata": {},
   "outputs": [
    {
     "data": {
      "text/html": [
       "<div>\n",
       "<style scoped>\n",
       "    .dataframe tbody tr th:only-of-type {\n",
       "        vertical-align: middle;\n",
       "    }\n",
       "\n",
       "    .dataframe tbody tr th {\n",
       "        vertical-align: top;\n",
       "    }\n",
       "\n",
       "    .dataframe thead th {\n",
       "        text-align: right;\n",
       "    }\n",
       "</style>\n",
       "<table border=\"1\" class=\"dataframe\">\n",
       "  <thead>\n",
       "    <tr style=\"text-align: right;\">\n",
       "      <th></th>\n",
       "      <th>Package</th>\n",
       "      <th>Vulnerability</th>\n",
       "      <th>OS</th>\n",
       "      <th>Package_Version</th>\n",
       "      <th>OS_base_name</th>\n",
       "      <th>Date_Reported</th>\n",
       "      <th>Date_Fixed</th>\n",
       "      <th>Days_For_Fix</th>\n",
       "    </tr>\n",
       "  </thead>\n",
       "  <tbody>\n",
       "    <tr>\n",
       "      <th>2496</th>\n",
       "      <td>mcrypt</td>\n",
       "      <td>CVE-2012-4527</td>\n",
       "      <td>debian:unstable</td>\n",
       "      <td>2.6.8-1.3</td>\n",
       "      <td>debian</td>\n",
       "      <td>2012-10-18</td>\n",
       "      <td>2018-12-12</td>\n",
       "      <td>2246.0</td>\n",
       "    </tr>\n",
       "    <tr>\n",
       "      <th>6</th>\n",
       "      <td>tar</td>\n",
       "      <td>CVE-2010-0624</td>\n",
       "      <td>debian:8</td>\n",
       "      <td>1.23-1</td>\n",
       "      <td>debian</td>\n",
       "      <td>2005-12-23</td>\n",
       "      <td>2011-09-13</td>\n",
       "      <td>2090.0</td>\n",
       "    </tr>\n",
       "    <tr>\n",
       "      <th>3539</th>\n",
       "      <td>bash</td>\n",
       "      <td>CVE-2012-6711</td>\n",
       "      <td>debian:8</td>\n",
       "      <td>4.3-1</td>\n",
       "      <td>debian</td>\n",
       "      <td>2019-06-17</td>\n",
       "      <td>2014-03-05</td>\n",
       "      <td>1930.0</td>\n",
       "    </tr>\n",
       "    <tr>\n",
       "      <th>724</th>\n",
       "      <td>unzip</td>\n",
       "      <td>CVE-2018-18384</td>\n",
       "      <td>debian:10</td>\n",
       "      <td>6.0-11</td>\n",
       "      <td>debian</td>\n",
       "      <td>2018-10-16</td>\n",
       "      <td>2014-04-30</td>\n",
       "      <td>1630.0</td>\n",
       "    </tr>\n",
       "    <tr>\n",
       "      <th>2720</th>\n",
       "      <td>patch</td>\n",
       "      <td>CVE-2010-4651</td>\n",
       "      <td>ubuntu:12.04</td>\n",
       "      <td>2.6.1-3ubuntu0.1</td>\n",
       "      <td>ubuntu</td>\n",
       "      <td>2011-02-18</td>\n",
       "      <td>2015-06-22</td>\n",
       "      <td>1585.0</td>\n",
       "    </tr>\n",
       "  </tbody>\n",
       "</table>\n",
       "</div>"
      ],
      "text/plain": [
       "     Package   Vulnerability               OS   Package_Version OS_base_name  \\\n",
       "2496  mcrypt   CVE-2012-4527  debian:unstable         2.6.8-1.3       debian   \n",
       "6        tar   CVE-2010-0624         debian:8            1.23-1       debian   \n",
       "3539    bash   CVE-2012-6711         debian:8             4.3-1       debian   \n",
       "724    unzip  CVE-2018-18384        debian:10            6.0-11       debian   \n",
       "2720   patch   CVE-2010-4651     ubuntu:12.04  2.6.1-3ubuntu0.1       ubuntu   \n",
       "\n",
       "     Date_Reported  Date_Fixed  Days_For_Fix  \n",
       "2496    2012-10-18  2018-12-12        2246.0  \n",
       "6       2005-12-23  2011-09-13        2090.0  \n",
       "3539    2019-06-17  2014-03-05        1930.0  \n",
       "724     2018-10-16  2014-04-30        1630.0  \n",
       "2720    2011-02-18  2015-06-22        1585.0  "
      ]
     },
     "execution_count": 27,
     "metadata": {},
     "output_type": "execute_result"
    }
   ],
   "source": [
    "day_fixed_df.head()"
   ]
  },
  {
   "cell_type": "markdown",
   "metadata": {},
   "source": [
    "## Debian and Ubuntu are the Operating systems we analyzed"
   ]
  },
  {
   "cell_type": "code",
   "execution_count": 28,
   "metadata": {},
   "outputs": [
    {
     "data": {
      "text/plain": [
       "array(['alpine', 'debian', 'ubuntu', 'oracle', 'centos'], dtype=object)"
      ]
     },
     "execution_count": 28,
     "metadata": {},
     "output_type": "execute_result"
    }
   ],
   "source": [
    "data['OS_base_name'].unique()"
   ]
  },
  {
   "cell_type": "code",
   "execution_count": 29,
   "metadata": {
    "scrolled": true
   },
   "outputs": [
    {
     "data": {
      "text/html": [
       "<div>\n",
       "<style scoped>\n",
       "    .dataframe tbody tr th:only-of-type {\n",
       "        vertical-align: middle;\n",
       "    }\n",
       "\n",
       "    .dataframe tbody tr th {\n",
       "        vertical-align: top;\n",
       "    }\n",
       "\n",
       "    .dataframe thead th {\n",
       "        text-align: right;\n",
       "    }\n",
       "</style>\n",
       "<table border=\"1\" class=\"dataframe\">\n",
       "  <thead>\n",
       "    <tr style=\"text-align: right;\">\n",
       "      <th></th>\n",
       "      <th>Days_For_Fix</th>\n",
       "    </tr>\n",
       "    <tr>\n",
       "      <th>OS_base_name</th>\n",
       "      <th></th>\n",
       "    </tr>\n",
       "  </thead>\n",
       "  <tbody>\n",
       "    <tr>\n",
       "      <th>ubuntu</th>\n",
       "      <td>107857.0</td>\n",
       "    </tr>\n",
       "    <tr>\n",
       "      <th>debian</th>\n",
       "      <td>88232.0</td>\n",
       "    </tr>\n",
       "    <tr>\n",
       "      <th>alpine</th>\n",
       "      <td>0.0</td>\n",
       "    </tr>\n",
       "    <tr>\n",
       "      <th>centos</th>\n",
       "      <td>0.0</td>\n",
       "    </tr>\n",
       "    <tr>\n",
       "      <th>oracle</th>\n",
       "      <td>0.0</td>\n",
       "    </tr>\n",
       "  </tbody>\n",
       "</table>\n",
       "</div>"
      ],
      "text/plain": [
       "              Days_For_Fix\n",
       "OS_base_name              \n",
       "ubuntu            107857.0\n",
       "debian             88232.0\n",
       "alpine                 0.0\n",
       "centos                 0.0\n",
       "oracle                 0.0"
      ]
     },
     "execution_count": 29,
     "metadata": {},
     "output_type": "execute_result"
    }
   ],
   "source": [
    "data.groupby('OS_base_name').sum().sort_values('Days_For_Fix', ascending=False)"
   ]
  },
  {
   "cell_type": "code",
   "execution_count": 30,
   "metadata": {},
   "outputs": [
    {
     "data": {
      "text/plain": [
       "<Figure size 720x720 with 0 Axes>"
      ]
     },
     "metadata": {},
     "output_type": "display_data"
    },
    {
     "data": {
      "image/png": "[encoded data removed]",
      "text/plain": [
       "<Figure size 432x288 with 1 Axes>"
      ]
     },
     "metadata": {
      "needs_background": "light"
     },
     "output_type": "display_data"
    }
   ],
   "source": [
    "plt.figure(figsize=(10,10))\n",
    "ax = data.groupby('OS_base_name').sum().sort_values('Days_For_Fix', ascending=True).plot(kind='barh')\n",
    "ax.set(xlabel = 'No of days')\n",
    "plt.show()"
   ]
  },
  {
   "cell_type": "markdown",
   "metadata": {},
   "source": [
    "## Histograms to demonstrate how much time it takes for a fix"
   ]
  },
  {
   "cell_type": "code",
   "execution_count": 36,
   "metadata": {},
   "outputs": [
    {
     "data": {
      "text/plain": [
       "2496    2246.0\n",
       "6       2090.0\n",
       "3539    1930.0\n",
       "724     1630.0\n",
       "384     1584.0\n",
       "729     1570.0\n",
       "389     1299.0\n",
       "2741     994.0\n",
       "747      942.0\n",
       "1626     921.0\n",
       "744      916.0\n",
       "782      900.0\n",
       "734      846.0\n",
       "927      838.0\n",
       "730      807.0\n",
       "172      791.0\n",
       "2643     748.0\n",
       "2644     748.0\n",
       "3540     723.0\n",
       "2337     691.0\n",
       "2449     640.0\n",
       "2441     640.0\n",
       "3469     639.0\n",
       "559      589.0\n",
       "558      589.0\n",
       "561      570.0\n",
       "2028     560.0\n",
       "682      559.0\n",
       "2061     540.0\n",
       "1959     540.0\n",
       "         ...  \n",
       "3528      10.0\n",
       "3122      10.0\n",
       "3108      10.0\n",
       "3538      10.0\n",
       "2437       9.0\n",
       "735        9.0\n",
       "3537       9.0\n",
       "3536       9.0\n",
       "727        9.0\n",
       "224        9.0\n",
       "230        9.0\n",
       "274        9.0\n",
       "2879       8.0\n",
       "524        6.0\n",
       "225        6.0\n",
       "239        6.0\n",
       "847        5.0\n",
       "878        5.0\n",
       "895        5.0\n",
       "922        5.0\n",
       "963        5.0\n",
       "3532       3.0\n",
       "2669       2.0\n",
       "3438       2.0\n",
       "3440       2.0\n",
       "1055       1.0\n",
       "2992       1.0\n",
       "1049       1.0\n",
       "3021       1.0\n",
       "2668       0.0\n",
       "Name: Days_For_Fix, Length: 421, dtype: float64"
      ]
     },
     "execution_count": 36,
     "metadata": {},
     "output_type": "execute_result"
    }
   ],
   "source": [
    "day_fixed_df['Days_For_Fix'][day_fixed_df['OS_base_name']=='debian']"
   ]
  },
  {
   "cell_type": "code",
   "execution_count": 42,
   "metadata": {},
   "outputs": [
    {
     "data": {
      "image/png": "[encoded data removed]",
      "text/plain": [
       "<Figure size 720x720 with 1 Axes>"
      ]
     },
     "metadata": {
      "needs_background": "light"
     },
     "output_type": "display_data"
    }
   ],
   "source": [
    "plt.figure(figsize=(10,10))\n",
    "df = day_fixed_df['Days_For_Fix'][day_fixed_df['OS_base_name']=='debian']\n",
    "ax = df.plot('hist',\n",
    "             weights = np.ones_like(df.index) / len(df.index),\n",
    "             title=\"Time for package vulnerability fixes for Debian\")\n",
    "ax.set(xlabel = 'No of days')\n",
    "\n",
    "plt.savefig(\"outputs/Debian_Vulnerability_Fixes.png\")\n",
    "\n",
    "plt.show()"
   ]
  },
  {
   "cell_type": "code",
   "execution_count": 43,
   "metadata": {},
   "outputs": [
    {
     "data": {
      "image/png": "[encoded data removed]",
      "text/plain": [
       "<Figure size 720x720 with 1 Axes>"
      ]
     },
     "metadata": {
      "needs_background": "light"
     },
     "output_type": "display_data"
    }
   ],
   "source": [
    "plt.figure(figsize=(10, 10))\n",
    "df = day_fixed_df['Days_For_Fix'][day_fixed_df['OS_base_name'] == 'ubuntu']\n",
    "ax = df.plot('hist',\n",
    "             weights=np.ones_like(df.index) / len(df.index),\n",
    "             title=\"Time for package vulnerability fixes for Ubuntu\")\n",
    "ax.set(xlabel='No of days')\n",
    "plt.savefig(\"outputs/Ubuntu_Vulnerability_Fixes.png\")"
   ]
  },
  {
   "cell_type": "code",
   "execution_count": 33,
   "metadata": {},
   "outputs": [
    {
     "name": "stdout",
     "output_type": "stream",
     "text": [
      "For Debian:\n",
      "1316 vulnerabilities were reported\n",
      "422 vulnerabilities were fixed\n"
     ]
    }
   ],
   "source": [
    "debian_info = data[data['OS_base_name']=='debian']\n",
    "print(\"For Debian:\")\n",
    "print(len(debian_info[~debian_info['Date_Reported'].isnull()]), \"vulnerabilities were reported\")\n",
    "print(len(debian_info[~debian_info['Date_Fixed'].isnull()]), \"vulnerabilities were fixed\")"
   ]
  },
  {
   "cell_type": "markdown",
   "metadata": {},
   "source": [
    "120 vulnerabilities out of 686 reported vulnerabilities were fixed. Rest are still unifixed."
   ]
  },
  {
   "cell_type": "code",
   "execution_count": 34,
   "metadata": {},
   "outputs": [
    {
     "name": "stdout",
     "output_type": "stream",
     "text": [
      "For Ubuntu:\n",
      "1297 vulnerabilities were reported\n",
      "385 vulnerabilities were fixed\n"
     ]
    }
   ],
   "source": [
    "ubuntu_info = data[data['OS_base_name']=='ubuntu']\n",
    "print(\"For Ubuntu:\")\n",
    "print(len(ubuntu_info[~ubuntu_info['Date_Reported'].isnull()]), \"vulnerabilities were reported\")\n",
    "print(len(ubuntu_info[~ubuntu_info['Date_Fixed'].isnull()]), \"vulnerabilities were fixed\")"
   ]
  },
  {
   "cell_type": "markdown",
   "metadata": {},
   "source": [
    "__________"
   ]
  }
 ],
 "metadata": {
  "kernelspec": {
   "display_name": "Python 3",
   "language": "python",
   "name": "python3"
  },
  "language_info": {
   "codemirror_mode": {
    "name": "ipython",
    "version": 3
   },
   "file_extension": ".py",
   "mimetype": "text/x-python",
   "name": "python",
   "nbconvert_exporter": "python",
   "pygments_lexer": "ipython3",
   "version": "3.7.3"
  }
 },
 "nbformat": 4,
 "nbformat_minor": 2
}
