{
 "cells": [
  {
   "cell_type": "markdown",
   "metadata": {},
   "source": [
    "# Exploring the PyGitHub library\n",
    "\n",
    "______\n",
    "\n",
    "## Installation\n",
    "\n",
    "```\n",
    "pip install PyGithub\n",
    "```"
   ]
  },
  {
   "cell_type": "code",
   "execution_count": 1,
   "metadata": {},
   "outputs": [],
   "source": [
    "from github import Github"
   ]
  },
  {
   "cell_type": "markdown",
   "metadata": {},
   "source": [
    "Set your Github username and password"
   ]
  },
  {
   "cell_type": "code",
   "execution_count": 2,
   "metadata": {},
   "outputs": [],
   "source": [
    "username = \"\" \n",
    "password = \"\""
   ]
  },
  {
   "cell_type": "code",
   "execution_count": 3,
   "metadata": {},
   "outputs": [],
   "source": [
    "g = Github(username, password)"
   ]
  },
  {
   "cell_type": "markdown",
   "metadata": {},
   "source": [
    "Retrieve the docker library organization"
   ]
  },
  {
   "cell_type": "code",
   "execution_count": 4,
   "metadata": {},
   "outputs": [],
   "source": [
    "org = g.get_organization('docker-library')"
   ]
  },
  {
   "cell_type": "markdown",
   "metadata": {},
   "source": [
    "Retrieve the python repository under docker-libary"
   ]
  },
  {
   "cell_type": "code",
   "execution_count": 5,
   "metadata": {},
   "outputs": [],
   "source": [
    "repo = org.get_repo('python')"
   ]
  },
  {
   "cell_type": "markdown",
   "metadata": {},
   "source": [
    "Fetch commits from the master branch"
   ]
  },
  {
   "cell_type": "code",
   "execution_count": 6,
   "metadata": {},
   "outputs": [],
   "source": [
    "commits = repo.get_commits()"
   ]
  },
  {
   "cell_type": "code",
   "execution_count": 7,
   "metadata": {},
   "outputs": [
    {
     "name": "stdout",
     "output_type": "stream",
     "text": [
      "Commit(sha=\"ca8eac507c34853349177cab608f237d9b664f35\")\n",
      "Commit(sha=\"5f5b1bfb9466f0ac8fbd7b615b99493532d42ae8\")\n",
      "Commit(sha=\"35566cb6b14961c369e935b85b4c8879e6901ccc\")\n",
      "Commit(sha=\"c3233a936f58bee7c6899d3e381f23ed12cfc7a8\")\n",
      "Commit(sha=\"aba58b3895e9f50a1323623c18ebe7c969245abc\")\n",
      "Commit(sha=\"e0f2cbdfe6affd5280091cc424ba2480a4447a69\")\n",
      "Commit(sha=\"c62605e5bb11b41443db12ab9991fff7692de326\")\n",
      "Commit(sha=\"fe11c2ed5a3a3a1917f0a37f3f265d81969d09d9\")\n",
      "Commit(sha=\"0f3e6b3ee17e0f1aac79cfeef53fbc08a44bec5f\")\n",
      "Commit(sha=\"57cb79924a005710a5b1d8fedde5e6a2624ba989\")\n"
     ]
    }
   ],
   "source": [
    "# print top 10 commits\n",
    "for commit in commits[:10]:\n",
    "    print(commit)"
   ]
  },
  {
   "cell_type": "markdown",
   "metadata": {},
   "source": [
    "Last commit:"
   ]
  },
  {
   "cell_type": "code",
   "execution_count": 9,
   "metadata": {},
   "outputs": [
    {
     "data": {
      "text/plain": [
       "Commit(sha=\"57cb79924a005710a5b1d8fedde5e6a2624ba989\")"
      ]
     },
     "execution_count": 9,
     "metadata": {},
     "output_type": "execute_result"
    }
   ],
   "source": [
    "commit"
   ]
  },
  {
   "cell_type": "code",
   "execution_count": 10,
   "metadata": {},
   "outputs": [
    {
     "data": {
      "text/plain": [
       "NamedUser(login=\"docker-library-bot\")"
      ]
     },
     "execution_count": 10,
     "metadata": {},
     "output_type": "execute_result"
    }
   ],
   "source": [
    "commit.author"
   ]
  },
  {
   "cell_type": "code",
   "execution_count": 12,
   "metadata": {},
   "outputs": [
    {
     "data": {
      "text/plain": [
       "[File(sha=\"724dc0f9a1631bba6ee2410f71457c010a7a8a06\", filename=\"2.7/alpine3.10/Dockerfile\"),\n",
       " File(sha=\"b75508b994886d67438040d28e37993e0c87d49f\", filename=\"2.7/alpine3.9/Dockerfile\"),\n",
       " File(sha=\"5ccd0e8573222dfc7c4a13bdc7f3cdfcebcf5b73\", filename=\"2.7/buster/Dockerfile\"),\n",
       " File(sha=\"4ab3df3bd29a1633a50dd31c3739803bd8b86119\", filename=\"2.7/buster/slim/Dockerfile\"),\n",
       " File(sha=\"352a67312c1c0337297cd0dbc1fae197ebab7f2f\", filename=\"2.7/stretch/Dockerfile\"),\n",
       " File(sha=\"b53493f2d66662cb64af87bff53e60f591b744e9\", filename=\"2.7/stretch/slim/Dockerfile\"),\n",
       " File(sha=\"d9cf94ac5d2dc5022b12a8d2668b5dfdd299850f\", filename=\"2.7/windows/windowsservercore-1803/Dockerfile\"),\n",
       " File(sha=\"6642a47f25364205506045457fc60b738b4b2f59\", filename=\"2.7/windows/windowsservercore-1809/Dockerfile\"),\n",
       " File(sha=\"2a5930caef43267d161265b4991180ca8cad2f98\", filename=\"2.7/windows/windowsservercore-ltsc2016/Dockerfile\")]"
      ]
     },
     "execution_count": 12,
     "metadata": {},
     "output_type": "execute_result"
    }
   ],
   "source": [
    "commit.files"
   ]
  },
  {
   "cell_type": "code",
   "execution_count": 13,
   "metadata": {},
   "outputs": [],
   "source": [
    "file = commit.files[0]"
   ]
  },
  {
   "cell_type": "code",
   "execution_count": 14,
   "metadata": {},
   "outputs": [
    {
     "data": {
      "text/plain": [
       "{'sha': '724dc0f9a1631bba6ee2410f71457c010a7a8a06',\n",
       " 'filename': '2.7/alpine3.10/Dockerfile',\n",
       " 'status': 'modified',\n",
       " 'additions': 3,\n",
       " 'deletions': 3,\n",
       " 'changes': 6,\n",
       " 'blob_url': 'https://github.com/docker-library/python/blob/57cb79924a005710a5b1d8fedde5e6a2624ba989/2.7/alpine3.10/Dockerfile',\n",
       " 'raw_url': 'https://github.com/docker-library/python/raw/57cb79924a005710a5b1d8fedde5e6a2624ba989/2.7/alpine3.10/Dockerfile',\n",
       " 'contents_url': 'https://api.github.com/repos/docker-library/python/contents/2.7/alpine3.10/Dockerfile?ref=57cb79924a005710a5b1d8fedde5e6a2624ba989',\n",
       " 'patch': '@@ -97,10 +97,10 @@ RUN set -ex \\\\\\n \\t&& python2 --version\\n \\n # if this is called \"PIP_VERSION\", pip explodes with \"ValueError: invalid truth value \\'<VERSION>\\'\"\\n-ENV PYTHON_PIP_VERSION 19.2.1\\n+ENV PYTHON_PIP_VERSION 19.2.2\\n # https://github.com/pypa/get-pip\\n-ENV PYTHON_GET_PIP_URL https://github.com/pypa/get-pip/raw/404c9418e33c5031b1a9ab623168b3e8a2ed8c88/get-pip.py\\n-ENV PYTHON_GET_PIP_SHA256 56bb63d3cf54e7444351256f72a60f575f6d8c7f1faacffae33167afc8e7609d\\n+ENV PYTHON_GET_PIP_URL https://github.com/pypa/get-pip/raw/0c72a3b4ece313faccb446a96c84770ccedc5ec5/get-pip.py\\n+ENV PYTHON_GET_PIP_SHA256 201edc6df416da971e64cc94992d2dd24bc328bada7444f0c4f2031ae31e8dad\\n \\n RUN set -ex; \\\\\\n \\t\\\\'}"
      ]
     },
     "execution_count": 14,
     "metadata": {},
     "output_type": "execute_result"
    }
   ],
   "source": [
    "file.raw_data"
   ]
  },
  {
   "cell_type": "code",
   "execution_count": 15,
   "metadata": {},
   "outputs": [
    {
     "data": {
      "text/plain": [
       "'https://api.github.com/repos/docker-library/python/commits/57cb79924a005710a5b1d8fedde5e6a2624ba989'"
      ]
     },
     "execution_count": 15,
     "metadata": {},
     "output_type": "execute_result"
    }
   ],
   "source": [
    "commit.url"
   ]
  },
  {
   "cell_type": "markdown",
   "metadata": {},
   "source": [
    "Commit statistics"
   ]
  },
  {
   "cell_type": "code",
   "execution_count": 19,
   "metadata": {},
   "outputs": [],
   "source": [
    "stats = commit.stats"
   ]
  },
  {
   "cell_type": "code",
   "execution_count": 20,
   "metadata": {
    "scrolled": true
   },
   "outputs": [
    {
     "data": {
      "text/plain": [
       "{'total': 54, 'additions': 27, 'deletions': 27}"
      ]
     },
     "execution_count": 20,
     "metadata": {},
     "output_type": "execute_result"
    }
   ],
   "source": [
    "stats.raw_data"
   ]
  }
 ],
 "metadata": {
  "kernelspec": {
   "display_name": "Python 3",
   "language": "python",
   "name": "python3"
  },
  "language_info": {
   "codemirror_mode": {
    "name": "ipython",
    "version": 3
   },
   "file_extension": ".py",
   "mimetype": "text/x-python",
   "name": "python",
   "nbconvert_exporter": "python",
   "pygments_lexer": "ipython3",
   "version": "3.7.3"
  }
 },
 "nbformat": 4,
 "nbformat_minor": 2
}
