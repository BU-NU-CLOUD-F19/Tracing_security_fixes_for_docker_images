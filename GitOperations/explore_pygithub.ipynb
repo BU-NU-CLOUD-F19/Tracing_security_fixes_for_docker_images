{
 "cells": [
  {
   "cell_type": "markdown",
   "metadata": {},
   "source": [
    "# Exploring the PyGitHub library\n",
    "\n",
    "______\n",
    "\n",
    "## Installation\n",
    "\n",
    "```\n",
    "pip install PyGithub\n",
    "```"
   ]
  },
  {
   "cell_type": "code",
   "execution_count": 1,
   "metadata": {},
   "outputs": [],
   "source": [
    "from github import Github"
   ]
  },
  {
   "cell_type": "markdown",
   "metadata": {},
   "source": [
    "Set your Github username and password"
   ]
  },
  {
   "cell_type": "code",
   "execution_count": 2,
   "metadata": {},
   "outputs": [],
   "source": [
    "username = \"\" \n",
    "password = \"\""
   ]
  },
  {
   "cell_type": "code",
   "execution_count": 3,
   "metadata": {},
   "outputs": [],
   "source": [
    "g = Github(username, password)"
   ]
  },
  {
   "cell_type": "markdown",
   "metadata": {},
   "source": [
    "Retrieve the docker library organization"
   ]
  },
  {
   "cell_type": "code",
   "execution_count": 4,
   "metadata": {},
   "outputs": [],
   "source": [
    "org = g.get_organization('docker-library')"
   ]
  },
  {
   "cell_type": "markdown",
   "metadata": {},
   "source": [
    "Retrieve the python repository under docker-libary"
   ]
  },
  {
   "cell_type": "code",
   "execution_count": 5,
   "metadata": {},
   "outputs": [],
   "source": [
    "repo = org.get_repo('python')"
   ]
  },
  {
   "cell_type": "markdown",
   "metadata": {},
   "source": [
    "Fetch commits from the master branch"
   ]
  },
  {
   "cell_type": "code",
   "execution_count": 6,
   "metadata": {},
   "outputs": [],
   "source": [
    "commits = repo.get_commits()"
   ]
  },
  {
   "cell_type": "code",
   "execution_count": 7,
   "metadata": {},
   "outputs": [
    {
     "name": "stdout",
     "output_type": "stream",
     "text": [
      "Commit(sha=\"cdff21a05616b660073278f13dc560005322349c\")\n",
      "Commit(sha=\"7868f534a6d9e3264e9ecef466c50125751511fa\")\n",
      "Commit(sha=\"ca8eac507c34853349177cab608f237d9b664f35\")\n",
      "Commit(sha=\"5f5b1bfb9466f0ac8fbd7b615b99493532d42ae8\")\n",
      "Commit(sha=\"35566cb6b14961c369e935b85b4c8879e6901ccc\")\n",
      "Commit(sha=\"c3233a936f58bee7c6899d3e381f23ed12cfc7a8\")\n",
      "Commit(sha=\"aba58b3895e9f50a1323623c18ebe7c969245abc\")\n",
      "Commit(sha=\"e0f2cbdfe6affd5280091cc424ba2480a4447a69\")\n",
      "Commit(sha=\"c62605e5bb11b41443db12ab9991fff7692de326\")\n",
      "Commit(sha=\"fe11c2ed5a3a3a1917f0a37f3f265d81969d09d9\")\n"
     ]
    }
   ],
   "source": [
    "# print top 10 commits\n",
    "for commit in commits[:10]:\n",
    "    print(commit)"
   ]
  },
  {
   "cell_type": "markdown",
   "metadata": {},
   "source": [
    "Find contents"
   ]
  },
  {
   "cell_type": "code",
   "execution_count": 8,
   "metadata": {},
   "outputs": [
    {
     "name": "stdout",
     "output_type": "stream",
     "text": [
      "file :  ContentFile(path=\".appveyor.yml\") .appveyor.yml\n",
      "file :  ContentFile(path=\".travis.yml\") .travis.yml\n",
      "dir :  ContentFile(path=\"2.7\") 2.7\n",
      "dir :  ContentFile(path=\"3.5\") 3.5\n",
      "dir :  ContentFile(path=\"3.6\") 3.6\n",
      "dir :  ContentFile(path=\"3.7\") 3.7\n",
      "dir :  ContentFile(path=\"3.8-rc\") 3.8-rc\n",
      "file :  ContentFile(path=\"Dockerfile-alpine.template\") Dockerfile-alpine.template\n",
      "file :  ContentFile(path=\"Dockerfile-caveman-alpine.template\") Dockerfile-caveman-alpine.template\n",
      "file :  ContentFile(path=\"Dockerfile-caveman-debian.template\") Dockerfile-caveman-debian.template\n",
      "file :  ContentFile(path=\"Dockerfile-caveman-slim.template\") Dockerfile-caveman-slim.template\n",
      "file :  ContentFile(path=\"Dockerfile-caveman-windowsservercore.template\") Dockerfile-caveman-windowsservercore.template\n",
      "file :  ContentFile(path=\"Dockerfile-debian.template\") Dockerfile-debian.template\n",
      "file :  ContentFile(path=\"Dockerfile-slim.template\") Dockerfile-slim.template\n",
      "file :  ContentFile(path=\"Dockerfile-windowsservercore.template\") Dockerfile-windowsservercore.template\n",
      "file :  ContentFile(path=\"LICENSE\") LICENSE\n",
      "file :  ContentFile(path=\"README.md\") README.md\n",
      "file :  ContentFile(path=\"generate-stackbrew-library.sh\") generate-stackbrew-library.sh\n",
      "file :  ContentFile(path=\"update.sh\") update.sh\n"
     ]
    }
   ],
   "source": [
    "for content in repo.get_contents(\"\"):\n",
    "    print(content.type, \": \", content, content.path)"
   ]
  },
  {
   "cell_type": "markdown",
   "metadata": {},
   "source": [
    "\n",
    "Find all dockerfiles"
   ]
  },
  {
   "cell_type": "code",
   "execution_count": 9,
   "metadata": {},
   "outputs": [
    {
     "data": {
      "text/plain": [
       "'update.sh'"
      ]
     },
     "execution_count": 9,
     "metadata": {},
     "output_type": "execute_result"
    }
   ],
   "source": [
    "content.name"
   ]
  },
  {
   "cell_type": "code",
   "execution_count": 10,
   "metadata": {},
   "outputs": [
    {
     "data": {
      "text/plain": [
       "[ContentFile(path=\"2.7/alpine3.10\"),\n",
       " ContentFile(path=\"2.7/alpine3.9\"),\n",
       " ContentFile(path=\"2.7/buster\"),\n",
       " ContentFile(path=\"2.7/stretch\"),\n",
       " ContentFile(path=\"2.7/windows\")]"
      ]
     },
     "execution_count": 10,
     "metadata": {},
     "output_type": "execute_result"
    }
   ],
   "source": [
    "repo.get_contents('2.7')"
   ]
  },
  {
   "cell_type": "code",
   "execution_count": 11,
   "metadata": {},
   "outputs": [],
   "source": [
    "dockerfiles = []\n",
    "\n",
    "def add_dockerfiles(dockerfiles, repo_contents):\n",
    "    for content in repo_contents:\n",
    "        print(content.path)\n",
    "        if content.type == 'dir':\n",
    "            dockerfiles = add_dockerfiles(dockerfiles, repo.get_contents(content.path))\n",
    "        elif content.type == 'file' and content.name.endswith('Dockerfile'):\n",
    "            dockerfiles.append(content)\n",
    "    return dockerfiles"
   ]
  },
  {
   "cell_type": "code",
   "execution_count": 12,
   "metadata": {},
   "outputs": [
    {
     "name": "stdout",
     "output_type": "stream",
     "text": [
      ".appveyor.yml\n",
      ".travis.yml\n",
      "2.7\n",
      "2.7/alpine3.10\n",
      "2.7/alpine3.10/Dockerfile\n",
      "2.7/alpine3.9\n",
      "2.7/alpine3.9/Dockerfile\n",
      "2.7/buster\n",
      "2.7/buster/Dockerfile\n",
      "2.7/buster/slim\n",
      "2.7/buster/slim/Dockerfile\n",
      "2.7/stretch\n",
      "2.7/stretch/Dockerfile\n",
      "2.7/stretch/slim\n",
      "2.7/stretch/slim/Dockerfile\n",
      "2.7/windows\n",
      "2.7/windows/windowsservercore-1803\n",
      "2.7/windows/windowsservercore-1803/Dockerfile\n",
      "2.7/windows/windowsservercore-1809\n",
      "2.7/windows/windowsservercore-1809/Dockerfile\n",
      "2.7/windows/windowsservercore-ltsc2016\n",
      "2.7/windows/windowsservercore-ltsc2016/Dockerfile\n",
      "3.5\n",
      "3.5/alpine3.10\n",
      "3.5/alpine3.10/Dockerfile\n",
      "3.5/alpine3.9\n",
      "3.5/alpine3.9/Dockerfile\n",
      "3.5/buster\n",
      "3.5/buster/Dockerfile\n",
      "3.5/buster/slim\n",
      "3.5/buster/slim/Dockerfile\n",
      "3.5/stretch\n",
      "3.5/stretch/Dockerfile\n",
      "3.5/stretch/slim\n",
      "3.5/stretch/slim/Dockerfile\n",
      "3.6\n",
      "3.6/alpine3.10\n",
      "3.6/alpine3.10/Dockerfile\n",
      "3.6/alpine3.9\n",
      "3.6/alpine3.9/Dockerfile\n",
      "3.6/buster\n",
      "3.6/buster/Dockerfile\n",
      "3.6/buster/slim\n",
      "3.6/buster/slim/Dockerfile\n",
      "3.6/jessie\n",
      "3.6/jessie/Dockerfile\n",
      "3.6/jessie/slim\n",
      "3.6/jessie/slim/Dockerfile\n",
      "3.6/stretch\n",
      "3.6/stretch/Dockerfile\n",
      "3.6/stretch/slim\n",
      "3.6/stretch/slim/Dockerfile\n",
      "3.7\n",
      "3.7/alpine3.10\n",
      "3.7/alpine3.10/Dockerfile\n",
      "3.7/alpine3.9\n",
      "3.7/alpine3.9/Dockerfile\n",
      "3.7/buster\n",
      "3.7/buster/Dockerfile\n",
      "3.7/buster/slim\n",
      "3.7/buster/slim/Dockerfile\n",
      "3.7/stretch\n",
      "3.7/stretch/Dockerfile\n",
      "3.7/stretch/slim\n",
      "3.7/stretch/slim/Dockerfile\n",
      "3.7/windows\n",
      "3.7/windows/windowsservercore-1803\n",
      "3.7/windows/windowsservercore-1803/Dockerfile\n",
      "3.7/windows/windowsservercore-1809\n",
      "3.7/windows/windowsservercore-1809/Dockerfile\n",
      "3.7/windows/windowsservercore-ltsc2016\n",
      "3.7/windows/windowsservercore-ltsc2016/Dockerfile\n",
      "3.8-rc\n",
      "3.8-rc/alpine3.10\n",
      "3.8-rc/alpine3.10/Dockerfile\n",
      "3.8-rc/buster\n",
      "3.8-rc/buster/Dockerfile\n",
      "3.8-rc/buster/slim\n",
      "3.8-rc/buster/slim/Dockerfile\n",
      "3.8-rc/windows\n",
      "3.8-rc/windows/windowsservercore-1803\n",
      "3.8-rc/windows/windowsservercore-1803/Dockerfile\n",
      "3.8-rc/windows/windowsservercore-1809\n",
      "3.8-rc/windows/windowsservercore-1809/Dockerfile\n",
      "3.8-rc/windows/windowsservercore-ltsc2016\n",
      "3.8-rc/windows/windowsservercore-ltsc2016/Dockerfile\n",
      "Dockerfile-alpine.template\n",
      "Dockerfile-caveman-alpine.template\n",
      "Dockerfile-caveman-debian.template\n",
      "Dockerfile-caveman-slim.template\n",
      "Dockerfile-caveman-windowsservercore.template\n",
      "Dockerfile-debian.template\n",
      "Dockerfile-slim.template\n",
      "Dockerfile-windowsservercore.template\n",
      "LICENSE\n",
      "README.md\n",
      "generate-stackbrew-library.sh\n",
      "update.sh\n"
     ]
    }
   ],
   "source": [
    "dockerfiles = add_dockerfiles(dockerfiles, repo.get_contents(''))"
   ]
  },
  {
   "cell_type": "code",
   "execution_count": 13,
   "metadata": {},
   "outputs": [
    {
     "data": {
      "text/plain": [
       "[ContentFile(path=\"2.7/alpine3.10/Dockerfile\"),\n",
       " ContentFile(path=\"2.7/alpine3.9/Dockerfile\"),\n",
       " ContentFile(path=\"2.7/buster/Dockerfile\"),\n",
       " ContentFile(path=\"2.7/buster/slim/Dockerfile\"),\n",
       " ContentFile(path=\"2.7/stretch/Dockerfile\"),\n",
       " ContentFile(path=\"2.7/stretch/slim/Dockerfile\"),\n",
       " ContentFile(path=\"2.7/windows/windowsservercore-1803/Dockerfile\"),\n",
       " ContentFile(path=\"2.7/windows/windowsservercore-1809/Dockerfile\"),\n",
       " ContentFile(path=\"2.7/windows/windowsservercore-ltsc2016/Dockerfile\"),\n",
       " ContentFile(path=\"3.5/alpine3.10/Dockerfile\"),\n",
       " ContentFile(path=\"3.5/alpine3.9/Dockerfile\"),\n",
       " ContentFile(path=\"3.5/buster/Dockerfile\"),\n",
       " ContentFile(path=\"3.5/buster/slim/Dockerfile\"),\n",
       " ContentFile(path=\"3.5/stretch/Dockerfile\"),\n",
       " ContentFile(path=\"3.5/stretch/slim/Dockerfile\"),\n",
       " ContentFile(path=\"3.6/alpine3.10/Dockerfile\"),\n",
       " ContentFile(path=\"3.6/alpine3.9/Dockerfile\"),\n",
       " ContentFile(path=\"3.6/buster/Dockerfile\"),\n",
       " ContentFile(path=\"3.6/buster/slim/Dockerfile\"),\n",
       " ContentFile(path=\"3.6/jessie/Dockerfile\"),\n",
       " ContentFile(path=\"3.6/jessie/slim/Dockerfile\"),\n",
       " ContentFile(path=\"3.6/stretch/Dockerfile\"),\n",
       " ContentFile(path=\"3.6/stretch/slim/Dockerfile\"),\n",
       " ContentFile(path=\"3.7/alpine3.10/Dockerfile\"),\n",
       " ContentFile(path=\"3.7/alpine3.9/Dockerfile\"),\n",
       " ContentFile(path=\"3.7/buster/Dockerfile\"),\n",
       " ContentFile(path=\"3.7/buster/slim/Dockerfile\"),\n",
       " ContentFile(path=\"3.7/stretch/Dockerfile\"),\n",
       " ContentFile(path=\"3.7/stretch/slim/Dockerfile\"),\n",
       " ContentFile(path=\"3.7/windows/windowsservercore-1803/Dockerfile\"),\n",
       " ContentFile(path=\"3.7/windows/windowsservercore-1809/Dockerfile\"),\n",
       " ContentFile(path=\"3.7/windows/windowsservercore-ltsc2016/Dockerfile\"),\n",
       " ContentFile(path=\"3.8-rc/alpine3.10/Dockerfile\"),\n",
       " ContentFile(path=\"3.8-rc/buster/Dockerfile\"),\n",
       " ContentFile(path=\"3.8-rc/buster/slim/Dockerfile\"),\n",
       " ContentFile(path=\"3.8-rc/windows/windowsservercore-1803/Dockerfile\"),\n",
       " ContentFile(path=\"3.8-rc/windows/windowsservercore-1809/Dockerfile\"),\n",
       " ContentFile(path=\"3.8-rc/windows/windowsservercore-ltsc2016/Dockerfile\")]"
      ]
     },
     "execution_count": 13,
     "metadata": {},
     "output_type": "execute_result"
    }
   ],
   "source": [
    "dockerfiles"
   ]
  },
  {
   "cell_type": "markdown",
   "metadata": {},
   "source": [
    "Fetch commits for each dockerfile"
   ]
  },
  {
   "cell_type": "code",
   "execution_count": 32,
   "metadata": {},
   "outputs": [
    {
     "name": "stdout",
     "output_type": "stream",
     "text": [
      "2.7/alpine3.10/Dockerfile\n",
      "No of commits 4\n",
      "No of files [File(sha=\"8a85048606702ce8c9474fefa0f9a8ac9146a1b3\", filename=\".travis.yml\"), File(sha=\"624b37c0a57a3b868914b276edad7b97bace0b1d\", filename=\"2.7/alpine3.10/Dockerfile\"), File(sha=\"6c40826e9760d951d54212e29bcf4d7accd55a08\", filename=\"3.5/alpine3.10/Dockerfile\"), File(sha=\"cb385ff8dfce0d06be081b5f759b99676509f5c4\", filename=\"3.6/alpine3.10/Dockerfile\"), File(sha=\"60e82ac76be26899ea5e4b2e461f5dcf11ff8021\", filename=\"3.7/alpine3.10/Dockerfile\"), File(sha=\"a27c7d503a860f701d00c563ed695af03a5df72d\", filename=\"3.8-rc/alpine3.10/Dockerfile\"), File(sha=\"e8d22e5bdf4e923c0db7c95a32c7ab75dc9668ee\", filename=\"update.sh\")]\n",
      "<github.PaginatedList.PaginatedList object at 0x0000021B8B7E4438>\n",
      "\n",
      "\n",
      "2.7/alpine3.9/Dockerfile\n",
      "No of commits 10\n",
      "No of files [File(sha=\"40c8f0649556b0541c2f3206a78a7e1087633538\", filename=\".travis.yml\"), File(sha=\"3a458ecd6e11a33f7da8c3a108777a938addf10b\", filename=\"2.7/alpine3.9/Dockerfile\"), File(sha=\"a27afb0120e75688b932321ba39c91b48d62f3d8\", filename=\"3.4/alpine3.9/Dockerfile\"), File(sha=\"5ca2350864a87ed5fac254e71f2baadfe108d404\", filename=\"3.5/alpine3.9/Dockerfile\"), File(sha=\"f214e0bd0024880272abe19d1b4785b93d49d53a\", filename=\"3.6/alpine3.9/Dockerfile\"), File(sha=\"8411e0ca74cd3eba81703e7144662a06bc8e58ff\", filename=\"3.7/alpine3.9/Dockerfile\"), File(sha=\"b6080e6f3f537299d2f41c1e2aacdd094ad165fc\", filename=\"update.sh\")]\n",
      "<github.PaginatedList.PaginatedList object at 0x0000021B8C30D588>\n",
      "\n",
      "\n",
      "2.7/buster/Dockerfile\n",
      "No of commits 4\n",
      "No of files [File(sha=\"90922a79b4a1b8cf3f4f83464519ee9e77407a0e\", filename=\".travis.yml\"), File(sha=\"e693c6e8bd2c184c07c878f64fa5d38ef1edd1b7\", filename=\"2.7/buster/Dockerfile\"), File(sha=\"e08d2a90d91c786a587b4ef4ca482047315a5f41\", filename=\"2.7/buster/slim/Dockerfile\"), File(sha=\"b692e26578453ca52dc4446baf63d57d8e47b0cd\", filename=\"3.5/buster/Dockerfile\"), File(sha=\"d5d818d80e37b6c82bc0cdfe9683dca7b2ddca6a\", filename=\"3.5/buster/slim/Dockerfile\"), File(sha=\"b56f1a3f5105d4a81361e195bfd0154d04d1d445\", filename=\"3.6/buster/Dockerfile\"), File(sha=\"a01bcdcf6add70068e5a979ed05f174b41637869\", filename=\"3.6/buster/slim/Dockerfile\"), File(sha=\"bb5bd0bd1b587f305f7f2348c66dd9364e886614\", filename=\"3.7/buster/Dockerfile\"), File(sha=\"9cf0c19a6fe94e80f98755f224a3145746032d59\", filename=\"3.7/buster/slim/Dockerfile\"), File(sha=\"8f8d36d77f5c5c6aeaa0d9fa29b886b3260b4166\", filename=\"generate-stackbrew-library.sh\"), File(sha=\"5678a5b68e458d1d625cf5f74a0cbc12dd671f51\", filename=\"update.sh\")]\n",
      "<github.PaginatedList.PaginatedList object at 0x0000021B8C529EF0>\n",
      "\n",
      "\n",
      "2.7/buster/slim/Dockerfile\n",
      "No of commits 4\n",
      "No of files [File(sha=\"90922a79b4a1b8cf3f4f83464519ee9e77407a0e\", filename=\".travis.yml\"), File(sha=\"e693c6e8bd2c184c07c878f64fa5d38ef1edd1b7\", filename=\"2.7/buster/Dockerfile\"), File(sha=\"e08d2a90d91c786a587b4ef4ca482047315a5f41\", filename=\"2.7/buster/slim/Dockerfile\"), File(sha=\"b692e26578453ca52dc4446baf63d57d8e47b0cd\", filename=\"3.5/buster/Dockerfile\"), File(sha=\"d5d818d80e37b6c82bc0cdfe9683dca7b2ddca6a\", filename=\"3.5/buster/slim/Dockerfile\"), File(sha=\"b56f1a3f5105d4a81361e195bfd0154d04d1d445\", filename=\"3.6/buster/Dockerfile\"), File(sha=\"a01bcdcf6add70068e5a979ed05f174b41637869\", filename=\"3.6/buster/slim/Dockerfile\"), File(sha=\"bb5bd0bd1b587f305f7f2348c66dd9364e886614\", filename=\"3.7/buster/Dockerfile\"), File(sha=\"9cf0c19a6fe94e80f98755f224a3145746032d59\", filename=\"3.7/buster/slim/Dockerfile\"), File(sha=\"8f8d36d77f5c5c6aeaa0d9fa29b886b3260b4166\", filename=\"generate-stackbrew-library.sh\"), File(sha=\"5678a5b68e458d1d625cf5f74a0cbc12dd671f51\", filename=\"update.sh\")]\n",
      "<github.PaginatedList.PaginatedList object at 0x0000021B8BA7EC88>\n",
      "\n",
      "\n",
      "2.7/stretch/Dockerfile\n",
      "No of commits 25\n",
      "No of files [File(sha=\"ca70b59c25f3f4aa3e08dca2ca4619c9feb8bca1\", filename=\".travis.yml\"), File(sha=\"43a278f6dedd85a51a77cc979903658a32a38f0e\", filename=\"2.7/stretch/Dockerfile\"), File(sha=\"b9141122928e9513e7ade6f311d7989856fd4cbf\", filename=\"3.6/stretch/Dockerfile\"), File(sha=\"05f4e7207d06f3beeba6c7e5a184976c64a84766\", filename=\"update.sh\")]\n",
      "<github.PaginatedList.PaginatedList object at 0x0000021B8AEF4F28>\n",
      "\n",
      "\n",
      "2.7/stretch/slim/Dockerfile\n",
      "No of commits 28\n",
      "No of files [File(sha=\"e1f67631d222a59c627368ad619d4122bd53ecd4\", filename=\".travis.yml\"), File(sha=\"111f2eb5e0d141309cd2f63e8df6b963593eda56\", filename=\"2.7/jessie/slim/Dockerfile\"), File(sha=\"11ce1c0658d39b886cf68bb079a1223a116675e5\", filename=\"2.7/stretch/slim/Dockerfile\"), File(sha=\"7a6486eb42627cfd7672411d7e87de4a9ec6f90f\", filename=\"3.6/stretch/slim/Dockerfile\"), File(sha=\"5a0ffcdc30915c3b1de1e0fc5b2f813f86cdd5c0\", filename=\"generate-stackbrew-library.sh\")]\n",
      "<github.PaginatedList.PaginatedList object at 0x0000021B8C137D30>\n",
      "\n",
      "\n",
      "2.7/windows/windowsservercore-1803/Dockerfile\n",
      "No of commits 8\n",
      "No of files [File(sha=\"c981408c448aefc227a154d472dab3acc30f9b73\", filename=\".appveyor.yml\"), File(sha=\"25d1b5cfdb798fb0a27876cb739e639e1559945b\", filename=\"2.7/windows/windowsservercore-1709/Dockerfile\"), File(sha=\"5c46939edd2566f2eca4417c1d8d1653cdd8089e\", filename=\"2.7/windows/windowsservercore-1803/Dockerfile\"), File(sha=\"79a9c2f6c24a467089a4c3e86768f43e15ba1852\", filename=\"2.7/windows/windowsservercore-1809/Dockerfile\"), File(sha=\"2fcd7835cabda82990579307c3611326b985c2c5\", filename=\"2.7/windows/windowsservercore-ltsc2016/Dockerfile\"), File(sha=\"3d8249fbc04e21ae41273eab17e4795f93c46d3e\", filename=\"3.6/windows/windowsservercore-1709/Dockerfile\"), File(sha=\"fb0e7b31811bd376f9c4f320de864574d73efb54\", filename=\"3.6/windows/windowsservercore-1803/Dockerfile\"), File(sha=\"17b371155adcff5d722c7a01a9e01db8841c1b44\", filename=\"3.6/windows/windowsservercore-1809/Dockerfile\"), File(sha=\"f50dd7b5bb725dae497b85a33a4e5e5d8179d6f2\", filename=\"3.6/windows/windowsservercore-ltsc2016/Dockerfile\"), File(sha=\"93041a22e3d6166e13072227a50710e13c2c17a3\", filename=\"3.7/windows/windowsservercore-1709/Dockerfile\"), File(sha=\"4527d0bd74d921cdd6f5e5b7d3c61916ea30cff2\", filename=\"3.7/windows/windowsservercore-1803/Dockerfile\"), File(sha=\"83064407ac105a83af8bdab5f0ca7194d851fcfa\", filename=\"3.7/windows/windowsservercore-1809/Dockerfile\"), File(sha=\"ec82e485c1298802401e50c90216102602ead061\", filename=\"3.7/windows/windowsservercore-ltsc2016/Dockerfile\"), File(sha=\"2b0bc111640711ae0b5cec1cae7350649313c187\", filename=\"update.sh\")]\n",
      "<github.PaginatedList.PaginatedList object at 0x0000021B8C14CDD8>\n",
      "\n",
      "\n",
      "2.7/windows/windowsservercore-1809/Dockerfile\n",
      "No of commits 8\n",
      "No of files [File(sha=\"c981408c448aefc227a154d472dab3acc30f9b73\", filename=\".appveyor.yml\"), File(sha=\"25d1b5cfdb798fb0a27876cb739e639e1559945b\", filename=\"2.7/windows/windowsservercore-1709/Dockerfile\"), File(sha=\"5c46939edd2566f2eca4417c1d8d1653cdd8089e\", filename=\"2.7/windows/windowsservercore-1803/Dockerfile\"), File(sha=\"79a9c2f6c24a467089a4c3e86768f43e15ba1852\", filename=\"2.7/windows/windowsservercore-1809/Dockerfile\"), File(sha=\"2fcd7835cabda82990579307c3611326b985c2c5\", filename=\"2.7/windows/windowsservercore-ltsc2016/Dockerfile\"), File(sha=\"3d8249fbc04e21ae41273eab17e4795f93c46d3e\", filename=\"3.6/windows/windowsservercore-1709/Dockerfile\"), File(sha=\"fb0e7b31811bd376f9c4f320de864574d73efb54\", filename=\"3.6/windows/windowsservercore-1803/Dockerfile\"), File(sha=\"17b371155adcff5d722c7a01a9e01db8841c1b44\", filename=\"3.6/windows/windowsservercore-1809/Dockerfile\"), File(sha=\"f50dd7b5bb725dae497b85a33a4e5e5d8179d6f2\", filename=\"3.6/windows/windowsservercore-ltsc2016/Dockerfile\"), File(sha=\"93041a22e3d6166e13072227a50710e13c2c17a3\", filename=\"3.7/windows/windowsservercore-1709/Dockerfile\"), File(sha=\"4527d0bd74d921cdd6f5e5b7d3c61916ea30cff2\", filename=\"3.7/windows/windowsservercore-1803/Dockerfile\"), File(sha=\"83064407ac105a83af8bdab5f0ca7194d851fcfa\", filename=\"3.7/windows/windowsservercore-1809/Dockerfile\"), File(sha=\"ec82e485c1298802401e50c90216102602ead061\", filename=\"3.7/windows/windowsservercore-ltsc2016/Dockerfile\"), File(sha=\"2b0bc111640711ae0b5cec1cae7350649313c187\", filename=\"update.sh\")]\n",
      "<github.PaginatedList.PaginatedList object at 0x0000021B8B8FFE10>\n",
      "\n",
      "\n",
      "2.7/windows/windowsservercore-ltsc2016/Dockerfile\n",
      "No of commits 21\n",
      "No of files [File(sha=\"9419a182325673ed82dedb14cb087c784e7b93c0\", filename=\".appveyor.yml\"), File(sha=\"ef81fe2adf4938c02eb3b233273598b628cb197c\", filename=\"2.7/windows/windowsservercore-1709/Dockerfile\"), File(sha=\"38835fdb5b361d6d37d9c1efb0a00df6ffb6cbfe\", filename=\"2.7/windows/windowsservercore-ltsc2016/Dockerfile\"), File(sha=\"badcfc98e7878dc2218e6ee12fddadd669b565bf\", filename=\"3.5/windows/windowsservercore-1709/Dockerfile\"), File(sha=\"84aa4f7a0d97f798d38a87c5fa2aad7c3f24d935\", filename=\"3.5/windows/windowsservercore-ltsc2016/Dockerfile\"), File(sha=\"d4e192cb982335567175ac781e8000b7e5312ac0\", filename=\"3.6/windows/windowsservercore-1709/Dockerfile\"), File(sha=\"32197b60cd227cd35e2882df6ff0da16ecd71384\", filename=\"3.6/windows/windowsservercore-ltsc2016/Dockerfile\"), File(sha=\"37e04da667fbb55ca0ae7ad82348389f3773cad7\", filename=\"3.7-rc/windows/windowsservercore-1709/Dockerfile\"), File(sha=\"60f9efc0f5c43334418ac18e260330c7c067e60b\", filename=\"3.7-rc/windows/windowsservercore-ltsc2016/Dockerfile\"), File(sha=\"2398169069bea9d58f60da2028516f1f45c94b3d\", filename=\"Dockerfile-windowsservercore.template\"), File(sha=\"6524a82c567924602e38679f1bf095d586e09ac2\", filename=\"generate-stackbrew-library.sh\"), File(sha=\"4265449b5136113feb808f1cec7e5da6b8c2a4ea\", filename=\"update.sh\")]\n",
      "<github.PaginatedList.PaginatedList object at 0x0000021B8C570A20>\n",
      "\n",
      "\n",
      "3.5/alpine3.10/Dockerfile\n"
     ]
    },
    {
     "name": "stdout",
     "output_type": "stream",
     "text": [
      "No of commits 6\n",
      "No of files [File(sha=\"8a85048606702ce8c9474fefa0f9a8ac9146a1b3\", filename=\".travis.yml\"), File(sha=\"624b37c0a57a3b868914b276edad7b97bace0b1d\", filename=\"2.7/alpine3.10/Dockerfile\"), File(sha=\"6c40826e9760d951d54212e29bcf4d7accd55a08\", filename=\"3.5/alpine3.10/Dockerfile\"), File(sha=\"cb385ff8dfce0d06be081b5f759b99676509f5c4\", filename=\"3.6/alpine3.10/Dockerfile\"), File(sha=\"60e82ac76be26899ea5e4b2e461f5dcf11ff8021\", filename=\"3.7/alpine3.10/Dockerfile\"), File(sha=\"a27c7d503a860f701d00c563ed695af03a5df72d\", filename=\"3.8-rc/alpine3.10/Dockerfile\"), File(sha=\"e8d22e5bdf4e923c0db7c95a32c7ab75dc9668ee\", filename=\"update.sh\")]\n",
      "<github.PaginatedList.PaginatedList object at 0x0000021B8C14C5C0>\n",
      "\n",
      "\n",
      "3.5/alpine3.9/Dockerfile\n",
      "No of commits 12\n",
      "No of files [File(sha=\"40c8f0649556b0541c2f3206a78a7e1087633538\", filename=\".travis.yml\"), File(sha=\"3a458ecd6e11a33f7da8c3a108777a938addf10b\", filename=\"2.7/alpine3.9/Dockerfile\"), File(sha=\"a27afb0120e75688b932321ba39c91b48d62f3d8\", filename=\"3.4/alpine3.9/Dockerfile\"), File(sha=\"5ca2350864a87ed5fac254e71f2baadfe108d404\", filename=\"3.5/alpine3.9/Dockerfile\"), File(sha=\"f214e0bd0024880272abe19d1b4785b93d49d53a\", filename=\"3.6/alpine3.9/Dockerfile\"), File(sha=\"8411e0ca74cd3eba81703e7144662a06bc8e58ff\", filename=\"3.7/alpine3.9/Dockerfile\"), File(sha=\"b6080e6f3f537299d2f41c1e2aacdd094ad165fc\", filename=\"update.sh\")]\n",
      "<github.PaginatedList.PaginatedList object at 0x0000021B8C5C0B00>\n",
      "\n",
      "\n",
      "3.5/buster/Dockerfile\n",
      "No of commits 5\n",
      "No of files [File(sha=\"90922a79b4a1b8cf3f4f83464519ee9e77407a0e\", filename=\".travis.yml\"), File(sha=\"e693c6e8bd2c184c07c878f64fa5d38ef1edd1b7\", filename=\"2.7/buster/Dockerfile\"), File(sha=\"e08d2a90d91c786a587b4ef4ca482047315a5f41\", filename=\"2.7/buster/slim/Dockerfile\"), File(sha=\"b692e26578453ca52dc4446baf63d57d8e47b0cd\", filename=\"3.5/buster/Dockerfile\"), File(sha=\"d5d818d80e37b6c82bc0cdfe9683dca7b2ddca6a\", filename=\"3.5/buster/slim/Dockerfile\"), File(sha=\"b56f1a3f5105d4a81361e195bfd0154d04d1d445\", filename=\"3.6/buster/Dockerfile\"), File(sha=\"a01bcdcf6add70068e5a979ed05f174b41637869\", filename=\"3.6/buster/slim/Dockerfile\"), File(sha=\"bb5bd0bd1b587f305f7f2348c66dd9364e886614\", filename=\"3.7/buster/Dockerfile\"), File(sha=\"9cf0c19a6fe94e80f98755f224a3145746032d59\", filename=\"3.7/buster/slim/Dockerfile\"), File(sha=\"8f8d36d77f5c5c6aeaa0d9fa29b886b3260b4166\", filename=\"generate-stackbrew-library.sh\"), File(sha=\"5678a5b68e458d1d625cf5f74a0cbc12dd671f51\", filename=\"update.sh\")]\n",
      "<github.PaginatedList.PaginatedList object at 0x0000021B8BF6A358>\n",
      "\n",
      "\n",
      "3.5/buster/slim/Dockerfile\n",
      "No of commits 5\n",
      "No of files [File(sha=\"90922a79b4a1b8cf3f4f83464519ee9e77407a0e\", filename=\".travis.yml\"), File(sha=\"e693c6e8bd2c184c07c878f64fa5d38ef1edd1b7\", filename=\"2.7/buster/Dockerfile\"), File(sha=\"e08d2a90d91c786a587b4ef4ca482047315a5f41\", filename=\"2.7/buster/slim/Dockerfile\"), File(sha=\"b692e26578453ca52dc4446baf63d57d8e47b0cd\", filename=\"3.5/buster/Dockerfile\"), File(sha=\"d5d818d80e37b6c82bc0cdfe9683dca7b2ddca6a\", filename=\"3.5/buster/slim/Dockerfile\"), File(sha=\"b56f1a3f5105d4a81361e195bfd0154d04d1d445\", filename=\"3.6/buster/Dockerfile\"), File(sha=\"a01bcdcf6add70068e5a979ed05f174b41637869\", filename=\"3.6/buster/slim/Dockerfile\"), File(sha=\"bb5bd0bd1b587f305f7f2348c66dd9364e886614\", filename=\"3.7/buster/Dockerfile\"), File(sha=\"9cf0c19a6fe94e80f98755f224a3145746032d59\", filename=\"3.7/buster/slim/Dockerfile\"), File(sha=\"8f8d36d77f5c5c6aeaa0d9fa29b886b3260b4166\", filename=\"generate-stackbrew-library.sh\"), File(sha=\"5678a5b68e458d1d625cf5f74a0cbc12dd671f51\", filename=\"update.sh\")]\n",
      "<github.PaginatedList.PaginatedList object at 0x0000021B8C59BC50>\n",
      "\n",
      "\n",
      "3.5/stretch/Dockerfile\n",
      "No of commits 19\n",
      "No of files [File(sha=\"fa1404ab8e4b92deb77f641658666ef90d6267c7\", filename=\"3.5/stretch/Dockerfile\"), File(sha=\"65bbdee8ad96f036005935f7f0a5f5161732251a\", filename=\"3.5/stretch/slim/Dockerfile\")]\n",
      "<github.PaginatedList.PaginatedList object at 0x0000021B8B2DDBE0>\n",
      "\n",
      "\n",
      "3.5/stretch/slim/Dockerfile\n",
      "No of commits 21\n",
      "No of files [File(sha=\"fa1404ab8e4b92deb77f641658666ef90d6267c7\", filename=\"3.5/stretch/Dockerfile\"), File(sha=\"65bbdee8ad96f036005935f7f0a5f5161732251a\", filename=\"3.5/stretch/slim/Dockerfile\")]\n",
      "<github.PaginatedList.PaginatedList object at 0x0000021B8BF70A90>\n",
      "\n",
      "\n",
      "3.6/alpine3.10/Dockerfile\n",
      "No of commits 7\n",
      "No of files [File(sha=\"8a85048606702ce8c9474fefa0f9a8ac9146a1b3\", filename=\".travis.yml\"), File(sha=\"624b37c0a57a3b868914b276edad7b97bace0b1d\", filename=\"2.7/alpine3.10/Dockerfile\"), File(sha=\"6c40826e9760d951d54212e29bcf4d7accd55a08\", filename=\"3.5/alpine3.10/Dockerfile\"), File(sha=\"cb385ff8dfce0d06be081b5f759b99676509f5c4\", filename=\"3.6/alpine3.10/Dockerfile\"), File(sha=\"60e82ac76be26899ea5e4b2e461f5dcf11ff8021\", filename=\"3.7/alpine3.10/Dockerfile\"), File(sha=\"a27c7d503a860f701d00c563ed695af03a5df72d\", filename=\"3.8-rc/alpine3.10/Dockerfile\"), File(sha=\"e8d22e5bdf4e923c0db7c95a32c7ab75dc9668ee\", filename=\"update.sh\")]\n",
      "<github.PaginatedList.PaginatedList object at 0x0000021B8C119B70>\n",
      "\n",
      "\n",
      "3.6/alpine3.9/Dockerfile\n",
      "No of commits 12\n",
      "No of files [File(sha=\"40c8f0649556b0541c2f3206a78a7e1087633538\", filename=\".travis.yml\"), File(sha=\"3a458ecd6e11a33f7da8c3a108777a938addf10b\", filename=\"2.7/alpine3.9/Dockerfile\"), File(sha=\"a27afb0120e75688b932321ba39c91b48d62f3d8\", filename=\"3.4/alpine3.9/Dockerfile\"), File(sha=\"5ca2350864a87ed5fac254e71f2baadfe108d404\", filename=\"3.5/alpine3.9/Dockerfile\"), File(sha=\"f214e0bd0024880272abe19d1b4785b93d49d53a\", filename=\"3.6/alpine3.9/Dockerfile\"), File(sha=\"8411e0ca74cd3eba81703e7144662a06bc8e58ff\", filename=\"3.7/alpine3.9/Dockerfile\"), File(sha=\"b6080e6f3f537299d2f41c1e2aacdd094ad165fc\", filename=\"update.sh\")]\n",
      "<github.PaginatedList.PaginatedList object at 0x0000021B8B1D22E8>\n",
      "\n",
      "\n",
      "3.6/buster/Dockerfile\n",
      "No of commits 5\n",
      "No of files [File(sha=\"90922a79b4a1b8cf3f4f83464519ee9e77407a0e\", filename=\".travis.yml\"), File(sha=\"e693c6e8bd2c184c07c878f64fa5d38ef1edd1b7\", filename=\"2.7/buster/Dockerfile\"), File(sha=\"e08d2a90d91c786a587b4ef4ca482047315a5f41\", filename=\"2.7/buster/slim/Dockerfile\"), File(sha=\"b692e26578453ca52dc4446baf63d57d8e47b0cd\", filename=\"3.5/buster/Dockerfile\"), File(sha=\"d5d818d80e37b6c82bc0cdfe9683dca7b2ddca6a\", filename=\"3.5/buster/slim/Dockerfile\"), File(sha=\"b56f1a3f5105d4a81361e195bfd0154d04d1d445\", filename=\"3.6/buster/Dockerfile\"), File(sha=\"a01bcdcf6add70068e5a979ed05f174b41637869\", filename=\"3.6/buster/slim/Dockerfile\"), File(sha=\"bb5bd0bd1b587f305f7f2348c66dd9364e886614\", filename=\"3.7/buster/Dockerfile\"), File(sha=\"9cf0c19a6fe94e80f98755f224a3145746032d59\", filename=\"3.7/buster/slim/Dockerfile\"), File(sha=\"8f8d36d77f5c5c6aeaa0d9fa29b886b3260b4166\", filename=\"generate-stackbrew-library.sh\"), File(sha=\"5678a5b68e458d1d625cf5f74a0cbc12dd671f51\", filename=\"update.sh\")]\n",
      "<github.PaginatedList.PaginatedList object at 0x0000021B8BF6A860>\n",
      "\n",
      "\n",
      "3.6/buster/slim/Dockerfile\n",
      "No of commits 5\n",
      "No of files [File(sha=\"90922a79b4a1b8cf3f4f83464519ee9e77407a0e\", filename=\".travis.yml\"), File(sha=\"e693c6e8bd2c184c07c878f64fa5d38ef1edd1b7\", filename=\"2.7/buster/Dockerfile\"), File(sha=\"e08d2a90d91c786a587b4ef4ca482047315a5f41\", filename=\"2.7/buster/slim/Dockerfile\"), File(sha=\"b692e26578453ca52dc4446baf63d57d8e47b0cd\", filename=\"3.5/buster/Dockerfile\"), File(sha=\"d5d818d80e37b6c82bc0cdfe9683dca7b2ddca6a\", filename=\"3.5/buster/slim/Dockerfile\"), File(sha=\"b56f1a3f5105d4a81361e195bfd0154d04d1d445\", filename=\"3.6/buster/Dockerfile\"), File(sha=\"a01bcdcf6add70068e5a979ed05f174b41637869\", filename=\"3.6/buster/slim/Dockerfile\"), File(sha=\"bb5bd0bd1b587f305f7f2348c66dd9364e886614\", filename=\"3.7/buster/Dockerfile\"), File(sha=\"9cf0c19a6fe94e80f98755f224a3145746032d59\", filename=\"3.7/buster/slim/Dockerfile\"), File(sha=\"8f8d36d77f5c5c6aeaa0d9fa29b886b3260b4166\", filename=\"generate-stackbrew-library.sh\"), File(sha=\"5678a5b68e458d1d625cf5f74a0cbc12dd671f51\", filename=\"update.sh\")]\n",
      "<github.PaginatedList.PaginatedList object at 0x0000021B8C59B438>\n",
      "\n",
      "\n",
      "3.6/jessie/Dockerfile\n",
      "No of commits 24\n",
      "No of files [File(sha=\"74f6705cbed58160762ffb2798695c5471d20d06\", filename=\".travis.yml\"), File(sha=\"b0d688f852db46b6b671b6ddceac5602e8b911e6\", filename=\"2.7/alpine3.4/Dockerfile\"), File(sha=\"9f8987c87a32079485293cafae19cce11e54d9e2\", filename=\"2.7/jessie/Dockerfile\"), File(sha=\"304d79a058f08c7c27a46a3b5e1f5661e30ffe43\", filename=\"2.7/jessie/onbuild/Dockerfile\"), File(sha=\"d3180335dcd262dd2092bc069c00235e6af8dc88\", filename=\"2.7/jessie/slim/Dockerfile\"), File(sha=\"d100446728da791d9b0057b5b707d887a5af2fd7\", filename=\"3.3/alpine3.4/Dockerfile\"), File(sha=\"d730097482edcc7593c46834b55ee4586dbcb387\", filename=\"3.3/jessie/Dockerfile\"), File(sha=\"bc96d2fc756d9bafeea87e167c7af1d83c518d37\", filename=\"3.3/jessie/onbuild/Dockerfile\"), File(sha=\"49c5688d0350c7d78fb14b61d9744962fb9fa5ba\", filename=\"3.3/jessie/slim/Dockerfile\"), File(sha=\"28107239c50a7e2910a0bda95b42b3099a45d6e7\", filename=\"3.4/alpine3.4/Dockerfile\"), File(sha=\"292b7bcafdfc1365069cd53a13b8245b6aa58687\", filename=\"3.4/jessie/Dockerfile\"), File(sha=\"892c9c321eaac661bef5a965ebe5663f3221e124\", filename=\"3.4/jessie/onbuild/Dockerfile\"), File(sha=\"aa56978f68ef402ef8fb665858c1d03073bbdb30\", filename=\"3.4/jessie/slim/Dockerfile\"), File(sha=\"c878ca76fd071e58eb1ae0c5ee6ca3abbca84f17\", filename=\"3.5/alpine3.4/Dockerfile\"), File(sha=\"e6085da6114db1b5409ac557ed760fb2a9def2f9\", filename=\"3.5/jessie/Dockerfile\"), File(sha=\"45b1f2a3951051c1a238a0fc2b4c1ecc7b138c51\", filename=\"3.5/jessie/onbuild/Dockerfile\"), File(sha=\"38c8a5b2ccf856c430a17da12a16a93d75a6f43f\", filename=\"3.5/jessie/slim/Dockerfile\"), File(sha=\"9fbe0c7b1fb793dbc279789923fe46e0d25e8223\", filename=\"3.6/alpine3.4/Dockerfile\"), File(sha=\"e902a08d3e8f4392cd420a2a5555d65d81ad121d\", filename=\"3.6/jessie/Dockerfile\"), File(sha=\"ec9f39f4d70353353eae252714399d4b041c3808\", filename=\"3.6/jessie/onbuild/Dockerfile\"), File(sha=\"875233f66c720227710e63fdbff83ab4c6275298\", filename=\"3.6/jessie/slim/Dockerfile\"), File(sha=\"4c8d7e2c95ece327af62ca7a893691ce263ba1ad\", filename=\"Dockerfile-alpine.template\"), File(sha=\"6799174e573e2e2ad61fdc934375a653b07012de\", filename=\"Dockerfile-debian.template\"), File(sha=\"638baeaad93ba34ab4472000689851db93021be4\", filename=\"Dockerfile-slim.template\"), File(sha=\"481b6d2f740a80a5489be0c110eef226bca301c4\", filename=\"generate-stackbrew-library.sh\"), File(sha=\"21363f32451231d28e4e0f34f0e443dbf7b14297\", filename=\"update.sh\")]\n",
      "<github.PaginatedList.PaginatedList object at 0x0000021B8BB477B8>\n",
      "\n",
      "\n",
      "3.6/jessie/slim/Dockerfile\n"
     ]
    },
    {
     "name": "stdout",
     "output_type": "stream",
     "text": [
      "No of commits 31\n",
      "No of files [File(sha=\"74f6705cbed58160762ffb2798695c5471d20d06\", filename=\".travis.yml\"), File(sha=\"b0d688f852db46b6b671b6ddceac5602e8b911e6\", filename=\"2.7/alpine3.4/Dockerfile\"), File(sha=\"9f8987c87a32079485293cafae19cce11e54d9e2\", filename=\"2.7/jessie/Dockerfile\"), File(sha=\"304d79a058f08c7c27a46a3b5e1f5661e30ffe43\", filename=\"2.7/jessie/onbuild/Dockerfile\"), File(sha=\"d3180335dcd262dd2092bc069c00235e6af8dc88\", filename=\"2.7/jessie/slim/Dockerfile\"), File(sha=\"d100446728da791d9b0057b5b707d887a5af2fd7\", filename=\"3.3/alpine3.4/Dockerfile\"), File(sha=\"d730097482edcc7593c46834b55ee4586dbcb387\", filename=\"3.3/jessie/Dockerfile\"), File(sha=\"bc96d2fc756d9bafeea87e167c7af1d83c518d37\", filename=\"3.3/jessie/onbuild/Dockerfile\"), File(sha=\"49c5688d0350c7d78fb14b61d9744962fb9fa5ba\", filename=\"3.3/jessie/slim/Dockerfile\"), File(sha=\"28107239c50a7e2910a0bda95b42b3099a45d6e7\", filename=\"3.4/alpine3.4/Dockerfile\"), File(sha=\"292b7bcafdfc1365069cd53a13b8245b6aa58687\", filename=\"3.4/jessie/Dockerfile\"), File(sha=\"892c9c321eaac661bef5a965ebe5663f3221e124\", filename=\"3.4/jessie/onbuild/Dockerfile\"), File(sha=\"aa56978f68ef402ef8fb665858c1d03073bbdb30\", filename=\"3.4/jessie/slim/Dockerfile\"), File(sha=\"c878ca76fd071e58eb1ae0c5ee6ca3abbca84f17\", filename=\"3.5/alpine3.4/Dockerfile\"), File(sha=\"e6085da6114db1b5409ac557ed760fb2a9def2f9\", filename=\"3.5/jessie/Dockerfile\"), File(sha=\"45b1f2a3951051c1a238a0fc2b4c1ecc7b138c51\", filename=\"3.5/jessie/onbuild/Dockerfile\"), File(sha=\"38c8a5b2ccf856c430a17da12a16a93d75a6f43f\", filename=\"3.5/jessie/slim/Dockerfile\"), File(sha=\"9fbe0c7b1fb793dbc279789923fe46e0d25e8223\", filename=\"3.6/alpine3.4/Dockerfile\"), File(sha=\"e902a08d3e8f4392cd420a2a5555d65d81ad121d\", filename=\"3.6/jessie/Dockerfile\"), File(sha=\"ec9f39f4d70353353eae252714399d4b041c3808\", filename=\"3.6/jessie/onbuild/Dockerfile\"), File(sha=\"875233f66c720227710e63fdbff83ab4c6275298\", filename=\"3.6/jessie/slim/Dockerfile\"), File(sha=\"4c8d7e2c95ece327af62ca7a893691ce263ba1ad\", filename=\"Dockerfile-alpine.template\"), File(sha=\"6799174e573e2e2ad61fdc934375a653b07012de\", filename=\"Dockerfile-debian.template\"), File(sha=\"638baeaad93ba34ab4472000689851db93021be4\", filename=\"Dockerfile-slim.template\"), File(sha=\"481b6d2f740a80a5489be0c110eef226bca301c4\", filename=\"generate-stackbrew-library.sh\"), File(sha=\"21363f32451231d28e4e0f34f0e443dbf7b14297\", filename=\"update.sh\")]\n",
      "<github.PaginatedList.PaginatedList object at 0x0000021B8C1359B0>\n",
      "\n",
      "\n",
      "3.6/stretch/Dockerfile\n",
      "No of commits 29\n",
      "No of files [File(sha=\"ca70b59c25f3f4aa3e08dca2ca4619c9feb8bca1\", filename=\".travis.yml\"), File(sha=\"43a278f6dedd85a51a77cc979903658a32a38f0e\", filename=\"2.7/stretch/Dockerfile\"), File(sha=\"b9141122928e9513e7ade6f311d7989856fd4cbf\", filename=\"3.6/stretch/Dockerfile\"), File(sha=\"05f4e7207d06f3beeba6c7e5a184976c64a84766\", filename=\"update.sh\")]\n",
      "<github.PaginatedList.PaginatedList object at 0x0000021B8C5EC898>\n",
      "\n",
      "\n",
      "3.6/stretch/slim/Dockerfile\n",
      "No of commits 32\n",
      "No of files [File(sha=\"e1f67631d222a59c627368ad619d4122bd53ecd4\", filename=\".travis.yml\"), File(sha=\"111f2eb5e0d141309cd2f63e8df6b963593eda56\", filename=\"2.7/jessie/slim/Dockerfile\"), File(sha=\"11ce1c0658d39b886cf68bb079a1223a116675e5\", filename=\"2.7/stretch/slim/Dockerfile\"), File(sha=\"7a6486eb42627cfd7672411d7e87de4a9ec6f90f\", filename=\"3.6/stretch/slim/Dockerfile\"), File(sha=\"5a0ffcdc30915c3b1de1e0fc5b2f813f86cdd5c0\", filename=\"generate-stackbrew-library.sh\")]\n",
      "<github.PaginatedList.PaginatedList object at 0x0000021B8C186668>\n",
      "\n",
      "\n",
      "3.7/alpine3.10/Dockerfile\n",
      "No of commits 7\n",
      "No of files [File(sha=\"8a85048606702ce8c9474fefa0f9a8ac9146a1b3\", filename=\".travis.yml\"), File(sha=\"624b37c0a57a3b868914b276edad7b97bace0b1d\", filename=\"2.7/alpine3.10/Dockerfile\"), File(sha=\"6c40826e9760d951d54212e29bcf4d7accd55a08\", filename=\"3.5/alpine3.10/Dockerfile\"), File(sha=\"cb385ff8dfce0d06be081b5f759b99676509f5c4\", filename=\"3.6/alpine3.10/Dockerfile\"), File(sha=\"60e82ac76be26899ea5e4b2e461f5dcf11ff8021\", filename=\"3.7/alpine3.10/Dockerfile\"), File(sha=\"a27c7d503a860f701d00c563ed695af03a5df72d\", filename=\"3.8-rc/alpine3.10/Dockerfile\"), File(sha=\"e8d22e5bdf4e923c0db7c95a32c7ab75dc9668ee\", filename=\"update.sh\")]\n",
      "<github.PaginatedList.PaginatedList object at 0x0000021B8C112358>\n",
      "\n",
      "\n",
      "3.7/alpine3.9/Dockerfile\n",
      "No of commits 13\n",
      "No of files [File(sha=\"40c8f0649556b0541c2f3206a78a7e1087633538\", filename=\".travis.yml\"), File(sha=\"3a458ecd6e11a33f7da8c3a108777a938addf10b\", filename=\"2.7/alpine3.9/Dockerfile\"), File(sha=\"a27afb0120e75688b932321ba39c91b48d62f3d8\", filename=\"3.4/alpine3.9/Dockerfile\"), File(sha=\"5ca2350864a87ed5fac254e71f2baadfe108d404\", filename=\"3.5/alpine3.9/Dockerfile\"), File(sha=\"f214e0bd0024880272abe19d1b4785b93d49d53a\", filename=\"3.6/alpine3.9/Dockerfile\"), File(sha=\"8411e0ca74cd3eba81703e7144662a06bc8e58ff\", filename=\"3.7/alpine3.9/Dockerfile\"), File(sha=\"b6080e6f3f537299d2f41c1e2aacdd094ad165fc\", filename=\"update.sh\")]\n",
      "<github.PaginatedList.PaginatedList object at 0x0000021B8C5DAF98>\n",
      "\n",
      "\n",
      "3.7/buster/Dockerfile\n",
      "No of commits 5\n",
      "No of files [File(sha=\"90922a79b4a1b8cf3f4f83464519ee9e77407a0e\", filename=\".travis.yml\"), File(sha=\"e693c6e8bd2c184c07c878f64fa5d38ef1edd1b7\", filename=\"2.7/buster/Dockerfile\"), File(sha=\"e08d2a90d91c786a587b4ef4ca482047315a5f41\", filename=\"2.7/buster/slim/Dockerfile\"), File(sha=\"b692e26578453ca52dc4446baf63d57d8e47b0cd\", filename=\"3.5/buster/Dockerfile\"), File(sha=\"d5d818d80e37b6c82bc0cdfe9683dca7b2ddca6a\", filename=\"3.5/buster/slim/Dockerfile\"), File(sha=\"b56f1a3f5105d4a81361e195bfd0154d04d1d445\", filename=\"3.6/buster/Dockerfile\"), File(sha=\"a01bcdcf6add70068e5a979ed05f174b41637869\", filename=\"3.6/buster/slim/Dockerfile\"), File(sha=\"bb5bd0bd1b587f305f7f2348c66dd9364e886614\", filename=\"3.7/buster/Dockerfile\"), File(sha=\"9cf0c19a6fe94e80f98755f224a3145746032d59\", filename=\"3.7/buster/slim/Dockerfile\"), File(sha=\"8f8d36d77f5c5c6aeaa0d9fa29b886b3260b4166\", filename=\"generate-stackbrew-library.sh\"), File(sha=\"5678a5b68e458d1d625cf5f74a0cbc12dd671f51\", filename=\"update.sh\")]\n",
      "<github.PaginatedList.PaginatedList object at 0x0000021B8C1587F0>\n",
      "\n",
      "\n",
      "3.7/buster/slim/Dockerfile\n",
      "No of commits 5\n",
      "No of files [File(sha=\"90922a79b4a1b8cf3f4f83464519ee9e77407a0e\", filename=\".travis.yml\"), File(sha=\"e693c6e8bd2c184c07c878f64fa5d38ef1edd1b7\", filename=\"2.7/buster/Dockerfile\"), File(sha=\"e08d2a90d91c786a587b4ef4ca482047315a5f41\", filename=\"2.7/buster/slim/Dockerfile\"), File(sha=\"b692e26578453ca52dc4446baf63d57d8e47b0cd\", filename=\"3.5/buster/Dockerfile\"), File(sha=\"d5d818d80e37b6c82bc0cdfe9683dca7b2ddca6a\", filename=\"3.5/buster/slim/Dockerfile\"), File(sha=\"b56f1a3f5105d4a81361e195bfd0154d04d1d445\", filename=\"3.6/buster/Dockerfile\"), File(sha=\"a01bcdcf6add70068e5a979ed05f174b41637869\", filename=\"3.6/buster/slim/Dockerfile\"), File(sha=\"bb5bd0bd1b587f305f7f2348c66dd9364e886614\", filename=\"3.7/buster/Dockerfile\"), File(sha=\"9cf0c19a6fe94e80f98755f224a3145746032d59\", filename=\"3.7/buster/slim/Dockerfile\"), File(sha=\"8f8d36d77f5c5c6aeaa0d9fa29b886b3260b4166\", filename=\"generate-stackbrew-library.sh\"), File(sha=\"5678a5b68e458d1d625cf5f74a0cbc12dd671f51\", filename=\"update.sh\")]\n",
      "<github.PaginatedList.PaginatedList object at 0x0000021B8C5DAC18>\n",
      "\n",
      "\n",
      "3.7/stretch/Dockerfile\n",
      "No of commits 22\n",
      "No of files [File(sha=\"39c75af1e122f93d44474d1e2670dc8dfee0731d\", filename=\".travis.yml\"), File(sha=\"e49f25221c26e65ee987ab78f07cd862f08ad5ef\", filename=\"3.7/alpine3.7/Dockerfile\"), File(sha=\"773a0435c5d8ade1ddbac20c1556a69658fc9d71\", filename=\"3.7/stretch/Dockerfile\"), File(sha=\"00465dbae40dcb228c25ee07402a5b5198fbd6e0\", filename=\"3.7/stretch/slim/Dockerfile\"), File(sha=\"f5ef9a81484f677747e193bb21cbcf9a08784ac6\", filename=\"3.7/windows/windowsservercore-1709/Dockerfile\"), File(sha=\"27eaccfae7b7e282e4bdc98c49a0ea6b08c665b1\", filename=\"3.7/windows/windowsservercore-ltsc2016/Dockerfile\"), File(sha=\"a2d124d650ea8fd6d54b3001ca3a9a62c590bd3e\", filename=\"generate-stackbrew-library.sh\")]\n",
      "<github.PaginatedList.PaginatedList object at 0x0000021B8C529278>\n",
      "\n",
      "\n",
      "3.7/stretch/slim/Dockerfile\n",
      "No of commits 23\n",
      "No of files [File(sha=\"39c75af1e122f93d44474d1e2670dc8dfee0731d\", filename=\".travis.yml\"), File(sha=\"e49f25221c26e65ee987ab78f07cd862f08ad5ef\", filename=\"3.7/alpine3.7/Dockerfile\"), File(sha=\"773a0435c5d8ade1ddbac20c1556a69658fc9d71\", filename=\"3.7/stretch/Dockerfile\"), File(sha=\"00465dbae40dcb228c25ee07402a5b5198fbd6e0\", filename=\"3.7/stretch/slim/Dockerfile\"), File(sha=\"f5ef9a81484f677747e193bb21cbcf9a08784ac6\", filename=\"3.7/windows/windowsservercore-1709/Dockerfile\"), File(sha=\"27eaccfae7b7e282e4bdc98c49a0ea6b08c665b1\", filename=\"3.7/windows/windowsservercore-ltsc2016/Dockerfile\"), File(sha=\"a2d124d650ea8fd6d54b3001ca3a9a62c590bd3e\", filename=\"generate-stackbrew-library.sh\")]\n",
      "<github.PaginatedList.PaginatedList object at 0x0000021B8C126A58>\n",
      "\n",
      "\n",
      "3.7/windows/windowsservercore-1803/Dockerfile\n"
     ]
    },
    {
     "name": "stdout",
     "output_type": "stream",
     "text": [
      "No of commits 9\n",
      "No of files [File(sha=\"c981408c448aefc227a154d472dab3acc30f9b73\", filename=\".appveyor.yml\"), File(sha=\"25d1b5cfdb798fb0a27876cb739e639e1559945b\", filename=\"2.7/windows/windowsservercore-1709/Dockerfile\"), File(sha=\"5c46939edd2566f2eca4417c1d8d1653cdd8089e\", filename=\"2.7/windows/windowsservercore-1803/Dockerfile\"), File(sha=\"79a9c2f6c24a467089a4c3e86768f43e15ba1852\", filename=\"2.7/windows/windowsservercore-1809/Dockerfile\"), File(sha=\"2fcd7835cabda82990579307c3611326b985c2c5\", filename=\"2.7/windows/windowsservercore-ltsc2016/Dockerfile\"), File(sha=\"3d8249fbc04e21ae41273eab17e4795f93c46d3e\", filename=\"3.6/windows/windowsservercore-1709/Dockerfile\"), File(sha=\"fb0e7b31811bd376f9c4f320de864574d73efb54\", filename=\"3.6/windows/windowsservercore-1803/Dockerfile\"), File(sha=\"17b371155adcff5d722c7a01a9e01db8841c1b44\", filename=\"3.6/windows/windowsservercore-1809/Dockerfile\"), File(sha=\"f50dd7b5bb725dae497b85a33a4e5e5d8179d6f2\", filename=\"3.6/windows/windowsservercore-ltsc2016/Dockerfile\"), File(sha=\"93041a22e3d6166e13072227a50710e13c2c17a3\", filename=\"3.7/windows/windowsservercore-1709/Dockerfile\"), File(sha=\"4527d0bd74d921cdd6f5e5b7d3c61916ea30cff2\", filename=\"3.7/windows/windowsservercore-1803/Dockerfile\"), File(sha=\"83064407ac105a83af8bdab5f0ca7194d851fcfa\", filename=\"3.7/windows/windowsservercore-1809/Dockerfile\"), File(sha=\"ec82e485c1298802401e50c90216102602ead061\", filename=\"3.7/windows/windowsservercore-ltsc2016/Dockerfile\"), File(sha=\"2b0bc111640711ae0b5cec1cae7350649313c187\", filename=\"update.sh\")]\n",
      "<github.PaginatedList.PaginatedList object at 0x0000021B8C13BB00>\n",
      "\n",
      "\n",
      "3.7/windows/windowsservercore-1809/Dockerfile\n",
      "No of commits 9\n",
      "No of files [File(sha=\"c981408c448aefc227a154d472dab3acc30f9b73\", filename=\".appveyor.yml\"), File(sha=\"25d1b5cfdb798fb0a27876cb739e639e1559945b\", filename=\"2.7/windows/windowsservercore-1709/Dockerfile\"), File(sha=\"5c46939edd2566f2eca4417c1d8d1653cdd8089e\", filename=\"2.7/windows/windowsservercore-1803/Dockerfile\"), File(sha=\"79a9c2f6c24a467089a4c3e86768f43e15ba1852\", filename=\"2.7/windows/windowsservercore-1809/Dockerfile\"), File(sha=\"2fcd7835cabda82990579307c3611326b985c2c5\", filename=\"2.7/windows/windowsservercore-ltsc2016/Dockerfile\"), File(sha=\"3d8249fbc04e21ae41273eab17e4795f93c46d3e\", filename=\"3.6/windows/windowsservercore-1709/Dockerfile\"), File(sha=\"fb0e7b31811bd376f9c4f320de864574d73efb54\", filename=\"3.6/windows/windowsservercore-1803/Dockerfile\"), File(sha=\"17b371155adcff5d722c7a01a9e01db8841c1b44\", filename=\"3.6/windows/windowsservercore-1809/Dockerfile\"), File(sha=\"f50dd7b5bb725dae497b85a33a4e5e5d8179d6f2\", filename=\"3.6/windows/windowsservercore-ltsc2016/Dockerfile\"), File(sha=\"93041a22e3d6166e13072227a50710e13c2c17a3\", filename=\"3.7/windows/windowsservercore-1709/Dockerfile\"), File(sha=\"4527d0bd74d921cdd6f5e5b7d3c61916ea30cff2\", filename=\"3.7/windows/windowsservercore-1803/Dockerfile\"), File(sha=\"83064407ac105a83af8bdab5f0ca7194d851fcfa\", filename=\"3.7/windows/windowsservercore-1809/Dockerfile\"), File(sha=\"ec82e485c1298802401e50c90216102602ead061\", filename=\"3.7/windows/windowsservercore-ltsc2016/Dockerfile\"), File(sha=\"2b0bc111640711ae0b5cec1cae7350649313c187\", filename=\"update.sh\")]\n",
      "<github.PaginatedList.PaginatedList object at 0x0000021B8AEF4908>\n",
      "\n",
      "\n",
      "3.7/windows/windowsservercore-ltsc2016/Dockerfile\n",
      "No of commits 16\n",
      "No of files [File(sha=\"39c75af1e122f93d44474d1e2670dc8dfee0731d\", filename=\".travis.yml\"), File(sha=\"e49f25221c26e65ee987ab78f07cd862f08ad5ef\", filename=\"3.7/alpine3.7/Dockerfile\"), File(sha=\"773a0435c5d8ade1ddbac20c1556a69658fc9d71\", filename=\"3.7/stretch/Dockerfile\"), File(sha=\"00465dbae40dcb228c25ee07402a5b5198fbd6e0\", filename=\"3.7/stretch/slim/Dockerfile\"), File(sha=\"f5ef9a81484f677747e193bb21cbcf9a08784ac6\", filename=\"3.7/windows/windowsservercore-1709/Dockerfile\"), File(sha=\"27eaccfae7b7e282e4bdc98c49a0ea6b08c665b1\", filename=\"3.7/windows/windowsservercore-ltsc2016/Dockerfile\"), File(sha=\"a2d124d650ea8fd6d54b3001ca3a9a62c590bd3e\", filename=\"generate-stackbrew-library.sh\")]\n",
      "<github.PaginatedList.PaginatedList object at 0x0000021B8C59B7B8>\n",
      "\n",
      "\n",
      "3.8-rc/alpine3.10/Dockerfile\n",
      "No of commits 10\n",
      "No of files [File(sha=\"8a85048606702ce8c9474fefa0f9a8ac9146a1b3\", filename=\".travis.yml\"), File(sha=\"624b37c0a57a3b868914b276edad7b97bace0b1d\", filename=\"2.7/alpine3.10/Dockerfile\"), File(sha=\"6c40826e9760d951d54212e29bcf4d7accd55a08\", filename=\"3.5/alpine3.10/Dockerfile\"), File(sha=\"cb385ff8dfce0d06be081b5f759b99676509f5c4\", filename=\"3.6/alpine3.10/Dockerfile\"), File(sha=\"60e82ac76be26899ea5e4b2e461f5dcf11ff8021\", filename=\"3.7/alpine3.10/Dockerfile\"), File(sha=\"a27c7d503a860f701d00c563ed695af03a5df72d\", filename=\"3.8-rc/alpine3.10/Dockerfile\"), File(sha=\"e8d22e5bdf4e923c0db7c95a32c7ab75dc9668ee\", filename=\"update.sh\")]\n",
      "<github.PaginatedList.PaginatedList object at 0x0000021B8BA7E550>\n",
      "\n",
      "\n",
      "3.8-rc/buster/Dockerfile\n",
      "No of commits 10\n",
      "No of files [File(sha=\"14c075df4e30434ef7c00cba1e9781d9c980f25a\", filename=\".travis.yml\"), File(sha=\"a394fb56c15836eaa1d012253738a251b8b4f5fd\", filename=\"2.7/alpine3.8/Dockerfile\"), File(sha=\"e371bf8a59e3f00fdb4561894e6f71464067b78c\", filename=\"3.5/alpine3.8/Dockerfile\"), File(sha=\"f12f3f99f90a19f255e1db9e78f64b0d687c8225\", filename=\"3.6/alpine3.8/Dockerfile\"), File(sha=\"2822cecdbb823c5ad6be5072deb79c14eb5959fb\", filename=\"3.7/alpine3.8/Dockerfile\"), File(sha=\"2eb7928029f64bcd7be4ee740e26d8a1e0236363\", filename=\"3.8-rc/alpine3.9/Dockerfile\"), File(sha=\"75151b7cbf92f62d2569e15c466719005e57dd40\", filename=\"3.8-rc/buster/Dockerfile\"), File(sha=\"71db0614d8ade30ec27025571ad3347b91798dea\", filename=\"3.8-rc/buster/slim/Dockerfile\"), File(sha=\"9c0fc0c627ce058f23a51505b9942a405fcabda2\", filename=\"generate-stackbrew-library.sh\"), File(sha=\"c2bf2af46df69d616e955d0d7a47051fda923658\", filename=\"update.sh\")]\n",
      "<github.PaginatedList.PaginatedList object at 0x0000021B8C59BE80>\n",
      "\n",
      "\n",
      "3.8-rc/buster/slim/Dockerfile\n",
      "No of commits 10\n",
      "No of files [File(sha=\"14c075df4e30434ef7c00cba1e9781d9c980f25a\", filename=\".travis.yml\"), File(sha=\"a394fb56c15836eaa1d012253738a251b8b4f5fd\", filename=\"2.7/alpine3.8/Dockerfile\"), File(sha=\"e371bf8a59e3f00fdb4561894e6f71464067b78c\", filename=\"3.5/alpine3.8/Dockerfile\"), File(sha=\"f12f3f99f90a19f255e1db9e78f64b0d687c8225\", filename=\"3.6/alpine3.8/Dockerfile\"), File(sha=\"2822cecdbb823c5ad6be5072deb79c14eb5959fb\", filename=\"3.7/alpine3.8/Dockerfile\"), File(sha=\"2eb7928029f64bcd7be4ee740e26d8a1e0236363\", filename=\"3.8-rc/alpine3.9/Dockerfile\"), File(sha=\"75151b7cbf92f62d2569e15c466719005e57dd40\", filename=\"3.8-rc/buster/Dockerfile\"), File(sha=\"71db0614d8ade30ec27025571ad3347b91798dea\", filename=\"3.8-rc/buster/slim/Dockerfile\"), File(sha=\"9c0fc0c627ce058f23a51505b9942a405fcabda2\", filename=\"generate-stackbrew-library.sh\"), File(sha=\"c2bf2af46df69d616e955d0d7a47051fda923658\", filename=\"update.sh\")]\n",
      "<github.PaginatedList.PaginatedList object at 0x0000021B8B04ACF8>\n",
      "\n",
      "\n",
      "3.8-rc/windows/windowsservercore-1803/Dockerfile\n",
      "No of commits 14\n",
      "No of files [File(sha=\"4664c4c016d1001acd0d777253dba6c9c917f645\", filename=\".appveyor.yml\"), File(sha=\"d80206bb437828f00d20dd29d54bffa8fcae8782\", filename=\".travis.yml\"), File(sha=\"9ef8a857d7c16307d794a9c243c70fe10d15ef96\", filename=\"3.8-rc/alpine3.9/Dockerfile\"), File(sha=\"08845ed324b43d66ab1dfc0ee67277d43f22a926\", filename=\"3.8-rc/stretch/Dockerfile\"), File(sha=\"106d5355b80d7e7a7074e5ea590349a8b781cf70\", filename=\"3.8-rc/stretch/slim/Dockerfile\"), File(sha=\"8ef1804500c62b9fff24058d19f66a32f3e5f3cc\", filename=\"3.8-rc/windows/windowsservercore-1709/Dockerfile\"), File(sha=\"2fdbbd12c1b45b71410f6176809369b7b1734e5c\", filename=\"3.8-rc/windows/windowsservercore-1803/Dockerfile\"), File(sha=\"829fd0f6674928ffcba5d967fe784c239f57e036\", filename=\"3.8-rc/windows/windowsservercore-1809/Dockerfile\"), File(sha=\"d458fd6b2e89be3b1cfdea4fe4f14d50672a2312\", filename=\"3.8-rc/windows/windowsservercore-ltsc2016/Dockerfile\"), File(sha=\"a21d2feb05c747741625e087b40d60c45c78b22a\", filename=\"update.sh\")]\n",
      "<github.PaginatedList.PaginatedList object at 0x0000021B8C5CE5C0>\n",
      "\n",
      "\n",
      "3.8-rc/windows/windowsservercore-1809/Dockerfile\n",
      "No of commits 14\n",
      "No of files [File(sha=\"4664c4c016d1001acd0d777253dba6c9c917f645\", filename=\".appveyor.yml\"), File(sha=\"d80206bb437828f00d20dd29d54bffa8fcae8782\", filename=\".travis.yml\"), File(sha=\"9ef8a857d7c16307d794a9c243c70fe10d15ef96\", filename=\"3.8-rc/alpine3.9/Dockerfile\"), File(sha=\"08845ed324b43d66ab1dfc0ee67277d43f22a926\", filename=\"3.8-rc/stretch/Dockerfile\"), File(sha=\"106d5355b80d7e7a7074e5ea590349a8b781cf70\", filename=\"3.8-rc/stretch/slim/Dockerfile\"), File(sha=\"8ef1804500c62b9fff24058d19f66a32f3e5f3cc\", filename=\"3.8-rc/windows/windowsservercore-1709/Dockerfile\"), File(sha=\"2fdbbd12c1b45b71410f6176809369b7b1734e5c\", filename=\"3.8-rc/windows/windowsservercore-1803/Dockerfile\"), File(sha=\"829fd0f6674928ffcba5d967fe784c239f57e036\", filename=\"3.8-rc/windows/windowsservercore-1809/Dockerfile\"), File(sha=\"d458fd6b2e89be3b1cfdea4fe4f14d50672a2312\", filename=\"3.8-rc/windows/windowsservercore-ltsc2016/Dockerfile\"), File(sha=\"a21d2feb05c747741625e087b40d60c45c78b22a\", filename=\"update.sh\")]\n",
      "<github.PaginatedList.PaginatedList object at 0x0000021B8BF6AE80>\n",
      "\n",
      "\n",
      "3.8-rc/windows/windowsservercore-ltsc2016/Dockerfile\n"
     ]
    },
    {
     "name": "stdout",
     "output_type": "stream",
     "text": [
      "No of commits 14\n",
      "No of files [File(sha=\"4664c4c016d1001acd0d777253dba6c9c917f645\", filename=\".appveyor.yml\"), File(sha=\"d80206bb437828f00d20dd29d54bffa8fcae8782\", filename=\".travis.yml\"), File(sha=\"9ef8a857d7c16307d794a9c243c70fe10d15ef96\", filename=\"3.8-rc/alpine3.9/Dockerfile\"), File(sha=\"08845ed324b43d66ab1dfc0ee67277d43f22a926\", filename=\"3.8-rc/stretch/Dockerfile\"), File(sha=\"106d5355b80d7e7a7074e5ea590349a8b781cf70\", filename=\"3.8-rc/stretch/slim/Dockerfile\"), File(sha=\"8ef1804500c62b9fff24058d19f66a32f3e5f3cc\", filename=\"3.8-rc/windows/windowsservercore-1709/Dockerfile\"), File(sha=\"2fdbbd12c1b45b71410f6176809369b7b1734e5c\", filename=\"3.8-rc/windows/windowsservercore-1803/Dockerfile\"), File(sha=\"829fd0f6674928ffcba5d967fe784c239f57e036\", filename=\"3.8-rc/windows/windowsservercore-1809/Dockerfile\"), File(sha=\"d458fd6b2e89be3b1cfdea4fe4f14d50672a2312\", filename=\"3.8-rc/windows/windowsservercore-ltsc2016/Dockerfile\"), File(sha=\"a21d2feb05c747741625e087b40d60c45c78b22a\", filename=\"update.sh\")]\n",
      "<github.PaginatedList.PaginatedList object at 0x0000021B8C5450F0>\n",
      "\n",
      "\n"
     ]
    }
   ],
   "source": [
    "for df in dockerfiles:\n",
    "    print(df.path)\n",
    "    commits = repo.get_commits(path=df.path)\n",
    "    print(\"No of commits\", len(list(commits)))\n",
    "    print(\"No of files\",  list(commits)[-1].files)\n",
    "    print(commits)\n",
    "    print(\"\\n\")"
   ]
  },
  {
   "cell_type": "code",
   "execution_count": 29,
   "metadata": {},
   "outputs": [
    {
     "data": {
      "text/plain": [
       "38"
      ]
     },
     "execution_count": 29,
     "metadata": {},
     "output_type": "execute_result"
    }
   ],
   "source": [
    "len(dockerfiles)"
   ]
  },
  {
   "cell_type": "markdown",
   "metadata": {},
   "source": [
    "5th Last commit:"
   ]
  },
  {
   "cell_type": "code",
   "execution_count": 33,
   "metadata": {},
   "outputs": [],
   "source": [
    "commit = commits[-5]"
   ]
  },
  {
   "cell_type": "code",
   "execution_count": 34,
   "metadata": {},
   "outputs": [
    {
     "data": {
      "text/plain": [
       "'81d9938f8e33d8ab43dba18cea32aa83df4dd52d'"
      ]
     },
     "execution_count": 34,
     "metadata": {},
     "output_type": "execute_result"
    }
   ],
   "source": [
    "commit.sha"
   ]
  },
  {
   "cell_type": "code",
   "execution_count": 35,
   "metadata": {
    "scrolled": true
   },
   "outputs": [
    {
     "data": {
      "text/plain": [
       "NamedUser(login=\"docker-library-bot\")"
      ]
     },
     "execution_count": 35,
     "metadata": {},
     "output_type": "execute_result"
    }
   ],
   "source": [
    "commit.author"
   ]
  },
  {
   "cell_type": "code",
   "execution_count": 36,
   "metadata": {},
   "outputs": [
    {
     "data": {
      "text/plain": [
       "'Tue, 01 Oct 2019 22:28:46 GMT'"
      ]
     },
     "execution_count": 36,
     "metadata": {},
     "output_type": "execute_result"
    }
   ],
   "source": [
    "commit.last_modified"
   ]
  },
  {
   "cell_type": "code",
   "execution_count": 37,
   "metadata": {},
   "outputs": [
    {
     "data": {
      "text/plain": [
       "[File(sha=\"93a3920e2f1f0b4d51ff8432c78fbe781f8bfc50\", filename=\"3.8-rc/alpine3.9/Dockerfile\"),\n",
       " File(sha=\"0236d8a167c2d181145c2cb9441ebc6af212fc22\", filename=\"3.8-rc/stretch/Dockerfile\"),\n",
       " File(sha=\"160a39d9cefe2597e3a7ae19220232da48ed5ca5\", filename=\"3.8-rc/stretch/slim/Dockerfile\"),\n",
       " File(sha=\"bdf05010e8b9a094c1f4ba53a9c829e506f3bd10\", filename=\"3.8-rc/windows/windowsservercore-1803/Dockerfile\"),\n",
       " File(sha=\"f2a2064e8501de6b2e6cb1575743732b9e3ac1bf\", filename=\"3.8-rc/windows/windowsservercore-1809/Dockerfile\"),\n",
       " File(sha=\"d06e70d89b30add6005c6063417783002d2f7764\", filename=\"3.8-rc/windows/windowsservercore-ltsc2016/Dockerfile\")]"
      ]
     },
     "execution_count": 37,
     "metadata": {},
     "output_type": "execute_result"
    }
   ],
   "source": [
    "commit.files"
   ]
  },
  {
   "cell_type": "code",
   "execution_count": 38,
   "metadata": {},
   "outputs": [],
   "source": [
    "file = commit.files[0]"
   ]
  },
  {
   "cell_type": "code",
   "execution_count": 39,
   "metadata": {},
   "outputs": [
    {
     "data": {
      "text/plain": [
       "'Mon, 06 May 2019 15:49:32 GMT'"
      ]
     },
     "execution_count": 39,
     "metadata": {},
     "output_type": "execute_result"
    }
   ],
   "source": [
    "file.last_modified"
   ]
  },
  {
   "cell_type": "code",
   "execution_count": 40,
   "metadata": {
    "scrolled": true
   },
   "outputs": [
    {
     "data": {
      "text/plain": [
       "{'sha': '93a3920e2f1f0b4d51ff8432c78fbe781f8bfc50',\n",
       " 'filename': '3.8-rc/alpine3.9/Dockerfile',\n",
       " 'status': 'modified',\n",
       " 'additions': 1,\n",
       " 'deletions': 1,\n",
       " 'changes': 2,\n",
       " 'blob_url': 'https://github.com/docker-library/python/blob/81d9938f8e33d8ab43dba18cea32aa83df4dd52d/3.8-rc/alpine3.9/Dockerfile',\n",
       " 'raw_url': 'https://github.com/docker-library/python/raw/81d9938f8e33d8ab43dba18cea32aa83df4dd52d/3.8-rc/alpine3.9/Dockerfile',\n",
       " 'contents_url': 'https://api.github.com/repos/docker-library/python/contents/3.8-rc/alpine3.9/Dockerfile?ref=81d9938f8e33d8ab43dba18cea32aa83df4dd52d',\n",
       " 'patch': '@@ -105,7 +105,7 @@ RUN cd /usr/local/bin \\\\\\n \\t&& ln -s python3-config python-config\\n \\n # if this is called \"PIP_VERSION\", pip explodes with \"ValueError: invalid truth value \\'<VERSION>\\'\"\\n-ENV PYTHON_PIP_VERSION 19.1\\n+ENV PYTHON_PIP_VERSION 19.1.1\\n \\n RUN set -ex; \\\\\\n \\t\\\\'}"
      ]
     },
     "execution_count": 40,
     "metadata": {},
     "output_type": "execute_result"
    }
   ],
   "source": [
    "file.raw_data"
   ]
  },
  {
   "cell_type": "code",
   "execution_count": 43,
   "metadata": {},
   "outputs": [
    {
     "data": {
      "text/plain": [
       "['3.8-rc/alpine3.9/Dockerfile',\n",
       " '3.8-rc/stretch/Dockerfile',\n",
       " '3.8-rc/stretch/slim/Dockerfile',\n",
       " '3.8-rc/windows/windowsservercore-1803/Dockerfile',\n",
       " '3.8-rc/windows/windowsservercore-1809/Dockerfile',\n",
       " '3.8-rc/windows/windowsservercore-ltsc2016/Dockerfile']"
      ]
     },
     "execution_count": 43,
     "metadata": {},
     "output_type": "execute_result"
    }
   ],
   "source": [
    "[f.filename for f in commit.files]"
   ]
  },
  {
   "cell_type": "code",
   "execution_count": 45,
   "metadata": {
    "scrolled": true
   },
   "outputs": [
    {
     "data": {
      "text/plain": [
       "'3.8-rc/windows/windowsservercore-ltsc2016/Dockerfile'"
      ]
     },
     "execution_count": 45,
     "metadata": {},
     "output_type": "execute_result"
    }
   ],
   "source": [
    "df.path\n"
   ]
  },
  {
   "cell_type": "code",
   "execution_count": 15,
   "metadata": {},
   "outputs": [
    {
     "data": {
      "text/plain": [
       "'@@ -141,10 +141,10 @@ RUN cd /usr/local/bin \\\\\\n \\t&& ln -s python3-config python-config\\n \\n # if this is called \"PIP_VERSION\", pip explodes with \"ValueError: invalid truth value \\'<VERSION>\\'\"\\n-ENV PYTHON_PIP_VERSION 19.2.1\\n+ENV PYTHON_PIP_VERSION 19.2.2\\n # https://github.com/pypa/get-pip\\n-ENV PYTHON_GET_PIP_URL https://github.com/pypa/get-pip/raw/404c9418e33c5031b1a9ab623168b3e8a2ed8c88/get-pip.py\\n-ENV PYTHON_GET_PIP_SHA256 56bb63d3cf54e7444351256f72a60f575f6d8c7f1faacffae33167afc8e7609d\\n+ENV PYTHON_GET_PIP_URL https://github.com/pypa/get-pip/raw/0c72a3b4ece313faccb446a96c84770ccedc5ec5/get-pip.py\\n+ENV PYTHON_GET_PIP_SHA256 201edc6df416da971e64cc94992d2dd24bc328bada7444f0c4f2031ae31e8dad\\n \\n RUN set -ex; \\\\\\n \\t\\\\'"
      ]
     },
     "execution_count": 15,
     "metadata": {},
     "output_type": "execute_result"
    }
   ],
   "source": [
    "file.patch"
   ]
  },
  {
   "cell_type": "code",
   "execution_count": 25,
   "metadata": {},
   "outputs": [
    {
     "data": {
      "text/plain": [
       "'3.6/alpine3.10/Dockerfile'"
      ]
     },
     "execution_count": 25,
     "metadata": {},
     "output_type": "execute_result"
    }
   ],
   "source": [
    "file.filename"
   ]
  },
  {
   "cell_type": "code",
   "execution_count": 26,
   "metadata": {},
   "outputs": [],
   "source": [
    "file_commits = repo.get_commits(path=file.filename)"
   ]
  },
  {
   "cell_type": "code",
   "execution_count": 27,
   "metadata": {},
   "outputs": [
    {
     "name": "stdout",
     "output_type": "stream",
     "text": [
      "Commit(sha=\"35566cb6b14961c369e935b85b4c8879e6901ccc\")\n",
      "Commit(sha=\"fe11c2ed5a3a3a1917f0a37f3f265d81969d09d9\")\n",
      "Commit(sha=\"81462d1d42bef466d89f1108dde44462c408d3b7\")\n",
      "Commit(sha=\"d2fcc8406cebea404211e808f74fc1090122b4e8\")\n",
      "Commit(sha=\"f82205cde8f0a5ffa276103a50d843edced67757\")\n",
      "Commit(sha=\"5081d0126bdd634ca8332e6dfbbb7dc26fbad3b8\")\n",
      "Commit(sha=\"e057559fad64ed81b3da9fad6612a2de8b0ae544\")\n"
     ]
    }
   ],
   "source": [
    "for file_commit in file_commits:\n",
    "    print(file_commit)"
   ]
  },
  {
   "cell_type": "code",
   "execution_count": 28,
   "metadata": {
    "scrolled": false
   },
   "outputs": [
    {
     "data": {
      "text/plain": [
       "{'sha': 'e057559fad64ed81b3da9fad6612a2de8b0ae544',\n",
       " 'node_id': 'MDY6Q29tbWl0MjEwNTQ5Mjg6ZTA1NzU1OWZhZDY0ZWQ4MWIzZGE5ZmFkNjYxMmEyZGU4YjBhZTU0NA==',\n",
       " 'commit': {'author': {'name': 'J0WI',\n",
       "   'email': 'J0WI@users.noreply.github.com',\n",
       "   'date': '2019-06-20T13:44:40Z'},\n",
       "  'committer': {'name': 'J0WI',\n",
       "   'email': 'J0WI@users.noreply.github.com',\n",
       "   'date': '2019-06-20T13:44:40Z'},\n",
       "  'message': 'Add Alpine 3.10 and remove Alpine 3.8',\n",
       "  'tree': {'sha': 'b50eb991cc5a7eccae38cfb3094a0e01360a4775',\n",
       "   'url': 'https://api.github.com/repos/docker-library/python/git/trees/b50eb991cc5a7eccae38cfb3094a0e01360a4775'},\n",
       "  'url': 'https://api.github.com/repos/docker-library/python/git/commits/e057559fad64ed81b3da9fad6612a2de8b0ae544',\n",
       "  'comment_count': 0,\n",
       "  'verification': {'verified': False,\n",
       "   'reason': 'unsigned',\n",
       "   'signature': None,\n",
       "   'payload': None}},\n",
       " 'url': 'https://api.github.com/repos/docker-library/python/commits/e057559fad64ed81b3da9fad6612a2de8b0ae544',\n",
       " 'html_url': 'https://github.com/docker-library/python/commit/e057559fad64ed81b3da9fad6612a2de8b0ae544',\n",
       " 'comments_url': 'https://api.github.com/repos/docker-library/python/commits/e057559fad64ed81b3da9fad6612a2de8b0ae544/comments',\n",
       " 'author': {'login': 'J0WI',\n",
       "  'id': 5710638,\n",
       "  'node_id': 'MDQ6VXNlcjU3MTA2Mzg=',\n",
       "  'avatar_url': 'https://avatars2.githubusercontent.com/u/5710638?v=4',\n",
       "  'gravatar_id': '',\n",
       "  'url': 'https://api.github.com/users/J0WI',\n",
       "  'html_url': 'https://github.com/J0WI',\n",
       "  'followers_url': 'https://api.github.com/users/J0WI/followers',\n",
       "  'following_url': 'https://api.github.com/users/J0WI/following{/other_user}',\n",
       "  'gists_url': 'https://api.github.com/users/J0WI/gists{/gist_id}',\n",
       "  'starred_url': 'https://api.github.com/users/J0WI/starred{/owner}{/repo}',\n",
       "  'subscriptions_url': 'https://api.github.com/users/J0WI/subscriptions',\n",
       "  'organizations_url': 'https://api.github.com/users/J0WI/orgs',\n",
       "  'repos_url': 'https://api.github.com/users/J0WI/repos',\n",
       "  'events_url': 'https://api.github.com/users/J0WI/events{/privacy}',\n",
       "  'received_events_url': 'https://api.github.com/users/J0WI/received_events',\n",
       "  'type': 'User',\n",
       "  'site_admin': False},\n",
       " 'committer': {'login': 'J0WI',\n",
       "  'id': 5710638,\n",
       "  'node_id': 'MDQ6VXNlcjU3MTA2Mzg=',\n",
       "  'avatar_url': 'https://avatars2.githubusercontent.com/u/5710638?v=4',\n",
       "  'gravatar_id': '',\n",
       "  'url': 'https://api.github.com/users/J0WI',\n",
       "  'html_url': 'https://github.com/J0WI',\n",
       "  'followers_url': 'https://api.github.com/users/J0WI/followers',\n",
       "  'following_url': 'https://api.github.com/users/J0WI/following{/other_user}',\n",
       "  'gists_url': 'https://api.github.com/users/J0WI/gists{/gist_id}',\n",
       "  'starred_url': 'https://api.github.com/users/J0WI/starred{/owner}{/repo}',\n",
       "  'subscriptions_url': 'https://api.github.com/users/J0WI/subscriptions',\n",
       "  'organizations_url': 'https://api.github.com/users/J0WI/orgs',\n",
       "  'repos_url': 'https://api.github.com/users/J0WI/repos',\n",
       "  'events_url': 'https://api.github.com/users/J0WI/events{/privacy}',\n",
       "  'received_events_url': 'https://api.github.com/users/J0WI/received_events',\n",
       "  'type': 'User',\n",
       "  'site_admin': False},\n",
       " 'parents': [{'sha': '1358d771b345c11674a5f79a89b820647fc27d4d',\n",
       "   'url': 'https://api.github.com/repos/docker-library/python/commits/1358d771b345c11674a5f79a89b820647fc27d4d',\n",
       "   'html_url': 'https://github.com/docker-library/python/commit/1358d771b345c11674a5f79a89b820647fc27d4d'}],\n",
       " 'stats': {'total': 665, 'additions': 644, 'deletions': 21},\n",
       " 'files': [{'sha': '8a85048606702ce8c9474fefa0f9a8ac9146a1b3',\n",
       "   'filename': '.travis.yml',\n",
       "   'status': 'modified',\n",
       "   'additions': 10,\n",
       "   'deletions': 8,\n",
       "   'changes': 18,\n",
       "   'blob_url': 'https://github.com/docker-library/python/blob/e057559fad64ed81b3da9fad6612a2de8b0ae544/.travis.yml',\n",
       "   'raw_url': 'https://github.com/docker-library/python/raw/e057559fad64ed81b3da9fad6612a2de8b0ae544/.travis.yml',\n",
       "   'contents_url': 'https://api.github.com/repos/docker-library/python/contents/.travis.yml?ref=e057559fad64ed81b3da9fad6612a2de8b0ae544',\n",
       "   'patch': '@@ -10,6 +10,8 @@ matrix:\\n       env: VERSION=3.8-rc VARIANT=stretch\\n     - os: linux\\n       env: VERSION=3.8-rc VARIANT=stretch/slim\\n+    - os: linux\\n+      env: VERSION=3.8-rc VARIANT=alpine3.10\\n     - os: linux\\n       env: VERSION=3.8-rc VARIANT=alpine3.9\\n     - os: windows\\n@@ -20,9 +22,9 @@ matrix:\\n     - os: linux\\n       env: VERSION=3.7 VARIANT=stretch/slim\\n     - os: linux\\n-      env: VERSION=3.7 VARIANT=alpine3.9\\n+      env: VERSION=3.7 VARIANT=alpine3.10\\n     - os: linux\\n-      env: VERSION=3.7 VARIANT=alpine3.8\\n+      env: VERSION=3.7 VARIANT=alpine3.9\\n     - os: windows\\n       dist: 1803-containers\\n       env: VERSION=3.6 VARIANT=windows/windowsservercore-1803\\n@@ -35,9 +37,9 @@ matrix:\\n     - os: linux\\n       env: VERSION=3.6 VARIANT=jessie/slim\\n     - os: linux\\n-      env: VERSION=3.6 VARIANT=alpine3.9\\n+      env: VERSION=3.6 VARIANT=alpine3.10\\n     - os: linux\\n-      env: VERSION=3.6 VARIANT=alpine3.8\\n+      env: VERSION=3.6 VARIANT=alpine3.9\\n     - os: linux\\n       env: VERSION=3.5 VARIANT=stretch\\n     - os: linux\\n@@ -47,9 +49,9 @@ matrix:\\n     - os: linux\\n       env: VERSION=3.5 VARIANT=jessie/slim\\n     - os: linux\\n-      env: VERSION=3.5 VARIANT=alpine3.9\\n+      env: VERSION=3.5 VARIANT=alpine3.10\\n     - os: linux\\n-      env: VERSION=3.5 VARIANT=alpine3.8\\n+      env: VERSION=3.5 VARIANT=alpine3.9\\n     - os: windows\\n       dist: 1803-containers\\n       env: VERSION=2.7 VARIANT=windows/windowsservercore-1803\\n@@ -62,9 +64,9 @@ matrix:\\n     - os: linux\\n       env: VERSION=2.7 VARIANT=jessie/slim\\n     - os: linux\\n-      env: VERSION=2.7 VARIANT=alpine3.9\\n+      env: VERSION=2.7 VARIANT=alpine3.10\\n     - os: linux\\n-      env: VERSION=2.7 VARIANT=alpine3.8\\n+      env: VERSION=2.7 VARIANT=alpine3.9\\n \\n install:\\n   - git clone https://github.com/docker-library/official-images.git ~/official-images'},\n",
       "  {'sha': '624b37c0a57a3b868914b276edad7b97bace0b1d',\n",
       "   'filename': '2.7/alpine3.10/Dockerfile',\n",
       "   'status': 'added',\n",
       "   'additions': 121,\n",
       "   'deletions': 0,\n",
       "   'changes': 121,\n",
       "   'blob_url': 'https://github.com/docker-library/python/blob/e057559fad64ed81b3da9fad6612a2de8b0ae544/2.7/alpine3.10/Dockerfile',\n",
       "   'raw_url': 'https://github.com/docker-library/python/raw/e057559fad64ed81b3da9fad6612a2de8b0ae544/2.7/alpine3.10/Dockerfile',\n",
       "   'contents_url': 'https://api.github.com/repos/docker-library/python/contents/2.7/alpine3.10/Dockerfile?ref=e057559fad64ed81b3da9fad6612a2de8b0ae544',\n",
       "   'patch': '@@ -0,0 +1,121 @@\\n+#\\n+# NOTE: THIS DOCKERFILE IS GENERATED VIA \"update.sh\"\\n+#\\n+# PLEASE DO NOT EDIT IT DIRECTLY.\\n+#\\n+\\n+FROM alpine:3.10\\n+\\n+# ensure local python is preferred over distribution python\\n+ENV PATH /usr/local/bin:$PATH\\n+\\n+# http://bugs.python.org/issue19846\\n+# > At the moment, setting \"LANG=C\" on a Linux system *fundamentally breaks Python 3*, and that\\'s not OK.\\n+ENV LANG C.UTF-8\\n+# https://github.com/docker-library/python/issues/147\\n+ENV PYTHONIOENCODING UTF-8\\n+\\n+# install ca-certificates so that HTTPS works consistently\\n+# other runtime dependencies for Python are installed later\\n+RUN apk add --no-cache ca-certificates\\n+\\n+ENV GPG_KEY C01E1CAD5EA2C4F0B8E3571504C367C218ADD4FF\\n+ENV PYTHON_VERSION 2.7.16\\n+\\n+RUN set -ex \\\\\\n+\\t&& apk add --no-cache --virtual .fetch-deps \\\\\\n+\\t\\tgnupg \\\\\\n+\\t\\ttar \\\\\\n+\\t\\txz \\\\\\n+\\t\\\\\\n+\\t&& wget -O python.tar.xz \"https://www.python.org/ftp/python/${PYTHON_VERSION%%[a-z]*}/Python-$PYTHON_VERSION.tar.xz\" \\\\\\n+\\t&& wget -O python.tar.xz.asc \"https://www.python.org/ftp/python/${PYTHON_VERSION%%[a-z]*}/Python-$PYTHON_VERSION.tar.xz.asc\" \\\\\\n+\\t&& export GNUPGHOME=\"$(mktemp -d)\" \\\\\\n+\\t&& gpg --batch --keyserver ha.pool.sks-keyservers.net --recv-keys \"$GPG_KEY\" \\\\\\n+\\t&& gpg --batch --verify python.tar.xz.asc python.tar.xz \\\\\\n+\\t&& { command -v gpgconf > /dev/null && gpgconf --kill all || :; } \\\\\\n+\\t&& rm -rf \"$GNUPGHOME\" python.tar.xz.asc \\\\\\n+\\t&& mkdir -p /usr/src/python \\\\\\n+\\t&& tar -xJC /usr/src/python --strip-components=1 -f python.tar.xz \\\\\\n+\\t&& rm python.tar.xz \\\\\\n+\\t\\\\\\n+\\t&& apk add --no-cache --virtual .build-deps  \\\\\\n+\\t\\tbzip2-dev \\\\\\n+\\t\\tcoreutils \\\\\\n+\\t\\tdpkg-dev dpkg \\\\\\n+\\t\\texpat-dev \\\\\\n+\\t\\tfindutils \\\\\\n+\\t\\tgcc \\\\\\n+\\t\\tgdbm-dev \\\\\\n+\\t\\tlibc-dev \\\\\\n+\\t\\tlibffi-dev \\\\\\n+\\t\\tlibnsl-dev \\\\\\n+\\t\\tlibtirpc-dev \\\\\\n+\\t\\tlinux-headers \\\\\\n+\\t\\tmake \\\\\\n+\\t\\tncurses-dev \\\\\\n+\\t\\topenssl-dev \\\\\\n+\\t\\tpax-utils \\\\\\n+\\t\\treadline-dev \\\\\\n+\\t\\tsqlite-dev \\\\\\n+\\t\\ttcl-dev \\\\\\n+\\t\\ttk \\\\\\n+\\t\\ttk-dev \\\\\\n+\\t\\tzlib-dev \\\\\\n+# add build deps before removing fetch deps in case there\\'s overlap\\n+\\t&& apk del .fetch-deps \\\\\\n+\\t\\\\\\n+\\t&& cd /usr/src/python \\\\\\n+\\t&& gnuArch=\"$(dpkg-architecture --query DEB_BUILD_GNU_TYPE)\" \\\\\\n+\\t&& ./configure \\\\\\n+\\t\\t--build=\"$gnuArch\" \\\\\\n+\\t\\t--enable-shared \\\\\\n+\\t\\t--enable-unicode=ucs4 \\\\\\n+\\t\\t--with-system-expat \\\\\\n+\\t\\t--with-system-ffi \\\\\\n+\\t&& make -j \"$(nproc)\" \\\\\\n+# set thread stack size to 1MB so we don\\'t segfault before we hit sys.getrecursionlimit()\\n+# https://github.com/alpinelinux/aports/commit/2026e1259422d4e0cf92391ca2d3844356c649d0\\n+\\t\\tEXTRA_CFLAGS=\"-DTHREAD_STACK_SIZE=0x100000\" \\\\\\n+\\t&& make install \\\\\\n+\\t\\\\\\n+\\t&& find /usr/local -type f -executable -not \\\\( -name \\'*tkinter*\\' \\\\) -exec scanelf --needed --nobanner --format \\'%n#p\\' \\'{}\\' \\';\\' \\\\\\n+\\t\\t| tr \\',\\' \\'\\\\n\\' \\\\\\n+\\t\\t| sort -u \\\\\\n+\\t\\t| awk \\'system(\"[ -e /usr/local/lib/\" $1 \" ]\") == 0 { next } { print \"so:\" $1 }\\' \\\\\\n+\\t\\t| xargs -rt apk add --no-cache --virtual .python-rundeps \\\\\\n+\\t&& apk del .build-deps \\\\\\n+\\t\\\\\\n+\\t&& find /usr/local -depth \\\\\\n+\\t\\t\\\\( \\\\\\n+\\t\\t\\t\\\\( -type d -a \\\\( -name test -o -name tests \\\\) \\\\) \\\\\\n+\\t\\t\\t-o \\\\\\n+\\t\\t\\t\\\\( -type f -a \\\\( -name \\'*.pyc\\' -o -name \\'*.pyo\\' \\\\) \\\\) \\\\\\n+\\t\\t\\\\) -exec rm -rf \\'{}\\' + \\\\\\n+\\t&& rm -rf /usr/src/python \\\\\\n+\\t\\\\\\n+\\t&& python2 --version\\n+\\n+# if this is called \"PIP_VERSION\", pip explodes with \"ValueError: invalid truth value \\'<VERSION>\\'\"\\n+ENV PYTHON_PIP_VERSION 19.1.1\\n+\\n+RUN set -ex; \\\\\\n+\\t\\\\\\n+\\twget -O get-pip.py \\'https://bootstrap.pypa.io/get-pip.py\\'; \\\\\\n+\\t\\\\\\n+\\tpython get-pip.py \\\\\\n+\\t\\t--disable-pip-version-check \\\\\\n+\\t\\t--no-cache-dir \\\\\\n+\\t\\t\"pip==$PYTHON_PIP_VERSION\" \\\\\\n+\\t; \\\\\\n+\\tpip --version; \\\\\\n+\\t\\\\\\n+\\tfind /usr/local -depth \\\\\\n+\\t\\t\\\\( \\\\\\n+\\t\\t\\t\\\\( -type d -a \\\\( -name test -o -name tests \\\\) \\\\) \\\\\\n+\\t\\t\\t-o \\\\\\n+\\t\\t\\t\\\\( -type f -a \\\\( -name \\'*.pyc\\' -o -name \\'*.pyo\\' \\\\) \\\\) \\\\\\n+\\t\\t\\\\) -exec rm -rf \\'{}\\' +; \\\\\\n+\\trm -f get-pip.py\\n+\\n+CMD [\"python2\"]'},\n",
       "  {'sha': '6c40826e9760d951d54212e29bcf4d7accd55a08',\n",
       "   'filename': '3.5/alpine3.10/Dockerfile',\n",
       "   'status': 'added',\n",
       "   'additions': 126,\n",
       "   'deletions': 0,\n",
       "   'changes': 126,\n",
       "   'blob_url': 'https://github.com/docker-library/python/blob/e057559fad64ed81b3da9fad6612a2de8b0ae544/3.5/alpine3.10/Dockerfile',\n",
       "   'raw_url': 'https://github.com/docker-library/python/raw/e057559fad64ed81b3da9fad6612a2de8b0ae544/3.5/alpine3.10/Dockerfile',\n",
       "   'contents_url': 'https://api.github.com/repos/docker-library/python/contents/3.5/alpine3.10/Dockerfile?ref=e057559fad64ed81b3da9fad6612a2de8b0ae544',\n",
       "   'patch': '@@ -0,0 +1,126 @@\\n+#\\n+# NOTE: THIS DOCKERFILE IS GENERATED VIA \"update.sh\"\\n+#\\n+# PLEASE DO NOT EDIT IT DIRECTLY.\\n+#\\n+\\n+FROM alpine:3.10\\n+\\n+# ensure local python is preferred over distribution python\\n+ENV PATH /usr/local/bin:$PATH\\n+\\n+# http://bugs.python.org/issue19846\\n+# > At the moment, setting \"LANG=C\" on a Linux system *fundamentally breaks Python 3*, and that\\'s not OK.\\n+ENV LANG C.UTF-8\\n+\\n+# install ca-certificates so that HTTPS works consistently\\n+# other runtime dependencies for Python are installed later\\n+RUN apk add --no-cache ca-certificates\\n+\\n+ENV GPG_KEY 97FC712E4C024BBEA48A61ED3A5CA953F73C700D\\n+ENV PYTHON_VERSION 3.5.7\\n+\\n+RUN set -ex \\\\\\n+\\t&& apk add --no-cache --virtual .fetch-deps \\\\\\n+\\t\\tgnupg \\\\\\n+\\t\\ttar \\\\\\n+\\t\\txz \\\\\\n+\\t\\\\\\n+\\t&& wget -O python.tar.xz \"https://www.python.org/ftp/python/${PYTHON_VERSION%%[a-z]*}/Python-$PYTHON_VERSION.tar.xz\" \\\\\\n+\\t&& wget -O python.tar.xz.asc \"https://www.python.org/ftp/python/${PYTHON_VERSION%%[a-z]*}/Python-$PYTHON_VERSION.tar.xz.asc\" \\\\\\n+\\t&& export GNUPGHOME=\"$(mktemp -d)\" \\\\\\n+\\t&& gpg --batch --keyserver ha.pool.sks-keyservers.net --recv-keys \"$GPG_KEY\" \\\\\\n+\\t&& gpg --batch --verify python.tar.xz.asc python.tar.xz \\\\\\n+\\t&& { command -v gpgconf > /dev/null && gpgconf --kill all || :; } \\\\\\n+\\t&& rm -rf \"$GNUPGHOME\" python.tar.xz.asc \\\\\\n+\\t&& mkdir -p /usr/src/python \\\\\\n+\\t&& tar -xJC /usr/src/python --strip-components=1 -f python.tar.xz \\\\\\n+\\t&& rm python.tar.xz \\\\\\n+\\t\\\\\\n+\\t&& apk add --no-cache --virtual .build-deps  \\\\\\n+\\t\\tbzip2-dev \\\\\\n+\\t\\tcoreutils \\\\\\n+\\t\\tdpkg-dev dpkg \\\\\\n+\\t\\texpat-dev \\\\\\n+\\t\\tfindutils \\\\\\n+\\t\\tgcc \\\\\\n+\\t\\tgdbm-dev \\\\\\n+\\t\\tlibc-dev \\\\\\n+\\t\\tlibffi-dev \\\\\\n+\\t\\tlinux-headers \\\\\\n+\\t\\tmake \\\\\\n+\\t\\tncurses-dev \\\\\\n+\\t\\topenssl-dev \\\\\\n+\\t\\tpax-utils \\\\\\n+\\t\\treadline-dev \\\\\\n+\\t\\tsqlite-dev \\\\\\n+\\t\\ttcl-dev \\\\\\n+\\t\\ttk \\\\\\n+\\t\\ttk-dev \\\\\\n+\\t\\txz-dev \\\\\\n+\\t\\tzlib-dev \\\\\\n+# add build deps before removing fetch deps in case there\\'s overlap\\n+\\t&& apk del .fetch-deps \\\\\\n+\\t\\\\\\n+\\t&& cd /usr/src/python \\\\\\n+\\t&& gnuArch=\"$(dpkg-architecture --query DEB_BUILD_GNU_TYPE)\" \\\\\\n+\\t&& ./configure \\\\\\n+\\t\\t--build=\"$gnuArch\" \\\\\\n+\\t\\t--enable-loadable-sqlite-extensions \\\\\\n+\\t\\t--enable-shared \\\\\\n+\\t\\t--with-system-expat \\\\\\n+\\t\\t--with-system-ffi \\\\\\n+\\t\\t--without-ensurepip \\\\\\n+\\t&& make -j \"$(nproc)\" \\\\\\n+# set thread stack size to 1MB so we don\\'t segfault before we hit sys.getrecursionlimit()\\n+# https://github.com/alpinelinux/aports/commit/2026e1259422d4e0cf92391ca2d3844356c649d0\\n+\\t\\tEXTRA_CFLAGS=\"-DTHREAD_STACK_SIZE=0x100000\" \\\\\\n+\\t&& make install \\\\\\n+\\t\\\\\\n+\\t&& find /usr/local -type f -executable -not \\\\( -name \\'*tkinter*\\' \\\\) -exec scanelf --needed --nobanner --format \\'%n#p\\' \\'{}\\' \\';\\' \\\\\\n+\\t\\t| tr \\',\\' \\'\\\\n\\' \\\\\\n+\\t\\t| sort -u \\\\\\n+\\t\\t| awk \\'system(\"[ -e /usr/local/lib/\" $1 \" ]\") == 0 { next } { print \"so:\" $1 }\\' \\\\\\n+\\t\\t| xargs -rt apk add --no-cache --virtual .python-rundeps \\\\\\n+\\t&& apk del .build-deps \\\\\\n+\\t\\\\\\n+\\t&& find /usr/local -depth \\\\\\n+\\t\\t\\\\( \\\\\\n+\\t\\t\\t\\\\( -type d -a \\\\( -name test -o -name tests \\\\) \\\\) \\\\\\n+\\t\\t\\t-o \\\\\\n+\\t\\t\\t\\\\( -type f -a \\\\( -name \\'*.pyc\\' -o -name \\'*.pyo\\' \\\\) \\\\) \\\\\\n+\\t\\t\\\\) -exec rm -rf \\'{}\\' + \\\\\\n+\\t&& rm -rf /usr/src/python \\\\\\n+\\t\\\\\\n+\\t&& python3 --version\\n+\\n+# make some useful symlinks that are expected to exist\\n+RUN cd /usr/local/bin \\\\\\n+\\t&& ln -s idle3 idle \\\\\\n+\\t&& ln -s pydoc3 pydoc \\\\\\n+\\t&& ln -s python3 python \\\\\\n+\\t&& ln -s python3-config python-config\\n+\\n+# if this is called \"PIP_VERSION\", pip explodes with \"ValueError: invalid truth value \\'<VERSION>\\'\"\\n+ENV PYTHON_PIP_VERSION 19.1.1\\n+\\n+RUN set -ex; \\\\\\n+\\t\\\\\\n+\\twget -O get-pip.py \\'https://bootstrap.pypa.io/get-pip.py\\'; \\\\\\n+\\t\\\\\\n+\\tpython get-pip.py \\\\\\n+\\t\\t--disable-pip-version-check \\\\\\n+\\t\\t--no-cache-dir \\\\\\n+\\t\\t\"pip==$PYTHON_PIP_VERSION\" \\\\\\n+\\t; \\\\\\n+\\tpip --version; \\\\\\n+\\t\\\\\\n+\\tfind /usr/local -depth \\\\\\n+\\t\\t\\\\( \\\\\\n+\\t\\t\\t\\\\( -type d -a \\\\( -name test -o -name tests \\\\) \\\\) \\\\\\n+\\t\\t\\t-o \\\\\\n+\\t\\t\\t\\\\( -type f -a \\\\( -name \\'*.pyc\\' -o -name \\'*.pyo\\' \\\\) \\\\) \\\\\\n+\\t\\t\\\\) -exec rm -rf \\'{}\\' +; \\\\\\n+\\trm -f get-pip.py\\n+\\n+CMD [\"python3\"]'},\n",
       "  {'sha': 'cb385ff8dfce0d06be081b5f759b99676509f5c4',\n",
       "   'filename': '3.6/alpine3.10/Dockerfile',\n",
       "   'status': 'added',\n",
       "   'additions': 128,\n",
       "   'deletions': 0,\n",
       "   'changes': 128,\n",
       "   'blob_url': 'https://github.com/docker-library/python/blob/e057559fad64ed81b3da9fad6612a2de8b0ae544/3.6/alpine3.10/Dockerfile',\n",
       "   'raw_url': 'https://github.com/docker-library/python/raw/e057559fad64ed81b3da9fad6612a2de8b0ae544/3.6/alpine3.10/Dockerfile',\n",
       "   'contents_url': 'https://api.github.com/repos/docker-library/python/contents/3.6/alpine3.10/Dockerfile?ref=e057559fad64ed81b3da9fad6612a2de8b0ae544',\n",
       "   'patch': '@@ -0,0 +1,128 @@\\n+#\\n+# NOTE: THIS DOCKERFILE IS GENERATED VIA \"update.sh\"\\n+#\\n+# PLEASE DO NOT EDIT IT DIRECTLY.\\n+#\\n+\\n+FROM alpine:3.10\\n+\\n+# ensure local python is preferred over distribution python\\n+ENV PATH /usr/local/bin:$PATH\\n+\\n+# http://bugs.python.org/issue19846\\n+# > At the moment, setting \"LANG=C\" on a Linux system *fundamentally breaks Python 3*, and that\\'s not OK.\\n+ENV LANG C.UTF-8\\n+\\n+# install ca-certificates so that HTTPS works consistently\\n+# other runtime dependencies for Python are installed later\\n+RUN apk add --no-cache ca-certificates\\n+\\n+ENV GPG_KEY 0D96DF4D4110E5C43FBFB17F2D347EA6AA65421D\\n+ENV PYTHON_VERSION 3.6.8\\n+\\n+RUN set -ex \\\\\\n+\\t&& apk add --no-cache --virtual .fetch-deps \\\\\\n+\\t\\tgnupg \\\\\\n+\\t\\ttar \\\\\\n+\\t\\txz \\\\\\n+\\t\\\\\\n+\\t&& wget -O python.tar.xz \"https://www.python.org/ftp/python/${PYTHON_VERSION%%[a-z]*}/Python-$PYTHON_VERSION.tar.xz\" \\\\\\n+\\t&& wget -O python.tar.xz.asc \"https://www.python.org/ftp/python/${PYTHON_VERSION%%[a-z]*}/Python-$PYTHON_VERSION.tar.xz.asc\" \\\\\\n+\\t&& export GNUPGHOME=\"$(mktemp -d)\" \\\\\\n+\\t&& gpg --batch --keyserver ha.pool.sks-keyservers.net --recv-keys \"$GPG_KEY\" \\\\\\n+\\t&& gpg --batch --verify python.tar.xz.asc python.tar.xz \\\\\\n+\\t&& { command -v gpgconf > /dev/null && gpgconf --kill all || :; } \\\\\\n+\\t&& rm -rf \"$GNUPGHOME\" python.tar.xz.asc \\\\\\n+\\t&& mkdir -p /usr/src/python \\\\\\n+\\t&& tar -xJC /usr/src/python --strip-components=1 -f python.tar.xz \\\\\\n+\\t&& rm python.tar.xz \\\\\\n+\\t\\\\\\n+\\t&& apk add --no-cache --virtual .build-deps  \\\\\\n+\\t\\tbzip2-dev \\\\\\n+\\t\\tcoreutils \\\\\\n+\\t\\tdpkg-dev dpkg \\\\\\n+\\t\\texpat-dev \\\\\\n+\\t\\tfindutils \\\\\\n+\\t\\tgcc \\\\\\n+\\t\\tgdbm-dev \\\\\\n+\\t\\tlibc-dev \\\\\\n+\\t\\tlibffi-dev \\\\\\n+\\t\\tlibnsl-dev \\\\\\n+\\t\\tlibtirpc-dev \\\\\\n+\\t\\tlinux-headers \\\\\\n+\\t\\tmake \\\\\\n+\\t\\tncurses-dev \\\\\\n+\\t\\topenssl-dev \\\\\\n+\\t\\tpax-utils \\\\\\n+\\t\\treadline-dev \\\\\\n+\\t\\tsqlite-dev \\\\\\n+\\t\\ttcl-dev \\\\\\n+\\t\\ttk \\\\\\n+\\t\\ttk-dev \\\\\\n+\\t\\txz-dev \\\\\\n+\\t\\tzlib-dev \\\\\\n+# add build deps before removing fetch deps in case there\\'s overlap\\n+\\t&& apk del .fetch-deps \\\\\\n+\\t\\\\\\n+\\t&& cd /usr/src/python \\\\\\n+\\t&& gnuArch=\"$(dpkg-architecture --query DEB_BUILD_GNU_TYPE)\" \\\\\\n+\\t&& ./configure \\\\\\n+\\t\\t--build=\"$gnuArch\" \\\\\\n+\\t\\t--enable-loadable-sqlite-extensions \\\\\\n+\\t\\t--enable-shared \\\\\\n+\\t\\t--with-system-expat \\\\\\n+\\t\\t--with-system-ffi \\\\\\n+\\t\\t--without-ensurepip \\\\\\n+\\t&& make -j \"$(nproc)\" \\\\\\n+# set thread stack size to 1MB so we don\\'t segfault before we hit sys.getrecursionlimit()\\n+# https://github.com/alpinelinux/aports/commit/2026e1259422d4e0cf92391ca2d3844356c649d0\\n+\\t\\tEXTRA_CFLAGS=\"-DTHREAD_STACK_SIZE=0x100000\" \\\\\\n+\\t&& make install \\\\\\n+\\t\\\\\\n+\\t&& find /usr/local -type f -executable -not \\\\( -name \\'*tkinter*\\' \\\\) -exec scanelf --needed --nobanner --format \\'%n#p\\' \\'{}\\' \\';\\' \\\\\\n+\\t\\t| tr \\',\\' \\'\\\\n\\' \\\\\\n+\\t\\t| sort -u \\\\\\n+\\t\\t| awk \\'system(\"[ -e /usr/local/lib/\" $1 \" ]\") == 0 { next } { print \"so:\" $1 }\\' \\\\\\n+\\t\\t| xargs -rt apk add --no-cache --virtual .python-rundeps \\\\\\n+\\t&& apk del .build-deps \\\\\\n+\\t\\\\\\n+\\t&& find /usr/local -depth \\\\\\n+\\t\\t\\\\( \\\\\\n+\\t\\t\\t\\\\( -type d -a \\\\( -name test -o -name tests \\\\) \\\\) \\\\\\n+\\t\\t\\t-o \\\\\\n+\\t\\t\\t\\\\( -type f -a \\\\( -name \\'*.pyc\\' -o -name \\'*.pyo\\' \\\\) \\\\) \\\\\\n+\\t\\t\\\\) -exec rm -rf \\'{}\\' + \\\\\\n+\\t&& rm -rf /usr/src/python \\\\\\n+\\t\\\\\\n+\\t&& python3 --version\\n+\\n+# make some useful symlinks that are expected to exist\\n+RUN cd /usr/local/bin \\\\\\n+\\t&& ln -s idle3 idle \\\\\\n+\\t&& ln -s pydoc3 pydoc \\\\\\n+\\t&& ln -s python3 python \\\\\\n+\\t&& ln -s python3-config python-config\\n+\\n+# if this is called \"PIP_VERSION\", pip explodes with \"ValueError: invalid truth value \\'<VERSION>\\'\"\\n+ENV PYTHON_PIP_VERSION 19.1.1\\n+\\n+RUN set -ex; \\\\\\n+\\t\\\\\\n+\\twget -O get-pip.py \\'https://bootstrap.pypa.io/get-pip.py\\'; \\\\\\n+\\t\\\\\\n+\\tpython get-pip.py \\\\\\n+\\t\\t--disable-pip-version-check \\\\\\n+\\t\\t--no-cache-dir \\\\\\n+\\t\\t\"pip==$PYTHON_PIP_VERSION\" \\\\\\n+\\t; \\\\\\n+\\tpip --version; \\\\\\n+\\t\\\\\\n+\\tfind /usr/local -depth \\\\\\n+\\t\\t\\\\( \\\\\\n+\\t\\t\\t\\\\( -type d -a \\\\( -name test -o -name tests \\\\) \\\\) \\\\\\n+\\t\\t\\t-o \\\\\\n+\\t\\t\\t\\\\( -type f -a \\\\( -name \\'*.pyc\\' -o -name \\'*.pyo\\' \\\\) \\\\) \\\\\\n+\\t\\t\\\\) -exec rm -rf \\'{}\\' +; \\\\\\n+\\trm -f get-pip.py\\n+\\n+CMD [\"python3\"]'},\n",
       "  {'sha': '60e82ac76be26899ea5e4b2e461f5dcf11ff8021',\n",
       "   'filename': '3.7/alpine3.10/Dockerfile',\n",
       "   'status': 'added',\n",
       "   'additions': 129,\n",
       "   'deletions': 0,\n",
       "   'changes': 129,\n",
       "   'blob_url': 'https://github.com/docker-library/python/blob/e057559fad64ed81b3da9fad6612a2de8b0ae544/3.7/alpine3.10/Dockerfile',\n",
       "   'raw_url': 'https://github.com/docker-library/python/raw/e057559fad64ed81b3da9fad6612a2de8b0ae544/3.7/alpine3.10/Dockerfile',\n",
       "   'contents_url': 'https://api.github.com/repos/docker-library/python/contents/3.7/alpine3.10/Dockerfile?ref=e057559fad64ed81b3da9fad6612a2de8b0ae544',\n",
       "   'patch': '@@ -0,0 +1,129 @@\\n+#\\n+# NOTE: THIS DOCKERFILE IS GENERATED VIA \"update.sh\"\\n+#\\n+# PLEASE DO NOT EDIT IT DIRECTLY.\\n+#\\n+\\n+FROM alpine:3.10\\n+\\n+# ensure local python is preferred over distribution python\\n+ENV PATH /usr/local/bin:$PATH\\n+\\n+# http://bugs.python.org/issue19846\\n+# > At the moment, setting \"LANG=C\" on a Linux system *fundamentally breaks Python 3*, and that\\'s not OK.\\n+ENV LANG C.UTF-8\\n+\\n+# install ca-certificates so that HTTPS works consistently\\n+# other runtime dependencies for Python are installed later\\n+RUN apk add --no-cache ca-certificates\\n+\\n+ENV GPG_KEY 0D96DF4D4110E5C43FBFB17F2D347EA6AA65421D\\n+ENV PYTHON_VERSION 3.7.3\\n+\\n+RUN set -ex \\\\\\n+\\t&& apk add --no-cache --virtual .fetch-deps \\\\\\n+\\t\\tgnupg \\\\\\n+\\t\\ttar \\\\\\n+\\t\\txz \\\\\\n+\\t\\\\\\n+\\t&& wget -O python.tar.xz \"https://www.python.org/ftp/python/${PYTHON_VERSION%%[a-z]*}/Python-$PYTHON_VERSION.tar.xz\" \\\\\\n+\\t&& wget -O python.tar.xz.asc \"https://www.python.org/ftp/python/${PYTHON_VERSION%%[a-z]*}/Python-$PYTHON_VERSION.tar.xz.asc\" \\\\\\n+\\t&& export GNUPGHOME=\"$(mktemp -d)\" \\\\\\n+\\t&& gpg --batch --keyserver ha.pool.sks-keyservers.net --recv-keys \"$GPG_KEY\" \\\\\\n+\\t&& gpg --batch --verify python.tar.xz.asc python.tar.xz \\\\\\n+\\t&& { command -v gpgconf > /dev/null && gpgconf --kill all || :; } \\\\\\n+\\t&& rm -rf \"$GNUPGHOME\" python.tar.xz.asc \\\\\\n+\\t&& mkdir -p /usr/src/python \\\\\\n+\\t&& tar -xJC /usr/src/python --strip-components=1 -f python.tar.xz \\\\\\n+\\t&& rm python.tar.xz \\\\\\n+\\t\\\\\\n+\\t&& apk add --no-cache --virtual .build-deps  \\\\\\n+\\t\\tbzip2-dev \\\\\\n+\\t\\tcoreutils \\\\\\n+\\t\\tdpkg-dev dpkg \\\\\\n+\\t\\texpat-dev \\\\\\n+\\t\\tfindutils \\\\\\n+\\t\\tgcc \\\\\\n+\\t\\tgdbm-dev \\\\\\n+\\t\\tlibc-dev \\\\\\n+\\t\\tlibffi-dev \\\\\\n+\\t\\tlibnsl-dev \\\\\\n+\\t\\tlibtirpc-dev \\\\\\n+\\t\\tlinux-headers \\\\\\n+\\t\\tmake \\\\\\n+\\t\\tncurses-dev \\\\\\n+\\t\\topenssl-dev \\\\\\n+\\t\\tpax-utils \\\\\\n+\\t\\treadline-dev \\\\\\n+\\t\\tsqlite-dev \\\\\\n+\\t\\ttcl-dev \\\\\\n+\\t\\ttk \\\\\\n+\\t\\ttk-dev \\\\\\n+\\t\\tutil-linux-dev \\\\\\n+\\t\\txz-dev \\\\\\n+\\t\\tzlib-dev \\\\\\n+# add build deps before removing fetch deps in case there\\'s overlap\\n+\\t&& apk del .fetch-deps \\\\\\n+\\t\\\\\\n+\\t&& cd /usr/src/python \\\\\\n+\\t&& gnuArch=\"$(dpkg-architecture --query DEB_BUILD_GNU_TYPE)\" \\\\\\n+\\t&& ./configure \\\\\\n+\\t\\t--build=\"$gnuArch\" \\\\\\n+\\t\\t--enable-loadable-sqlite-extensions \\\\\\n+\\t\\t--enable-shared \\\\\\n+\\t\\t--with-system-expat \\\\\\n+\\t\\t--with-system-ffi \\\\\\n+\\t\\t--without-ensurepip \\\\\\n+\\t&& make -j \"$(nproc)\" \\\\\\n+# set thread stack size to 1MB so we don\\'t segfault before we hit sys.getrecursionlimit()\\n+# https://github.com/alpinelinux/aports/commit/2026e1259422d4e0cf92391ca2d3844356c649d0\\n+\\t\\tEXTRA_CFLAGS=\"-DTHREAD_STACK_SIZE=0x100000\" \\\\\\n+\\t&& make install \\\\\\n+\\t\\\\\\n+\\t&& find /usr/local -type f -executable -not \\\\( -name \\'*tkinter*\\' \\\\) -exec scanelf --needed --nobanner --format \\'%n#p\\' \\'{}\\' \\';\\' \\\\\\n+\\t\\t| tr \\',\\' \\'\\\\n\\' \\\\\\n+\\t\\t| sort -u \\\\\\n+\\t\\t| awk \\'system(\"[ -e /usr/local/lib/\" $1 \" ]\") == 0 { next } { print \"so:\" $1 }\\' \\\\\\n+\\t\\t| xargs -rt apk add --no-cache --virtual .python-rundeps \\\\\\n+\\t&& apk del .build-deps \\\\\\n+\\t\\\\\\n+\\t&& find /usr/local -depth \\\\\\n+\\t\\t\\\\( \\\\\\n+\\t\\t\\t\\\\( -type d -a \\\\( -name test -o -name tests \\\\) \\\\) \\\\\\n+\\t\\t\\t-o \\\\\\n+\\t\\t\\t\\\\( -type f -a \\\\( -name \\'*.pyc\\' -o -name \\'*.pyo\\' \\\\) \\\\) \\\\\\n+\\t\\t\\\\) -exec rm -rf \\'{}\\' + \\\\\\n+\\t&& rm -rf /usr/src/python \\\\\\n+\\t\\\\\\n+\\t&& python3 --version\\n+\\n+# make some useful symlinks that are expected to exist\\n+RUN cd /usr/local/bin \\\\\\n+\\t&& ln -s idle3 idle \\\\\\n+\\t&& ln -s pydoc3 pydoc \\\\\\n+\\t&& ln -s python3 python \\\\\\n+\\t&& ln -s python3-config python-config\\n+\\n+# if this is called \"PIP_VERSION\", pip explodes with \"ValueError: invalid truth value \\'<VERSION>\\'\"\\n+ENV PYTHON_PIP_VERSION 19.1.1\\n+\\n+RUN set -ex; \\\\\\n+\\t\\\\\\n+\\twget -O get-pip.py \\'https://bootstrap.pypa.io/get-pip.py\\'; \\\\\\n+\\t\\\\\\n+\\tpython get-pip.py \\\\\\n+\\t\\t--disable-pip-version-check \\\\\\n+\\t\\t--no-cache-dir \\\\\\n+\\t\\t\"pip==$PYTHON_PIP_VERSION\" \\\\\\n+\\t; \\\\\\n+\\tpip --version; \\\\\\n+\\t\\\\\\n+\\tfind /usr/local -depth \\\\\\n+\\t\\t\\\\( \\\\\\n+\\t\\t\\t\\\\( -type d -a \\\\( -name test -o -name tests \\\\) \\\\) \\\\\\n+\\t\\t\\t-o \\\\\\n+\\t\\t\\t\\\\( -type f -a \\\\( -name \\'*.pyc\\' -o -name \\'*.pyo\\' \\\\) \\\\) \\\\\\n+\\t\\t\\\\) -exec rm -rf \\'{}\\' +; \\\\\\n+\\trm -f get-pip.py\\n+\\n+CMD [\"python3\"]'},\n",
       "  {'sha': 'a27c7d503a860f701d00c563ed695af03a5df72d',\n",
       "   'filename': '3.8-rc/alpine3.10/Dockerfile',\n",
       "   'status': 'added',\n",
       "   'additions': 129,\n",
       "   'deletions': 0,\n",
       "   'changes': 129,\n",
       "   'blob_url': 'https://github.com/docker-library/python/blob/e057559fad64ed81b3da9fad6612a2de8b0ae544/3.8-rc/alpine3.10/Dockerfile',\n",
       "   'raw_url': 'https://github.com/docker-library/python/raw/e057559fad64ed81b3da9fad6612a2de8b0ae544/3.8-rc/alpine3.10/Dockerfile',\n",
       "   'contents_url': 'https://api.github.com/repos/docker-library/python/contents/3.8-rc/alpine3.10/Dockerfile?ref=e057559fad64ed81b3da9fad6612a2de8b0ae544',\n",
       "   'patch': '@@ -0,0 +1,129 @@\\n+#\\n+# NOTE: THIS DOCKERFILE IS GENERATED VIA \"update.sh\"\\n+#\\n+# PLEASE DO NOT EDIT IT DIRECTLY.\\n+#\\n+\\n+FROM alpine:3.10\\n+\\n+# ensure local python is preferred over distribution python\\n+ENV PATH /usr/local/bin:$PATH\\n+\\n+# http://bugs.python.org/issue19846\\n+# > At the moment, setting \"LANG=C\" on a Linux system *fundamentally breaks Python 3*, and that\\'s not OK.\\n+ENV LANG C.UTF-8\\n+\\n+# install ca-certificates so that HTTPS works consistently\\n+# other runtime dependencies for Python are installed later\\n+RUN apk add --no-cache ca-certificates\\n+\\n+ENV GPG_KEY E3FF2839C048B25C084DEBE9B26995E310250568\\n+ENV PYTHON_VERSION 3.8.0b1\\n+\\n+RUN set -ex \\\\\\n+\\t&& apk add --no-cache --virtual .fetch-deps \\\\\\n+\\t\\tgnupg \\\\\\n+\\t\\ttar \\\\\\n+\\t\\txz \\\\\\n+\\t\\\\\\n+\\t&& wget -O python.tar.xz \"https://www.python.org/ftp/python/${PYTHON_VERSION%%[a-z]*}/Python-$PYTHON_VERSION.tar.xz\" \\\\\\n+\\t&& wget -O python.tar.xz.asc \"https://www.python.org/ftp/python/${PYTHON_VERSION%%[a-z]*}/Python-$PYTHON_VERSION.tar.xz.asc\" \\\\\\n+\\t&& export GNUPGHOME=\"$(mktemp -d)\" \\\\\\n+\\t&& gpg --batch --keyserver ha.pool.sks-keyservers.net --recv-keys \"$GPG_KEY\" \\\\\\n+\\t&& gpg --batch --verify python.tar.xz.asc python.tar.xz \\\\\\n+\\t&& { command -v gpgconf > /dev/null && gpgconf --kill all || :; } \\\\\\n+\\t&& rm -rf \"$GNUPGHOME\" python.tar.xz.asc \\\\\\n+\\t&& mkdir -p /usr/src/python \\\\\\n+\\t&& tar -xJC /usr/src/python --strip-components=1 -f python.tar.xz \\\\\\n+\\t&& rm python.tar.xz \\\\\\n+\\t\\\\\\n+\\t&& apk add --no-cache --virtual .build-deps  \\\\\\n+\\t\\tbzip2-dev \\\\\\n+\\t\\tcoreutils \\\\\\n+\\t\\tdpkg-dev dpkg \\\\\\n+\\t\\texpat-dev \\\\\\n+\\t\\tfindutils \\\\\\n+\\t\\tgcc \\\\\\n+\\t\\tgdbm-dev \\\\\\n+\\t\\tlibc-dev \\\\\\n+\\t\\tlibffi-dev \\\\\\n+\\t\\tlibnsl-dev \\\\\\n+\\t\\tlibtirpc-dev \\\\\\n+\\t\\tlinux-headers \\\\\\n+\\t\\tmake \\\\\\n+\\t\\tncurses-dev \\\\\\n+\\t\\topenssl-dev \\\\\\n+\\t\\tpax-utils \\\\\\n+\\t\\treadline-dev \\\\\\n+\\t\\tsqlite-dev \\\\\\n+\\t\\ttcl-dev \\\\\\n+\\t\\ttk \\\\\\n+\\t\\ttk-dev \\\\\\n+\\t\\tutil-linux-dev \\\\\\n+\\t\\txz-dev \\\\\\n+\\t\\tzlib-dev \\\\\\n+# add build deps before removing fetch deps in case there\\'s overlap\\n+\\t&& apk del .fetch-deps \\\\\\n+\\t\\\\\\n+\\t&& cd /usr/src/python \\\\\\n+\\t&& gnuArch=\"$(dpkg-architecture --query DEB_BUILD_GNU_TYPE)\" \\\\\\n+\\t&& ./configure \\\\\\n+\\t\\t--build=\"$gnuArch\" \\\\\\n+\\t\\t--enable-loadable-sqlite-extensions \\\\\\n+\\t\\t--enable-shared \\\\\\n+\\t\\t--with-system-expat \\\\\\n+\\t\\t--with-system-ffi \\\\\\n+\\t\\t--without-ensurepip \\\\\\n+\\t&& make -j \"$(nproc)\" \\\\\\n+# set thread stack size to 1MB so we don\\'t segfault before we hit sys.getrecursionlimit()\\n+# https://github.com/alpinelinux/aports/commit/2026e1259422d4e0cf92391ca2d3844356c649d0\\n+\\t\\tEXTRA_CFLAGS=\"-DTHREAD_STACK_SIZE=0x100000\" \\\\\\n+\\t&& make install \\\\\\n+\\t\\\\\\n+\\t&& find /usr/local -type f -executable -not \\\\( -name \\'*tkinter*\\' \\\\) -exec scanelf --needed --nobanner --format \\'%n#p\\' \\'{}\\' \\';\\' \\\\\\n+\\t\\t| tr \\',\\' \\'\\\\n\\' \\\\\\n+\\t\\t| sort -u \\\\\\n+\\t\\t| awk \\'system(\"[ -e /usr/local/lib/\" $1 \" ]\") == 0 { next } { print \"so:\" $1 }\\' \\\\\\n+\\t\\t| xargs -rt apk add --no-cache --virtual .python-rundeps \\\\\\n+\\t&& apk del .build-deps \\\\\\n+\\t\\\\\\n+\\t&& find /usr/local -depth \\\\\\n+\\t\\t\\\\( \\\\\\n+\\t\\t\\t\\\\( -type d -a \\\\( -name test -o -name tests \\\\) \\\\) \\\\\\n+\\t\\t\\t-o \\\\\\n+\\t\\t\\t\\\\( -type f -a \\\\( -name \\'*.pyc\\' -o -name \\'*.pyo\\' \\\\) \\\\) \\\\\\n+\\t\\t\\\\) -exec rm -rf \\'{}\\' + \\\\\\n+\\t&& rm -rf /usr/src/python \\\\\\n+\\t\\\\\\n+\\t&& python3 --version\\n+\\n+# make some useful symlinks that are expected to exist\\n+RUN cd /usr/local/bin \\\\\\n+\\t&& ln -s idle3 idle \\\\\\n+\\t&& ln -s pydoc3 pydoc \\\\\\n+\\t&& ln -s python3 python \\\\\\n+\\t&& ln -s python3-config python-config\\n+\\n+# if this is called \"PIP_VERSION\", pip explodes with \"ValueError: invalid truth value \\'<VERSION>\\'\"\\n+ENV PYTHON_PIP_VERSION 19.1.1\\n+\\n+RUN set -ex; \\\\\\n+\\t\\\\\\n+\\twget -O get-pip.py \\'https://bootstrap.pypa.io/get-pip.py\\'; \\\\\\n+\\t\\\\\\n+\\tpython get-pip.py \\\\\\n+\\t\\t--disable-pip-version-check \\\\\\n+\\t\\t--no-cache-dir \\\\\\n+\\t\\t\"pip==$PYTHON_PIP_VERSION\" \\\\\\n+\\t; \\\\\\n+\\tpip --version; \\\\\\n+\\t\\\\\\n+\\tfind /usr/local -depth \\\\\\n+\\t\\t\\\\( \\\\\\n+\\t\\t\\t\\\\( -type d -a \\\\( -name test -o -name tests \\\\) \\\\) \\\\\\n+\\t\\t\\t-o \\\\\\n+\\t\\t\\t\\\\( -type f -a \\\\( -name \\'*.pyc\\' -o -name \\'*.pyo\\' \\\\) \\\\) \\\\\\n+\\t\\t\\\\) -exec rm -rf \\'{}\\' +; \\\\\\n+\\trm -f get-pip.py\\n+\\n+CMD [\"python3\"]'},\n",
       "  {'sha': 'e8d22e5bdf4e923c0db7c95a32c7ab75dc9668ee',\n",
       "   'filename': 'update.sh',\n",
       "   'status': 'modified',\n",
       "   'additions': 1,\n",
       "   'deletions': 13,\n",
       "   'changes': 14,\n",
       "   'blob_url': 'https://github.com/docker-library/python/blob/e057559fad64ed81b3da9fad6612a2de8b0ae544/update.sh',\n",
       "   'raw_url': 'https://github.com/docker-library/python/raw/e057559fad64ed81b3da9fad6612a2de8b0ae544/update.sh',\n",
       "   'contents_url': 'https://api.github.com/repos/docker-library/python/contents/update.sh?ref=e057559fad64ed81b3da9fad6612a2de8b0ae544',\n",
       "   'patch': '@@ -113,7 +113,7 @@ for version in \"${versions[@]}\"; do\\n \\techo \"$version: $fullVersion\"\\n \\n \\tfor v in \\\\\\n-\\t\\talpine{3.8,3.9} \\\\\\n+\\t\\talpine{3.9,3.10} \\\\\\n \\t\\t{jessie,stretch}{/slim,} \\\\\\n \\t\\twindows/windowsservercore-{1809,1803,ltsc2016} \\\\\\n \\t; do\\n@@ -148,19 +148,7 @@ for version in \"${versions[@]}\"; do\\n \\t\\t\\t-e \\'s!^(FROM (debian|buildpack-deps|alpine|mcr[.]microsoft[.]com/[^:]+)):.*!\\\\1:\\'\"$tag\"\\'!\\' \\\\\\n \\t\\t\\t\"$dir/Dockerfile\"\\n \\n-\\t\\t# Alpine < 3.9 used libressl instead of openssl\\n-\\t\\tif [ \"$v\" = \\'alpine3.8\\' ]; then\\n-\\t\\t\\tsed -ri -e \\'s/openssl/libressl/g\\' \"$dir/Dockerfile\"\\n-\\t\\tfi\\n-\\n \\t\\tcase \"$version/$v\" in\\n-\\t\\t\\t# https://bugs.python.org/issue32598 (Python 3.7.0b1+)\\n-\\t\\t\\t# TL;DR: Python 3.7+ uses OpenSSL functionality which LibreSSL 2.6.x in Alpine 3.7 doesn\\'t implement\\n-\\t\\t\\t# Python 3.5 on Alpine 3.8 needs OpenSSL too\\n-\\t\\t\\t3.5*/alpine3.8)\\n-\\t\\t\\t\\tsed -ri -e \\'s/libressl-dev/openssl-dev/g\\' \"$dir/Dockerfile\"\\n-\\t\\t\\t\\t;;& # (3.5*/alpine* needs to match the next block too)\\n-\\n \\t\\t\\t# Libraries to build the nis module only available in Alpine 3.7+.\\n \\t\\t\\t# Also require this patch https://bugs.python.org/issue32521 only available in Python 2.7, 3.6+.\\n \\t\\t\\t3.5*/alpine*)'}]}"
      ]
     },
     "execution_count": 28,
     "metadata": {},
     "output_type": "execute_result"
    }
   ],
   "source": [
    "file_commit.raw_data"
   ]
  },
  {
   "cell_type": "markdown",
   "metadata": {},
   "source": [
    "Commit statistics"
   ]
  },
  {
   "cell_type": "code",
   "execution_count": 29,
   "metadata": {},
   "outputs": [],
   "source": [
    "stats = commit.stats"
   ]
  },
  {
   "cell_type": "code",
   "execution_count": 30,
   "metadata": {
    "scrolled": true
   },
   "outputs": [
    {
     "data": {
      "text/plain": [
       "{'total': 36, 'additions': 18, 'deletions': 18}"
      ]
     },
     "execution_count": 30,
     "metadata": {},
     "output_type": "execute_result"
    }
   ],
   "source": [
    "stats.raw_data"
   ]
  },
  {
   "cell_type": "markdown",
   "metadata": {},
   "source": [
    "_______"
   ]
  }
 ],
 "metadata": {
  "kernelspec": {
   "display_name": "Python 3",
   "language": "python",
   "name": "python3"
  },
  "language_info": {
   "codemirror_mode": {
    "name": "ipython",
    "version": 3
   },
   "file_extension": ".py",
   "mimetype": "text/x-python",
   "name": "python",
   "nbconvert_exporter": "python",
   "pygments_lexer": "ipython3",
   "version": "3.7.3"
  }
 },
 "nbformat": 4,
 "nbformat_minor": 2
}
