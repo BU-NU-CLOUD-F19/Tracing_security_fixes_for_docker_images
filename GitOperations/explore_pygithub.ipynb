{
 "cells": [
  {
   "cell_type": "markdown",
   "metadata": {},
   "source": [
    "# Exploring the PyGitHub library\n",
    "\n",
    "______\n",
    "\n",
    "## Installation\n",
    "\n",
    "```\n",
    "pip install PyGithub\n",
    "```"
   ]
  },
  {
   "cell_type": "code",
   "execution_count": 1,
   "metadata": {},
   "outputs": [],
   "source": [
    "from github import Github"
   ]
  },
  {
   "cell_type": "markdown",
   "metadata": {},
   "source": [
    "Set your Github username and password"
   ]
  },
  {
   "cell_type": "code",
   "execution_count": 2,
   "metadata": {},
   "outputs": [],
   "source": [
    "username = \"\" \n",
    "password = \"\""
   ]
  },
  {
   "cell_type": "code",
   "execution_count": 3,
   "metadata": {},
   "outputs": [],
   "source": [
    "g = Github(username, password)"
   ]
  },
  {
   "cell_type": "markdown",
   "metadata": {},
   "source": [
    "Or use your github access token"
   ]
  },
  {
   "cell_type": "code",
   "execution_count": 2,
   "metadata": {},
   "outputs": [],
   "source": [
    "access_token = \"\""
   ]
  },
  {
   "cell_type": "code",
   "execution_count": 3,
   "metadata": {},
   "outputs": [],
   "source": [
    "g = Github(access_token)"
   ]
  },
  {
   "cell_type": "markdown",
   "metadata": {},
   "source": [
    "Retrieve the docker library organization"
   ]
  },
  {
   "cell_type": "code",
   "execution_count": 4,
   "metadata": {},
   "outputs": [],
   "source": [
    "org = g.get_organization('docker-library')"
   ]
  },
  {
   "cell_type": "markdown",
   "metadata": {},
   "source": [
    "Retrieve the python repository under docker-libary"
   ]
  },
  {
   "cell_type": "code",
   "execution_count": 5,
   "metadata": {},
   "outputs": [],
   "source": [
    "repo = org.get_repo('python')"
   ]
  },
  {
   "cell_type": "markdown",
   "metadata": {},
   "source": [
    "Fetch commits from the master branch"
   ]
  },
  {
   "cell_type": "code",
   "execution_count": 6,
   "metadata": {},
   "outputs": [],
   "source": [
    "commits = repo.get_commits()"
   ]
  },
  {
   "cell_type": "code",
   "execution_count": 7,
   "metadata": {},
   "outputs": [
    {
     "name": "stdout",
     "output_type": "stream",
     "text": [
      "Commit(sha=\"cdff21a05616b660073278f13dc560005322349c\")\n",
      "Commit(sha=\"7868f534a6d9e3264e9ecef466c50125751511fa\")\n",
      "Commit(sha=\"ca8eac507c34853349177cab608f237d9b664f35\")\n",
      "Commit(sha=\"5f5b1bfb9466f0ac8fbd7b615b99493532d42ae8\")\n",
      "Commit(sha=\"35566cb6b14961c369e935b85b4c8879e6901ccc\")\n",
      "Commit(sha=\"c3233a936f58bee7c6899d3e381f23ed12cfc7a8\")\n",
      "Commit(sha=\"aba58b3895e9f50a1323623c18ebe7c969245abc\")\n",
      "Commit(sha=\"e0f2cbdfe6affd5280091cc424ba2480a4447a69\")\n",
      "Commit(sha=\"c62605e5bb11b41443db12ab9991fff7692de326\")\n",
      "Commit(sha=\"fe11c2ed5a3a3a1917f0a37f3f265d81969d09d9\")\n"
     ]
    }
   ],
   "source": [
    "# print top 10 commits\n",
    "for commit in commits[:10]:\n",
    "    print(commit)"
   ]
  },
  {
   "cell_type": "markdown",
   "metadata": {},
   "source": [
    "Find contents"
   ]
  },
  {
   "cell_type": "code",
   "execution_count": 8,
   "metadata": {},
   "outputs": [
    {
     "name": "stdout",
     "output_type": "stream",
     "text": [
      "file :  ContentFile(path=\".appveyor.yml\") .appveyor.yml\n",
      "file :  ContentFile(path=\".travis.yml\") .travis.yml\n",
      "dir :  ContentFile(path=\"2.7\") 2.7\n",
      "dir :  ContentFile(path=\"3.5\") 3.5\n",
      "dir :  ContentFile(path=\"3.6\") 3.6\n",
      "dir :  ContentFile(path=\"3.7\") 3.7\n",
      "dir :  ContentFile(path=\"3.8-rc\") 3.8-rc\n",
      "file :  ContentFile(path=\"Dockerfile-alpine.template\") Dockerfile-alpine.template\n",
      "file :  ContentFile(path=\"Dockerfile-caveman-alpine.template\") Dockerfile-caveman-alpine.template\n",
      "file :  ContentFile(path=\"Dockerfile-caveman-debian.template\") Dockerfile-caveman-debian.template\n",
      "file :  ContentFile(path=\"Dockerfile-caveman-slim.template\") Dockerfile-caveman-slim.template\n",
      "file :  ContentFile(path=\"Dockerfile-caveman-windowsservercore.template\") Dockerfile-caveman-windowsservercore.template\n",
      "file :  ContentFile(path=\"Dockerfile-debian.template\") Dockerfile-debian.template\n",
      "file :  ContentFile(path=\"Dockerfile-slim.template\") Dockerfile-slim.template\n",
      "file :  ContentFile(path=\"Dockerfile-windowsservercore.template\") Dockerfile-windowsservercore.template\n",
      "file :  ContentFile(path=\"LICENSE\") LICENSE\n",
      "file :  ContentFile(path=\"README.md\") README.md\n",
      "file :  ContentFile(path=\"generate-stackbrew-library.sh\") generate-stackbrew-library.sh\n",
      "file :  ContentFile(path=\"update.sh\") update.sh\n"
     ]
    }
   ],
   "source": [
    "for content in repo.get_contents(\"\"):\n",
    "    print(content.type, \": \", content, content.path)"
   ]
  },
  {
   "cell_type": "markdown",
   "metadata": {},
   "source": [
    "\n",
    "Find all dockerfiles"
   ]
  },
  {
   "cell_type": "code",
   "execution_count": 9,
   "metadata": {},
   "outputs": [
    {
     "data": {
      "text/plain": [
       "'update.sh'"
      ]
     },
     "execution_count": 9,
     "metadata": {},
     "output_type": "execute_result"
    }
   ],
   "source": [
    "content.name"
   ]
  },
  {
   "cell_type": "code",
   "execution_count": 10,
   "metadata": {},
   "outputs": [
    {
     "data": {
      "text/plain": [
       "[ContentFile(path=\"2.7/alpine3.10\"),\n",
       " ContentFile(path=\"2.7/alpine3.9\"),\n",
       " ContentFile(path=\"2.7/buster\"),\n",
       " ContentFile(path=\"2.7/stretch\"),\n",
       " ContentFile(path=\"2.7/windows\")]"
      ]
     },
     "execution_count": 10,
     "metadata": {},
     "output_type": "execute_result"
    }
   ],
   "source": [
    "repo.get_contents('2.7')"
   ]
  },
  {
   "cell_type": "code",
   "execution_count": 11,
   "metadata": {},
   "outputs": [],
   "source": [
    "dockerfiles = []\n",
    "\n",
    "def add_dockerfiles(dockerfiles, repo_contents):\n",
    "    for content in repo_contents:\n",
    "        print(content.path)\n",
    "        if content.type == 'dir':\n",
    "            dockerfiles = add_dockerfiles(dockerfiles, repo.get_contents(content.path))\n",
    "        elif content.type == 'file' and content.name.endswith('Dockerfile'):\n",
    "            dockerfiles.append(content)\n",
    "    return dockerfiles"
   ]
  },
  {
   "cell_type": "code",
   "execution_count": 12,
   "metadata": {
    "scrolled": true
   },
   "outputs": [
    {
     "name": "stdout",
     "output_type": "stream",
     "text": [
      ".appveyor.yml\n",
      ".travis.yml\n",
      "2.7\n",
      "2.7/alpine3.10\n",
      "2.7/alpine3.10/Dockerfile\n",
      "2.7/alpine3.9\n",
      "2.7/alpine3.9/Dockerfile\n",
      "2.7/buster\n",
      "2.7/buster/Dockerfile\n",
      "2.7/buster/slim\n",
      "2.7/buster/slim/Dockerfile\n",
      "2.7/stretch\n",
      "2.7/stretch/Dockerfile\n",
      "2.7/stretch/slim\n",
      "2.7/stretch/slim/Dockerfile\n",
      "2.7/windows\n",
      "2.7/windows/windowsservercore-1803\n",
      "2.7/windows/windowsservercore-1803/Dockerfile\n",
      "2.7/windows/windowsservercore-1809\n",
      "2.7/windows/windowsservercore-1809/Dockerfile\n",
      "2.7/windows/windowsservercore-ltsc2016\n",
      "2.7/windows/windowsservercore-ltsc2016/Dockerfile\n",
      "3.5\n",
      "3.5/alpine3.10\n",
      "3.5/alpine3.10/Dockerfile\n",
      "3.5/alpine3.9\n",
      "3.5/alpine3.9/Dockerfile\n",
      "3.5/buster\n",
      "3.5/buster/Dockerfile\n",
      "3.5/buster/slim\n",
      "3.5/buster/slim/Dockerfile\n",
      "3.5/stretch\n",
      "3.5/stretch/Dockerfile\n",
      "3.5/stretch/slim\n",
      "3.5/stretch/slim/Dockerfile\n",
      "3.6\n",
      "3.6/alpine3.10\n",
      "3.6/alpine3.10/Dockerfile\n",
      "3.6/alpine3.9\n",
      "3.6/alpine3.9/Dockerfile\n",
      "3.6/buster\n",
      "3.6/buster/Dockerfile\n",
      "3.6/buster/slim\n",
      "3.6/buster/slim/Dockerfile\n",
      "3.6/jessie\n",
      "3.6/jessie/Dockerfile\n",
      "3.6/jessie/slim\n",
      "3.6/jessie/slim/Dockerfile\n",
      "3.6/stretch\n",
      "3.6/stretch/Dockerfile\n",
      "3.6/stretch/slim\n",
      "3.6/stretch/slim/Dockerfile\n",
      "3.7\n",
      "3.7/alpine3.10\n",
      "3.7/alpine3.10/Dockerfile\n",
      "3.7/alpine3.9\n",
      "3.7/alpine3.9/Dockerfile\n",
      "3.7/buster\n",
      "3.7/buster/Dockerfile\n",
      "3.7/buster/slim\n",
      "3.7/buster/slim/Dockerfile\n",
      "3.7/stretch\n",
      "3.7/stretch/Dockerfile\n",
      "3.7/stretch/slim\n",
      "3.7/stretch/slim/Dockerfile\n",
      "3.7/windows\n",
      "3.7/windows/windowsservercore-1803\n",
      "3.7/windows/windowsservercore-1803/Dockerfile\n",
      "3.7/windows/windowsservercore-1809\n",
      "3.7/windows/windowsservercore-1809/Dockerfile\n",
      "3.7/windows/windowsservercore-ltsc2016\n",
      "3.7/windows/windowsservercore-ltsc2016/Dockerfile\n",
      "3.8-rc\n",
      "3.8-rc/alpine3.10\n",
      "3.8-rc/alpine3.10/Dockerfile\n",
      "3.8-rc/buster\n",
      "3.8-rc/buster/Dockerfile\n",
      "3.8-rc/buster/slim\n",
      "3.8-rc/buster/slim/Dockerfile\n",
      "3.8-rc/windows\n",
      "3.8-rc/windows/windowsservercore-1803\n",
      "3.8-rc/windows/windowsservercore-1803/Dockerfile\n",
      "3.8-rc/windows/windowsservercore-1809\n",
      "3.8-rc/windows/windowsservercore-1809/Dockerfile\n",
      "3.8-rc/windows/windowsservercore-ltsc2016\n",
      "3.8-rc/windows/windowsservercore-ltsc2016/Dockerfile\n",
      "Dockerfile-alpine.template\n",
      "Dockerfile-caveman-alpine.template\n",
      "Dockerfile-caveman-debian.template\n",
      "Dockerfile-caveman-slim.template\n",
      "Dockerfile-caveman-windowsservercore.template\n",
      "Dockerfile-debian.template\n",
      "Dockerfile-slim.template\n",
      "Dockerfile-windowsservercore.template\n",
      "LICENSE\n",
      "README.md\n",
      "generate-stackbrew-library.sh\n",
      "update.sh\n"
     ]
    }
   ],
   "source": [
    "dockerfiles = add_dockerfiles(dockerfiles, repo.get_contents(''))"
   ]
  },
  {
   "cell_type": "code",
   "execution_count": 13,
   "metadata": {},
   "outputs": [
    {
     "data": {
      "text/plain": [
       "[ContentFile(path=\"2.7/alpine3.10/Dockerfile\"),\n",
       " ContentFile(path=\"2.7/alpine3.9/Dockerfile\"),\n",
       " ContentFile(path=\"2.7/buster/Dockerfile\"),\n",
       " ContentFile(path=\"2.7/buster/slim/Dockerfile\"),\n",
       " ContentFile(path=\"2.7/stretch/Dockerfile\"),\n",
       " ContentFile(path=\"2.7/stretch/slim/Dockerfile\"),\n",
       " ContentFile(path=\"2.7/windows/windowsservercore-1803/Dockerfile\"),\n",
       " ContentFile(path=\"2.7/windows/windowsservercore-1809/Dockerfile\"),\n",
       " ContentFile(path=\"2.7/windows/windowsservercore-ltsc2016/Dockerfile\"),\n",
       " ContentFile(path=\"3.5/alpine3.10/Dockerfile\"),\n",
       " ContentFile(path=\"3.5/alpine3.9/Dockerfile\"),\n",
       " ContentFile(path=\"3.5/buster/Dockerfile\"),\n",
       " ContentFile(path=\"3.5/buster/slim/Dockerfile\"),\n",
       " ContentFile(path=\"3.5/stretch/Dockerfile\"),\n",
       " ContentFile(path=\"3.5/stretch/slim/Dockerfile\"),\n",
       " ContentFile(path=\"3.6/alpine3.10/Dockerfile\"),\n",
       " ContentFile(path=\"3.6/alpine3.9/Dockerfile\"),\n",
       " ContentFile(path=\"3.6/buster/Dockerfile\"),\n",
       " ContentFile(path=\"3.6/buster/slim/Dockerfile\"),\n",
       " ContentFile(path=\"3.6/jessie/Dockerfile\"),\n",
       " ContentFile(path=\"3.6/jessie/slim/Dockerfile\"),\n",
       " ContentFile(path=\"3.6/stretch/Dockerfile\"),\n",
       " ContentFile(path=\"3.6/stretch/slim/Dockerfile\"),\n",
       " ContentFile(path=\"3.7/alpine3.10/Dockerfile\"),\n",
       " ContentFile(path=\"3.7/alpine3.9/Dockerfile\"),\n",
       " ContentFile(path=\"3.7/buster/Dockerfile\"),\n",
       " ContentFile(path=\"3.7/buster/slim/Dockerfile\"),\n",
       " ContentFile(path=\"3.7/stretch/Dockerfile\"),\n",
       " ContentFile(path=\"3.7/stretch/slim/Dockerfile\"),\n",
       " ContentFile(path=\"3.7/windows/windowsservercore-1803/Dockerfile\"),\n",
       " ContentFile(path=\"3.7/windows/windowsservercore-1809/Dockerfile\"),\n",
       " ContentFile(path=\"3.7/windows/windowsservercore-ltsc2016/Dockerfile\"),\n",
       " ContentFile(path=\"3.8-rc/alpine3.10/Dockerfile\"),\n",
       " ContentFile(path=\"3.8-rc/buster/Dockerfile\"),\n",
       " ContentFile(path=\"3.8-rc/buster/slim/Dockerfile\"),\n",
       " ContentFile(path=\"3.8-rc/windows/windowsservercore-1803/Dockerfile\"),\n",
       " ContentFile(path=\"3.8-rc/windows/windowsservercore-1809/Dockerfile\"),\n",
       " ContentFile(path=\"3.8-rc/windows/windowsservercore-ltsc2016/Dockerfile\")]"
      ]
     },
     "execution_count": 13,
     "metadata": {},
     "output_type": "execute_result"
    }
   ],
   "source": [
    "dockerfiles"
   ]
  },
  {
   "cell_type": "code",
   "execution_count": 38,
   "metadata": {},
   "outputs": [
    {
     "data": {
      "text/plain": [
       "38"
      ]
     },
     "execution_count": 38,
     "metadata": {},
     "output_type": "execute_result"
    }
   ],
   "source": [
    "len(dockerfiles)"
   ]
  },
  {
   "cell_type": "markdown",
   "metadata": {},
   "source": [
    "Fetch commits for each dockerfile"
   ]
  },
  {
   "cell_type": "code",
   "execution_count": 34,
   "metadata": {
    "scrolled": true
   },
   "outputs": [
    {
     "name": "stdout",
     "output_type": "stream",
     "text": [
      "2.7/alpine3.10/Dockerfile\n",
      "No of commits 4\n",
      "No of files 7\n",
      "Update to 2.7.16, pip 19.2.3\n",
      "aba58b3895e9f50a1323623c18ebe7c969245abc docker-library-bot Sun, 25 Aug 2019 09:49:20 GMT\n",
      "2.7/alpine3.10/Dockerfile\n",
      "Update to 2.7.16, pip 19.2.2\n",
      "57cb79924a005710a5b1d8fedde5e6a2624ba989 docker-library-bot Sun, 11 Aug 2019 21:49:11 GMT\n",
      "2.7/alpine3.10/Dockerfile\n",
      "Update PIP to 19.2.1\n",
      "\n",
      "Also, use a fixed commit from https://github.com/pypa/get-pip and add a sha256 checksum for verification.\n",
      "d2fcc8406cebea404211e808f74fc1090122b4e8 Tianon Gravi Tue, 23 Jul 2019 22:24:26 GMT\n",
      "2.7/alpine3.10/Dockerfile\n",
      "Add Alpine 3.10 and remove Alpine 3.8\n",
      "e057559fad64ed81b3da9fad6612a2de8b0ae544 docker-library-bot Thu, 20 Jun 2019 13:44:40 GMT\n",
      "2.7/alpine3.10/Dockerfile\n",
      "\n",
      "\n",
      "2.7/alpine3.9/Dockerfile\n",
      "No of commits 10\n",
      "No of files 7\n",
      "Update to 2.7.16, pip 19.2.3\n",
      "aba58b3895e9f50a1323623c18ebe7c969245abc docker-library-bot Sun, 25 Aug 2019 09:49:20 GMT\n",
      "2.7/alpine3.9/Dockerfile\n",
      "Update to 2.7.16, pip 19.2.2\n",
      "57cb79924a005710a5b1d8fedde5e6a2624ba989 docker-library-bot Sun, 11 Aug 2019 21:49:11 GMT\n",
      "2.7/alpine3.9/Dockerfile\n",
      "Update PIP to 19.2.1\n",
      "\n",
      "Also, use a fixed commit from https://github.com/pypa/get-pip and add a sha256 checksum for verification.\n",
      "d2fcc8406cebea404211e808f74fc1090122b4e8 Tianon Gravi Tue, 23 Jul 2019 22:24:26 GMT\n",
      "2.7/alpine3.9/Dockerfile\n",
      "Update to 2.7.16, pip 19.1.1\n",
      "00dfb8462f6b3fca152d46b20c0d3b70e8c7ff5b docker-library-bot Mon, 06 May 2019 15:49:33 GMT\n",
      "2.7/alpine3.9/Dockerfile\n",
      "Update to 2.7.16, pip 19.1\n",
      "10c3bd9dba7bd6c14ca85924caa9a27a61ed3c9e docker-library-bot Wed, 24 Apr 2019 03:25:18 GMT\n",
      "2.7/alpine3.9/Dockerfile\n",
      "Update to 2.7.16, pip 19.0.3\n",
      "636e02777ea417851942e6e826fe5a6b4dee6f74 docker-library-bot Sat, 02 Mar 2019 22:49:33 GMT\n",
      "2.7/alpine3.9/Dockerfile\n",
      "Update to 2.7.15, pip 19.0.3\n",
      "f444edd8a36e828ddf9d72aa3d3282725db0e48b docker-library-bot Wed, 20 Feb 2019 22:50:05 GMT\n",
      "2.7/alpine3.9/Dockerfile\n",
      "Update to 2.7.15, pip 19.0.2\n",
      "275aea55602ac3aa7beb9e346d713c0732e11195 docker-library-bot Sat, 09 Feb 2019 10:49:13 GMT\n",
      "2.7/alpine3.9/Dockerfile\n",
      "Sort package list in template\n",
      "662514b58264cff440912d93648ecf202a43f31c Tianon Gravi Tue, 05 Feb 2019 20:14:18 GMT\n",
      "2.7/alpine3.9/Dockerfile\n",
      "Add Alpine 3.9 images\n",
      "f2298571c308858c51b22b1148d5fffc33998105 Jamie Hewland Tue, 05 Feb 2019 20:06:05 GMT\n",
      "2.7/alpine3.9/Dockerfile\n",
      "\n",
      "\n",
      "2.7/buster/Dockerfile\n",
      "No of commits 4\n",
      "No of files 11\n",
      "Update to 2.7.16, pip 19.2.3\n",
      "aba58b3895e9f50a1323623c18ebe7c969245abc docker-library-bot Sun, 25 Aug 2019 09:49:20 GMT\n",
      "2.7/buster/Dockerfile\n",
      "Update to 2.7.16, pip 19.2.2\n",
      "57cb79924a005710a5b1d8fedde5e6a2624ba989 docker-library-bot Sun, 11 Aug 2019 21:49:11 GMT\n",
      "2.7/buster/Dockerfile\n",
      "Update PIP to 19.2.1\n",
      "\n",
      "Also, use a fixed commit from https://github.com/pypa/get-pip and add a sha256 checksum for verification.\n",
      "d2fcc8406cebea404211e808f74fc1090122b4e8 Tianon Gravi Tue, 23 Jul 2019 22:24:26 GMT\n",
      "2.7/buster/Dockerfile\n",
      "Add Debian Buster and remove Jessie\n",
      "2a11f610a56ff3c0f0157790dde940894fad7a1a docker-library-bot Wed, 10 Jul 2019 21:56:12 GMT\n",
      "2.7/buster/Dockerfile\n",
      "\n",
      "\n",
      "2.7/buster/slim/Dockerfile\n",
      "No of commits 4\n",
      "No of files 11\n",
      "Update to 2.7.16, pip 19.2.3\n",
      "aba58b3895e9f50a1323623c18ebe7c969245abc docker-library-bot Sun, 25 Aug 2019 09:49:20 GMT\n",
      "2.7/buster/slim/Dockerfile\n",
      "Update to 2.7.16, pip 19.2.2\n",
      "57cb79924a005710a5b1d8fedde5e6a2624ba989 docker-library-bot Sun, 11 Aug 2019 21:49:11 GMT\n",
      "2.7/buster/slim/Dockerfile\n",
      "Update PIP to 19.2.1\n",
      "\n",
      "Also, use a fixed commit from https://github.com/pypa/get-pip and add a sha256 checksum for verification.\n",
      "d2fcc8406cebea404211e808f74fc1090122b4e8 Tianon Gravi Tue, 23 Jul 2019 22:24:26 GMT\n",
      "2.7/buster/slim/Dockerfile\n",
      "Add Debian Buster and remove Jessie\n",
      "2a11f610a56ff3c0f0157790dde940894fad7a1a docker-library-bot Wed, 10 Jul 2019 21:56:12 GMT\n",
      "2.7/buster/slim/Dockerfile\n",
      "\n",
      "\n",
      "2.7/stretch/Dockerfile\n",
      "No of commits 25\n",
      "No of files 4\n",
      "Update to 2.7.16, pip 19.2.3\n",
      "aba58b3895e9f50a1323623c18ebe7c969245abc docker-library-bot Sun, 25 Aug 2019 09:49:20 GMT\n",
      "2.7/stretch/Dockerfile\n",
      "Update to 2.7.16, pip 19.2.2\n",
      "57cb79924a005710a5b1d8fedde5e6a2624ba989 docker-library-bot Sun, 11 Aug 2019 21:49:11 GMT\n",
      "2.7/stretch/Dockerfile\n",
      "Update PIP to 19.2.1\n",
      "\n",
      "Also, use a fixed commit from https://github.com/pypa/get-pip and add a sha256 checksum for verification.\n",
      "d2fcc8406cebea404211e808f74fc1090122b4e8 Tianon Gravi Tue, 23 Jul 2019 22:24:26 GMT\n",
      "2.7/stretch/Dockerfile\n",
      "Update to 2.7.16, pip 19.1.1\n",
      "00dfb8462f6b3fca152d46b20c0d3b70e8c7ff5b docker-library-bot Mon, 06 May 2019 15:49:33 GMT\n",
      "2.7/stretch/Dockerfile\n",
      "Update to 2.7.16, pip 19.1\n",
      "10c3bd9dba7bd6c14ca85924caa9a27a61ed3c9e docker-library-bot Wed, 24 Apr 2019 03:25:18 GMT\n",
      "2.7/stretch/Dockerfile\n",
      "Update to 2.7.16, pip 19.0.3\n",
      "636e02777ea417851942e6e826fe5a6b4dee6f74 docker-library-bot Sat, 02 Mar 2019 22:49:33 GMT\n",
      "2.7/stretch/Dockerfile\n",
      "Update to 2.7.15, pip 19.0.3\n",
      "f444edd8a36e828ddf9d72aa3d3282725db0e48b docker-library-bot Wed, 20 Feb 2019 22:50:05 GMT\n",
      "2.7/stretch/Dockerfile\n",
      "Update to 2.7.15, pip 19.0.2\n",
      "275aea55602ac3aa7beb9e346d713c0732e11195 docker-library-bot Sat, 09 Feb 2019 10:49:13 GMT\n",
      "2.7/stretch/Dockerfile\n",
      "Update to 2.7.15, pip 19.0.1\n",
      "24860503e8c7d1fba51e352bfdd25474d56a7ab7 docker-library-bot Wed, 23 Jan 2019 16:54:32 GMT\n",
      "2.7/stretch/Dockerfile\n",
      "Update \"gpg\" invocations to use \"--batch\"\n",
      "\n",
      "See https://bugs.debian.org/913614\n",
      "39c500cc8aefcb67a76d518d789441ef85fc771f Tianon Gravi Wed, 14 Nov 2018 20:45:20 GMT\n",
      "2.7/stretch/Dockerfile\n",
      "Update to 2.7.15, pip 18.1\n",
      "ac49e0bb09aafe4100fe5662636c24fce7206008 docker-library-bot Mon, 08 Oct 2018 21:49:14 GMT\n",
      "2.7/stretch/Dockerfile\n",
      "Merge pull request #315 from infosiftr/caveman-templates\n",
      "\n",
      "Add templates for Python 2.7\n",
      "1565b7e3d9f9084dc141e8e75fd02bf49fe7f79a docker-library-bot Mon, 23 Jul 2018 19:19:18 GMT\n",
      "2.7/stretch/Dockerfile\n",
      "Update to 2.7.15, pip 18.0\n",
      "9e6699ae4b9b034f0c1cdbe45833f6bb9b04c3af docker-library-bot Sun, 22 Jul 2018 09:49:11 GMT\n",
      "2.7/stretch/Dockerfile\n",
      "Add templates for Python 2.7\n",
      "\n",
      "(This allows us to generate ~10 files from 4, which is a pretty decent ratio IMO -- it also helped me catch a few bits I missed previously.)\n",
      "6ec65c2f83b5d627c7f6d351f0d8bea70048686f Tianon Gravi Fri, 20 Jul 2018 20:45:28 GMT\n",
      "2.7/stretch/Dockerfile\n",
      "Refactor dependencies handling to keep necessary runtime dependencies automatically, accounting for \"tkinter\" and \"libssl\" edge cases appropriately\n",
      "a70575c01b81fe9c8d920e13a03f55bdc0622328 Tianon Gravi Fri, 13 Jul 2018 19:28:40 GMT\n",
      "2.7/stretch/Dockerfile\n",
      "Fix accidental dpkg-dev purging on non-slim variants\n",
      "eaeaf30e86e45d63e314514ef0a68d7d5542cdd2 Tianon Gravi Fri, 13 Jul 2018 00:18:13 GMT\n",
      "2.7/stretch/Dockerfile\n",
      "Update to 2.7.15, pip 10.0.1\n",
      "4d640edc8df64b9cf050904f60ac03765e05d3f6 docker-library-bot Mon, 30 Apr 2018 03:49:11 GMT\n",
      "2.7/stretch/Dockerfile\n",
      "Set PYTHONIOENCODING for Python 2\n",
      "2c06746f8a82729f9265c1e17c29b1e937af7441 Tianon Gravi Wed, 25 Apr 2018 20:03:02 GMT\n",
      "2.7/stretch/Dockerfile\n",
      "Update to 2.7.14, pip 10.0.1\n",
      "016aedf8527f78e0e220d9677b7b26ad9f59b274 docker-library-bot Thu, 19 Apr 2018 21:49:15 GMT\n",
      "2.7/stretch/Dockerfile\n",
      "Update to 2.7.14, pip 10.0.0\n",
      "04c9c2858a82f0558b4dc2e3788e65103b71af3b docker-library-bot Mon, 16 Apr 2018 21:25:15 GMT\n",
      "2.7/stretch/Dockerfile\n",
      "Update to 2.7.14, pip 9.0.3\n",
      "fb58b39c5ac1cfd5c901fde02b0bf08f8a6b4990 docker-library-bot Thu, 22 Mar 2018 03:49:11 GMT\n",
      "2.7/stretch/Dockerfile\n",
      "Update to 2.7.14, pip 9.0.2\n",
      "dcd0ca173eda4aaac09cf26791fe2ad41db45406 docker-library-bot Sun, 18 Mar 2018 03:49:10 GMT\n",
      "2.7/stretch/Dockerfile\n",
      "Update to 2.7.14, pip 9.0.1\n",
      "b1512ead24c6b111506a8d4229134a29da240597 docker-library-bot Sun, 17 Sep 2017 03:49:08 GMT\n",
      "2.7/stretch/Dockerfile\n",
      "Apply a few minor update.sh consistency tweaks and use it to update 3.6/stretch to 3.6.2\n",
      "c9954b06c8b178d7888bc1626bed5a14e43a9203 Tianon Gravi Mon, 17 Jul 2017 22:39:27 GMT\n",
      "2.7/stretch/Dockerfile\n",
      "Add Debian Stretch variants (#208)\n",
      "\n",
      "* Try add a Debian Stretch variant\n",
      "\n",
      "* Update Travis too\n",
      "\n",
      "* update.sh: Also update Travis file\n",
      "d8cda13511fcfac951ccb5a0d39a7da7568c2004 Jamie Hewland Mon, 17 Jul 2017 22:33:01 GMT\n",
      "2.7/stretch/Dockerfile\n",
      "\n",
      "\n",
      "2.7/stretch/slim/Dockerfile\n",
      "No of commits 28\n",
      "No of files 5\n",
      "Update to 2.7.16, pip 19.2.3\n",
      "aba58b3895e9f50a1323623c18ebe7c969245abc docker-library-bot Sun, 25 Aug 2019 09:49:20 GMT\n",
      "2.7/stretch/slim/Dockerfile\n",
      "Update to 2.7.16, pip 19.2.2\n"
     ]
    },
    {
     "name": "stdout",
     "output_type": "stream",
     "text": [
      "57cb79924a005710a5b1d8fedde5e6a2624ba989 docker-library-bot Sun, 11 Aug 2019 21:49:11 GMT\n",
      "2.7/stretch/slim/Dockerfile\n",
      "Update PIP to 19.2.1\n",
      "\n",
      "Also, use a fixed commit from https://github.com/pypa/get-pip and add a sha256 checksum for verification.\n",
      "d2fcc8406cebea404211e808f74fc1090122b4e8 Tianon Gravi Tue, 23 Jul 2019 22:24:26 GMT\n",
      "2.7/stretch/slim/Dockerfile\n",
      "Update to 2.7.16, pip 19.1.1\n",
      "00dfb8462f6b3fca152d46b20c0d3b70e8c7ff5b docker-library-bot Mon, 06 May 2019 15:49:33 GMT\n",
      "2.7/stretch/slim/Dockerfile\n",
      "Update to 2.7.16, pip 19.1\n",
      "10c3bd9dba7bd6c14ca85924caa9a27a61ed3c9e docker-library-bot Wed, 24 Apr 2019 03:25:18 GMT\n",
      "2.7/stretch/slim/Dockerfile\n",
      "Update to 2.7.16, pip 19.0.3\n",
      "636e02777ea417851942e6e826fe5a6b4dee6f74 docker-library-bot Sat, 02 Mar 2019 22:49:33 GMT\n",
      "2.7/stretch/slim/Dockerfile\n",
      "Update to 2.7.15, pip 19.0.3\n",
      "f444edd8a36e828ddf9d72aa3d3282725db0e48b docker-library-bot Wed, 20 Feb 2019 22:50:05 GMT\n",
      "2.7/stretch/slim/Dockerfile\n",
      "Update to 2.7.15, pip 19.0.2\n",
      "275aea55602ac3aa7beb9e346d713c0732e11195 docker-library-bot Sat, 09 Feb 2019 10:49:13 GMT\n",
      "2.7/stretch/slim/Dockerfile\n",
      "Update to 2.7.15, pip 19.0.1\n",
      "24860503e8c7d1fba51e352bfdd25474d56a7ab7 docker-library-bot Wed, 23 Jan 2019 16:54:32 GMT\n",
      "2.7/stretch/slim/Dockerfile\n",
      "Update \"gpg\" invocations to use \"--batch\"\n",
      "\n",
      "See https://bugs.debian.org/913614\n",
      "39c500cc8aefcb67a76d518d789441ef85fc771f Tianon Gravi Wed, 14 Nov 2018 20:45:20 GMT\n",
      "2.7/stretch/slim/Dockerfile\n",
      "Update to 2.7.15, pip 18.1\n",
      "ac49e0bb09aafe4100fe5662636c24fce7206008 docker-library-bot Mon, 08 Oct 2018 21:49:14 GMT\n",
      "2.7/stretch/slim/Dockerfile\n",
      "Move APT lists purging to ensure all packages get purged properly\n",
      "8350b865d28bc0f4a05111398392ec701d449058 Tianon Gravi Tue, 31 Jul 2018 16:19:30 GMT\n",
      "2.7/stretch/slim/Dockerfile\n",
      "Merge pull request #315 from infosiftr/caveman-templates\n",
      "\n",
      "Add templates for Python 2.7\n",
      "1565b7e3d9f9084dc141e8e75fd02bf49fe7f79a docker-library-bot Mon, 23 Jul 2018 19:19:18 GMT\n",
      "2.7/stretch/slim/Dockerfile\n",
      "Update to 2.7.15, pip 18.0\n",
      "9e6699ae4b9b034f0c1cdbe45833f6bb9b04c3af docker-library-bot Sun, 22 Jul 2018 09:49:11 GMT\n",
      "2.7/stretch/slim/Dockerfile\n",
      "Add templates for Python 2.7\n",
      "\n",
      "(This allows us to generate ~10 files from 4, which is a pretty decent ratio IMO -- it also helped me catch a few bits I missed previously.)\n",
      "6ec65c2f83b5d627c7f6d351f0d8bea70048686f Tianon Gravi Fri, 20 Jul 2018 20:45:28 GMT\n",
      "2.7/stretch/slim/Dockerfile\n",
      "Refactor dependencies handling to keep necessary runtime dependencies automatically, accounting for \"tkinter\" and \"libssl\" edge cases appropriately\n",
      "a70575c01b81fe9c8d920e13a03f55bdc0622328 Tianon Gravi Fri, 13 Jul 2018 19:28:40 GMT\n",
      "2.7/stretch/slim/Dockerfile\n",
      "Fix accidental dpkg-dev purging on non-slim variants\n",
      "eaeaf30e86e45d63e314514ef0a68d7d5542cdd2 Tianon Gravi Fri, 13 Jul 2018 00:18:13 GMT\n",
      "2.7/stretch/slim/Dockerfile\n",
      "Add netbase so that `/etc/{protocols,rpc,services}` exists\n",
      "b8c94a31a98a535477200482a32c95192f85af5b docker-library-bot Thu, 03 May 2018 19:23:56 GMT\n",
      "2.7/stretch/slim/Dockerfile\n",
      "Update to 2.7.15, pip 10.0.1\n",
      "4d640edc8df64b9cf050904f60ac03765e05d3f6 docker-library-bot Mon, 30 Apr 2018 03:49:11 GMT\n",
      "2.7/stretch/slim/Dockerfile\n",
      "Set PYTHONIOENCODING for Python 2\n",
      "2c06746f8a82729f9265c1e17c29b1e937af7441 Tianon Gravi Wed, 25 Apr 2018 20:03:02 GMT\n",
      "2.7/stretch/slim/Dockerfile\n",
      "Update to 2.7.14, pip 10.0.1\n",
      "016aedf8527f78e0e220d9677b7b26ad9f59b274 docker-library-bot Thu, 19 Apr 2018 21:49:15 GMT\n",
      "2.7/stretch/slim/Dockerfile\n",
      "Update to 2.7.14, pip 10.0.0\n",
      "04c9c2858a82f0558b4dc2e3788e65103b71af3b docker-library-bot Mon, 16 Apr 2018 21:25:15 GMT\n",
      "2.7/stretch/slim/Dockerfile\n",
      "Update to 2.7.14, pip 9.0.3\n",
      "fb58b39c5ac1cfd5c901fde02b0bf08f8a6b4990 docker-library-bot Thu, 22 Mar 2018 03:49:11 GMT\n",
      "2.7/stretch/slim/Dockerfile\n",
      "Update to 2.7.14, pip 9.0.2\n",
      "dcd0ca173eda4aaac09cf26791fe2ad41db45406 docker-library-bot Sun, 18 Mar 2018 03:49:10 GMT\n",
      "2.7/stretch/slim/Dockerfile\n",
      "Add explicit libreadline dependency now that we don't accidentally keep \"gnupg\" (which was pulling it in transitively)\n",
      "a4ce69de053337ec22d7f322cd997398eeba2350 Tianon Gravi Thu, 02 Nov 2017 03:20:43 GMT\n",
      "2.7/stretch/slim/Dockerfile\n",
      "Swap from \"gnupg2\" to \"gnupg\"\n",
      "\n",
      "See https://github.com/docker-library/python/issues/236 for details.\n",
      "7558f8a0fbd526a6ccf10278a2966987f1ef3bb7 Tianon Gravi Wed, 01 Nov 2017 20:54:01 GMT\n",
      "2.7/stretch/slim/Dockerfile\n",
      "slim: Build against libncursesw5-dev\n",
      "5ad82ca56a6ba42c56665c7e25f15d1ba1aa1c90 Jamie Hewland Tue, 31 Oct 2017 08:16:47 GMT\n",
      "2.7/stretch/slim/Dockerfile\n",
      "Add explicit distro to slim variants and slim-stretch variants\n",
      "7891fcc63609dfd43ae2e8de13a40e838b5e7608 Tianon Gravi Sat, 21 Oct 2017 00:08:04 GMT\n",
      "2.7/stretch/slim/Dockerfile\n",
      "\n",
      "\n",
      "2.7/windows/windowsservercore-1803/Dockerfile\n",
      "No of commits 8\n",
      "No of files 14\n",
      "Update to 2.7.16, pip 19.2.3\n",
      "aba58b3895e9f50a1323623c18ebe7c969245abc docker-library-bot Sun, 25 Aug 2019 09:49:20 GMT\n",
      "2.7/windows/windowsservercore-1803/Dockerfile\n",
      "Update to 2.7.16, pip 19.2.2\n",
      "57cb79924a005710a5b1d8fedde5e6a2624ba989 docker-library-bot Sun, 11 Aug 2019 21:49:11 GMT\n",
      "2.7/windows/windowsservercore-1803/Dockerfile\n",
      "Update PIP to 19.2.1\n",
      "\n",
      "Also, use a fixed commit from https://github.com/pypa/get-pip and add a sha256 checksum for verification.\n",
      "d2fcc8406cebea404211e808f74fc1090122b4e8 Tianon Gravi Tue, 23 Jul 2019 22:24:26 GMT\n",
      "2.7/windows/windowsservercore-1803/Dockerfile\n",
      "Update to 2.7.16, pip 19.1.1\n",
      "00dfb8462f6b3fca152d46b20c0d3b70e8c7ff5b docker-library-bot Mon, 06 May 2019 15:49:33 GMT\n",
      "2.7/windows/windowsservercore-1803/Dockerfile\n",
      "Update to 2.7.16, pip 19.1\n",
      "10c3bd9dba7bd6c14ca85924caa9a27a61ed3c9e docker-library-bot Wed, 24 Apr 2019 03:25:18 GMT\n",
      "2.7/windows/windowsservercore-1803/Dockerfile\n",
      "Update to 2.7.16, pip 19.0.3\n",
      "636e02777ea417851942e6e826fe5a6b4dee6f74 docker-library-bot Sat, 02 Mar 2019 22:49:33 GMT\n",
      "2.7/windows/windowsservercore-1803/Dockerfile\n",
      "Update to 2.7.15, pip 19.0.3\n",
      "f444edd8a36e828ddf9d72aa3d3282725db0e48b docker-library-bot Wed, 20 Feb 2019 22:50:05 GMT\n",
      "2.7/windows/windowsservercore-1803/Dockerfile\n",
      "Add support for Windows Server 1803, 1809\n",
      "28511e31de4c395af981084a1033e9aff79190de Sunghwan Bang Mon, 11 Feb 2019 10:38:28 GMT\n",
      "2.7/windows/windowsservercore-1803/Dockerfile\n",
      "\n",
      "\n",
      "2.7/windows/windowsservercore-1809/Dockerfile\n",
      "No of commits 8\n",
      "No of files 14\n",
      "Update to 2.7.16, pip 19.2.3\n",
      "aba58b3895e9f50a1323623c18ebe7c969245abc docker-library-bot Sun, 25 Aug 2019 09:49:20 GMT\n",
      "2.7/windows/windowsservercore-1809/Dockerfile\n",
      "Update to 2.7.16, pip 19.2.2\n",
      "57cb79924a005710a5b1d8fedde5e6a2624ba989 docker-library-bot Sun, 11 Aug 2019 21:49:11 GMT\n",
      "2.7/windows/windowsservercore-1809/Dockerfile\n",
      "Update PIP to 19.2.1\n",
      "\n",
      "Also, use a fixed commit from https://github.com/pypa/get-pip and add a sha256 checksum for verification.\n",
      "d2fcc8406cebea404211e808f74fc1090122b4e8 Tianon Gravi Tue, 23 Jul 2019 22:24:26 GMT\n",
      "2.7/windows/windowsservercore-1809/Dockerfile\n",
      "Update to 2.7.16, pip 19.1.1\n",
      "00dfb8462f6b3fca152d46b20c0d3b70e8c7ff5b docker-library-bot Mon, 06 May 2019 15:49:33 GMT\n",
      "2.7/windows/windowsservercore-1809/Dockerfile\n",
      "Update to 2.7.16, pip 19.1\n",
      "10c3bd9dba7bd6c14ca85924caa9a27a61ed3c9e docker-library-bot Wed, 24 Apr 2019 03:25:18 GMT\n",
      "2.7/windows/windowsservercore-1809/Dockerfile\n",
      "Update to 2.7.16, pip 19.0.3\n",
      "636e02777ea417851942e6e826fe5a6b4dee6f74 docker-library-bot Sat, 02 Mar 2019 22:49:33 GMT\n",
      "2.7/windows/windowsservercore-1809/Dockerfile\n",
      "Update to 2.7.15, pip 19.0.3\n",
      "f444edd8a36e828ddf9d72aa3d3282725db0e48b docker-library-bot Wed, 20 Feb 2019 22:50:05 GMT\n",
      "2.7/windows/windowsservercore-1809/Dockerfile\n",
      "Add support for Windows Server 1803, 1809\n",
      "28511e31de4c395af981084a1033e9aff79190de Sunghwan Bang Mon, 11 Feb 2019 10:38:28 GMT\n",
      "2.7/windows/windowsservercore-1809/Dockerfile\n",
      "\n",
      "\n",
      "2.7/windows/windowsservercore-ltsc2016/Dockerfile\n",
      "No of commits 21\n",
      "No of files 12\n",
      "Update to 2.7.16, pip 19.2.3\n",
      "aba58b3895e9f50a1323623c18ebe7c969245abc docker-library-bot Sun, 25 Aug 2019 09:49:20 GMT\n",
      "2.7/windows/windowsservercore-ltsc2016/Dockerfile\n",
      "Update to 2.7.16, pip 19.2.2\n",
      "57cb79924a005710a5b1d8fedde5e6a2624ba989 docker-library-bot Sun, 11 Aug 2019 21:49:11 GMT\n",
      "2.7/windows/windowsservercore-ltsc2016/Dockerfile\n",
      "Update PIP to 19.2.1\n",
      "\n",
      "Also, use a fixed commit from https://github.com/pypa/get-pip and add a sha256 checksum for verification.\n",
      "d2fcc8406cebea404211e808f74fc1090122b4e8 Tianon Gravi Tue, 23 Jul 2019 22:24:26 GMT\n",
      "2.7/windows/windowsservercore-ltsc2016/Dockerfile\n"
     ]
    },
    {
     "name": "stdout",
     "output_type": "stream",
     "text": [
      "Update to 2.7.16, pip 19.1.1\n",
      "00dfb8462f6b3fca152d46b20c0d3b70e8c7ff5b docker-library-bot Mon, 06 May 2019 15:49:33 GMT\n",
      "2.7/windows/windowsservercore-ltsc2016/Dockerfile\n",
      "Update to 2.7.16, pip 19.1\n",
      "10c3bd9dba7bd6c14ca85924caa9a27a61ed3c9e docker-library-bot Wed, 24 Apr 2019 03:25:18 GMT\n",
      "2.7/windows/windowsservercore-ltsc2016/Dockerfile\n",
      "Update to 2.7.16, pip 19.0.3\n",
      "636e02777ea417851942e6e826fe5a6b4dee6f74 docker-library-bot Sat, 02 Mar 2019 22:49:33 GMT\n",
      "2.7/windows/windowsservercore-ltsc2016/Dockerfile\n",
      "Update to 2.7.15, pip 19.0.3\n",
      "f444edd8a36e828ddf9d72aa3d3282725db0e48b docker-library-bot Wed, 20 Feb 2019 22:50:05 GMT\n",
      "2.7/windows/windowsservercore-ltsc2016/Dockerfile\n",
      "Add support for Windows Server 1803, 1809\n",
      "28511e31de4c395af981084a1033e9aff79190de Sunghwan Bang Mon, 11 Feb 2019 10:38:28 GMT\n",
      "2.7/windows/windowsservercore-ltsc2016/Dockerfile\n",
      "Update to 2.7.15, pip 19.0.2\n",
      "275aea55602ac3aa7beb9e346d713c0732e11195 docker-library-bot Sat, 09 Feb 2019 10:49:13 GMT\n",
      "2.7/windows/windowsservercore-ltsc2016/Dockerfile\n",
      "Update to 2.7.15, pip 19.0.1\n",
      "24860503e8c7d1fba51e352bfdd25474d56a7ab7 docker-library-bot Wed, 23 Jan 2019 16:54:32 GMT\n",
      "2.7/windows/windowsservercore-ltsc2016/Dockerfile\n",
      "Update to 2.7.15, pip 18.1\n",
      "ac49e0bb09aafe4100fe5662636c24fce7206008 docker-library-bot Mon, 08 Oct 2018 21:49:14 GMT\n",
      "2.7/windows/windowsservercore-ltsc2016/Dockerfile\n",
      "Merge pull request #315 from infosiftr/caveman-templates\n",
      "\n",
      "Add templates for Python 2.7\n",
      "1565b7e3d9f9084dc141e8e75fd02bf49fe7f79a docker-library-bot Mon, 23 Jul 2018 19:19:18 GMT\n",
      "2.7/windows/windowsservercore-ltsc2016/Dockerfile\n",
      "Update to 2.7.15, pip 18.0\n",
      "9e6699ae4b9b034f0c1cdbe45833f6bb9b04c3af docker-library-bot Sun, 22 Jul 2018 09:49:11 GMT\n",
      "2.7/windows/windowsservercore-ltsc2016/Dockerfile\n",
      "Add templates for Python 2.7\n",
      "\n",
      "(This allows us to generate ~10 files from 4, which is a pretty decent ratio IMO -- it also helped me catch a few bits I missed previously.)\n",
      "6ec65c2f83b5d627c7f6d351f0d8bea70048686f Tianon Gravi Fri, 20 Jul 2018 20:45:28 GMT\n",
      "2.7/windows/windowsservercore-ltsc2016/Dockerfile\n",
      "Update to 2.7.15, pip 10.0.1\n",
      "4d640edc8df64b9cf050904f60ac03765e05d3f6 docker-library-bot Mon, 30 Apr 2018 03:49:11 GMT\n",
      "2.7/windows/windowsservercore-ltsc2016/Dockerfile\n",
      "Python.org also now needs tls 1.2\n",
      "8b2f374fa1ea46deb744c183af71f94f72194a74 docker-library-bot Wed, 25 Apr 2018 21:01:22 GMT\n",
      "2.7/windows/windowsservercore-ltsc2016/Dockerfile\n",
      "Update to 2.7.14, pip 10.0.1\n",
      "016aedf8527f78e0e220d9677b7b26ad9f59b274 docker-library-bot Thu, 19 Apr 2018 21:49:15 GMT\n",
      "2.7/windows/windowsservercore-ltsc2016/Dockerfile\n",
      "Update to 2.7.14, pip 10.0.0\n",
      "04c9c2858a82f0558b4dc2e3788e65103b71af3b docker-library-bot Mon, 16 Apr 2018 21:25:15 GMT\n",
      "2.7/windows/windowsservercore-ltsc2016/Dockerfile\n",
      "Update to 2.7.14, pip 9.0.3\n",
      "fb58b39c5ac1cfd5c901fde02b0bf08f8a6b4990 docker-library-bot Thu, 22 Mar 2018 03:49:11 GMT\n",
      "2.7/windows/windowsservercore-ltsc2016/Dockerfile\n",
      "Update to 2.7.14, pip 9.0.2\n",
      "dcd0ca173eda4aaac09cf26791fe2ad41db45406 docker-library-bot Sun, 18 Mar 2018 03:49:10 GMT\n",
      "2.7/windows/windowsservercore-ltsc2016/Dockerfile\n",
      "Add explicit support for Windows Server 1709\n",
      "ce648832b041293fa3542af884ac5a44a67354d3 Tianon Gravi Wed, 22 Nov 2017 23:01:35 GMT\n",
      "2.7/windows/windowsservercore-ltsc2016/Dockerfile\n",
      "\n",
      "\n"
     ]
    }
   ],
   "source": [
    "for df in dockerfiles[:9]:\n",
    "    print(df.path)\n",
    "    commits = repo.get_commits(path=df.path)\n",
    "    print(\"No of commits\", len(list(commits)))\n",
    "    print(\"No of files\",  len(list(commits)[-1].files))\n",
    "    \n",
    "    for commit in commits:\n",
    "        for file in commit.files:\n",
    "            if file.filename == df.path:\n",
    "                print(commit.raw_data['commit']['message'] )\n",
    "                print(commit.sha, commit.author.name if commit.author.name else \"docker-library-bot\", \n",
    "                      commit.last_modified, )\n",
    "                print(file.filename)\n",
    "    print(\"\\n\")"
   ]
  },
  {
   "cell_type": "code",
   "execution_count": 35,
   "metadata": {},
   "outputs": [],
   "source": [
    "def fetch_commits_for_dockerfile(dockerfile, repo):\n",
    "    \"\"\"\n",
    "    Helper method to fetch commits info for a particular dockerfile\n",
    "    \"\"\"\n",
    "    dockerfile_commits = []\n",
    "    dockerfile_commit = {}\n",
    "    commits = repo.get_commits(path=dockerfile.path)\n",
    "    for commit in commits:\n",
    "        for file in commit.files:\n",
    "            if file.filename == dockerfile.path:\n",
    "                dockerfile_commit['commit_sha'] = commit.sha\n",
    "                dockerfile_commit['author'] = commit.author.name if commit.author.name else \"docker-library-bot\"\n",
    "                dockerfile_commit['last_modified'] = commit.last_modified\n",
    "                dockerfile_commit['patch'] = file.patch\n",
    "        dockerfile_commits.append(dockerfile_commit)\n",
    "    return dockerfile_commits"
   ]
  },
  {
   "cell_type": "code",
   "execution_count": 37,
   "metadata": {},
   "outputs": [],
   "source": [
    "df0_commits = fetch_commits_for_dockerfile(dockerfiles[0], repo)"
   ]
  },
  {
   "cell_type": "code",
   "execution_count": 39,
   "metadata": {},
   "outputs": [
    {
     "data": {
      "text/plain": [
       "4"
      ]
     },
     "execution_count": 39,
     "metadata": {},
     "output_type": "execute_result"
    }
   ],
   "source": [
    "len(df0_commits)"
   ]
  },
  {
   "cell_type": "code",
   "execution_count": 40,
   "metadata": {},
   "outputs": [
    {
     "data": {
      "text/plain": [
       "[{'commit_sha': 'e057559fad64ed81b3da9fad6612a2de8b0ae544',\n",
       "  'author': 'docker-library-bot',\n",
       "  'last_modified': 'Thu, 20 Jun 2019 13:44:40 GMT',\n",
       "  'patch': '@@ -0,0 +1,121 @@\\n+#\\n+# NOTE: THIS DOCKERFILE IS GENERATED VIA \"update.sh\"\\n+#\\n+# PLEASE DO NOT EDIT IT DIRECTLY.\\n+#\\n+\\n+FROM alpine:3.10\\n+\\n+# ensure local python is preferred over distribution python\\n+ENV PATH /usr/local/bin:$PATH\\n+\\n+# http://bugs.python.org/issue19846\\n+# > At the moment, setting \"LANG=C\" on a Linux system *fundamentally breaks Python 3*, and that\\'s not OK.\\n+ENV LANG C.UTF-8\\n+# https://github.com/docker-library/python/issues/147\\n+ENV PYTHONIOENCODING UTF-8\\n+\\n+# install ca-certificates so that HTTPS works consistently\\n+# other runtime dependencies for Python are installed later\\n+RUN apk add --no-cache ca-certificates\\n+\\n+ENV GPG_KEY C01E1CAD5EA2C4F0B8E3571504C367C218ADD4FF\\n+ENV PYTHON_VERSION 2.7.16\\n+\\n+RUN set -ex \\\\\\n+\\t&& apk add --no-cache --virtual .fetch-deps \\\\\\n+\\t\\tgnupg \\\\\\n+\\t\\ttar \\\\\\n+\\t\\txz \\\\\\n+\\t\\\\\\n+\\t&& wget -O python.tar.xz \"https://www.python.org/ftp/python/${PYTHON_VERSION%%[a-z]*}/Python-$PYTHON_VERSION.tar.xz\" \\\\\\n+\\t&& wget -O python.tar.xz.asc \"https://www.python.org/ftp/python/${PYTHON_VERSION%%[a-z]*}/Python-$PYTHON_VERSION.tar.xz.asc\" \\\\\\n+\\t&& export GNUPGHOME=\"$(mktemp -d)\" \\\\\\n+\\t&& gpg --batch --keyserver ha.pool.sks-keyservers.net --recv-keys \"$GPG_KEY\" \\\\\\n+\\t&& gpg --batch --verify python.tar.xz.asc python.tar.xz \\\\\\n+\\t&& { command -v gpgconf > /dev/null && gpgconf --kill all || :; } \\\\\\n+\\t&& rm -rf \"$GNUPGHOME\" python.tar.xz.asc \\\\\\n+\\t&& mkdir -p /usr/src/python \\\\\\n+\\t&& tar -xJC /usr/src/python --strip-components=1 -f python.tar.xz \\\\\\n+\\t&& rm python.tar.xz \\\\\\n+\\t\\\\\\n+\\t&& apk add --no-cache --virtual .build-deps  \\\\\\n+\\t\\tbzip2-dev \\\\\\n+\\t\\tcoreutils \\\\\\n+\\t\\tdpkg-dev dpkg \\\\\\n+\\t\\texpat-dev \\\\\\n+\\t\\tfindutils \\\\\\n+\\t\\tgcc \\\\\\n+\\t\\tgdbm-dev \\\\\\n+\\t\\tlibc-dev \\\\\\n+\\t\\tlibffi-dev \\\\\\n+\\t\\tlibnsl-dev \\\\\\n+\\t\\tlibtirpc-dev \\\\\\n+\\t\\tlinux-headers \\\\\\n+\\t\\tmake \\\\\\n+\\t\\tncurses-dev \\\\\\n+\\t\\topenssl-dev \\\\\\n+\\t\\tpax-utils \\\\\\n+\\t\\treadline-dev \\\\\\n+\\t\\tsqlite-dev \\\\\\n+\\t\\ttcl-dev \\\\\\n+\\t\\ttk \\\\\\n+\\t\\ttk-dev \\\\\\n+\\t\\tzlib-dev \\\\\\n+# add build deps before removing fetch deps in case there\\'s overlap\\n+\\t&& apk del .fetch-deps \\\\\\n+\\t\\\\\\n+\\t&& cd /usr/src/python \\\\\\n+\\t&& gnuArch=\"$(dpkg-architecture --query DEB_BUILD_GNU_TYPE)\" \\\\\\n+\\t&& ./configure \\\\\\n+\\t\\t--build=\"$gnuArch\" \\\\\\n+\\t\\t--enable-shared \\\\\\n+\\t\\t--enable-unicode=ucs4 \\\\\\n+\\t\\t--with-system-expat \\\\\\n+\\t\\t--with-system-ffi \\\\\\n+\\t&& make -j \"$(nproc)\" \\\\\\n+# set thread stack size to 1MB so we don\\'t segfault before we hit sys.getrecursionlimit()\\n+# https://github.com/alpinelinux/aports/commit/2026e1259422d4e0cf92391ca2d3844356c649d0\\n+\\t\\tEXTRA_CFLAGS=\"-DTHREAD_STACK_SIZE=0x100000\" \\\\\\n+\\t&& make install \\\\\\n+\\t\\\\\\n+\\t&& find /usr/local -type f -executable -not \\\\( -name \\'*tkinter*\\' \\\\) -exec scanelf --needed --nobanner --format \\'%n#p\\' \\'{}\\' \\';\\' \\\\\\n+\\t\\t| tr \\',\\' \\'\\\\n\\' \\\\\\n+\\t\\t| sort -u \\\\\\n+\\t\\t| awk \\'system(\"[ -e /usr/local/lib/\" $1 \" ]\") == 0 { next } { print \"so:\" $1 }\\' \\\\\\n+\\t\\t| xargs -rt apk add --no-cache --virtual .python-rundeps \\\\\\n+\\t&& apk del .build-deps \\\\\\n+\\t\\\\\\n+\\t&& find /usr/local -depth \\\\\\n+\\t\\t\\\\( \\\\\\n+\\t\\t\\t\\\\( -type d -a \\\\( -name test -o -name tests \\\\) \\\\) \\\\\\n+\\t\\t\\t-o \\\\\\n+\\t\\t\\t\\\\( -type f -a \\\\( -name \\'*.pyc\\' -o -name \\'*.pyo\\' \\\\) \\\\) \\\\\\n+\\t\\t\\\\) -exec rm -rf \\'{}\\' + \\\\\\n+\\t&& rm -rf /usr/src/python \\\\\\n+\\t\\\\\\n+\\t&& python2 --version\\n+\\n+# if this is called \"PIP_VERSION\", pip explodes with \"ValueError: invalid truth value \\'<VERSION>\\'\"\\n+ENV PYTHON_PIP_VERSION 19.1.1\\n+\\n+RUN set -ex; \\\\\\n+\\t\\\\\\n+\\twget -O get-pip.py \\'https://bootstrap.pypa.io/get-pip.py\\'; \\\\\\n+\\t\\\\\\n+\\tpython get-pip.py \\\\\\n+\\t\\t--disable-pip-version-check \\\\\\n+\\t\\t--no-cache-dir \\\\\\n+\\t\\t\"pip==$PYTHON_PIP_VERSION\" \\\\\\n+\\t; \\\\\\n+\\tpip --version; \\\\\\n+\\t\\\\\\n+\\tfind /usr/local -depth \\\\\\n+\\t\\t\\\\( \\\\\\n+\\t\\t\\t\\\\( -type d -a \\\\( -name test -o -name tests \\\\) \\\\) \\\\\\n+\\t\\t\\t-o \\\\\\n+\\t\\t\\t\\\\( -type f -a \\\\( -name \\'*.pyc\\' -o -name \\'*.pyo\\' \\\\) \\\\) \\\\\\n+\\t\\t\\\\) -exec rm -rf \\'{}\\' +; \\\\\\n+\\trm -f get-pip.py\\n+\\n+CMD [\"python2\"]'},\n",
       " {'commit_sha': 'e057559fad64ed81b3da9fad6612a2de8b0ae544',\n",
       "  'author': 'docker-library-bot',\n",
       "  'last_modified': 'Thu, 20 Jun 2019 13:44:40 GMT',\n",
       "  'patch': '@@ -0,0 +1,121 @@\\n+#\\n+# NOTE: THIS DOCKERFILE IS GENERATED VIA \"update.sh\"\\n+#\\n+# PLEASE DO NOT EDIT IT DIRECTLY.\\n+#\\n+\\n+FROM alpine:3.10\\n+\\n+# ensure local python is preferred over distribution python\\n+ENV PATH /usr/local/bin:$PATH\\n+\\n+# http://bugs.python.org/issue19846\\n+# > At the moment, setting \"LANG=C\" on a Linux system *fundamentally breaks Python 3*, and that\\'s not OK.\\n+ENV LANG C.UTF-8\\n+# https://github.com/docker-library/python/issues/147\\n+ENV PYTHONIOENCODING UTF-8\\n+\\n+# install ca-certificates so that HTTPS works consistently\\n+# other runtime dependencies for Python are installed later\\n+RUN apk add --no-cache ca-certificates\\n+\\n+ENV GPG_KEY C01E1CAD5EA2C4F0B8E3571504C367C218ADD4FF\\n+ENV PYTHON_VERSION 2.7.16\\n+\\n+RUN set -ex \\\\\\n+\\t&& apk add --no-cache --virtual .fetch-deps \\\\\\n+\\t\\tgnupg \\\\\\n+\\t\\ttar \\\\\\n+\\t\\txz \\\\\\n+\\t\\\\\\n+\\t&& wget -O python.tar.xz \"https://www.python.org/ftp/python/${PYTHON_VERSION%%[a-z]*}/Python-$PYTHON_VERSION.tar.xz\" \\\\\\n+\\t&& wget -O python.tar.xz.asc \"https://www.python.org/ftp/python/${PYTHON_VERSION%%[a-z]*}/Python-$PYTHON_VERSION.tar.xz.asc\" \\\\\\n+\\t&& export GNUPGHOME=\"$(mktemp -d)\" \\\\\\n+\\t&& gpg --batch --keyserver ha.pool.sks-keyservers.net --recv-keys \"$GPG_KEY\" \\\\\\n+\\t&& gpg --batch --verify python.tar.xz.asc python.tar.xz \\\\\\n+\\t&& { command -v gpgconf > /dev/null && gpgconf --kill all || :; } \\\\\\n+\\t&& rm -rf \"$GNUPGHOME\" python.tar.xz.asc \\\\\\n+\\t&& mkdir -p /usr/src/python \\\\\\n+\\t&& tar -xJC /usr/src/python --strip-components=1 -f python.tar.xz \\\\\\n+\\t&& rm python.tar.xz \\\\\\n+\\t\\\\\\n+\\t&& apk add --no-cache --virtual .build-deps  \\\\\\n+\\t\\tbzip2-dev \\\\\\n+\\t\\tcoreutils \\\\\\n+\\t\\tdpkg-dev dpkg \\\\\\n+\\t\\texpat-dev \\\\\\n+\\t\\tfindutils \\\\\\n+\\t\\tgcc \\\\\\n+\\t\\tgdbm-dev \\\\\\n+\\t\\tlibc-dev \\\\\\n+\\t\\tlibffi-dev \\\\\\n+\\t\\tlibnsl-dev \\\\\\n+\\t\\tlibtirpc-dev \\\\\\n+\\t\\tlinux-headers \\\\\\n+\\t\\tmake \\\\\\n+\\t\\tncurses-dev \\\\\\n+\\t\\topenssl-dev \\\\\\n+\\t\\tpax-utils \\\\\\n+\\t\\treadline-dev \\\\\\n+\\t\\tsqlite-dev \\\\\\n+\\t\\ttcl-dev \\\\\\n+\\t\\ttk \\\\\\n+\\t\\ttk-dev \\\\\\n+\\t\\tzlib-dev \\\\\\n+# add build deps before removing fetch deps in case there\\'s overlap\\n+\\t&& apk del .fetch-deps \\\\\\n+\\t\\\\\\n+\\t&& cd /usr/src/python \\\\\\n+\\t&& gnuArch=\"$(dpkg-architecture --query DEB_BUILD_GNU_TYPE)\" \\\\\\n+\\t&& ./configure \\\\\\n+\\t\\t--build=\"$gnuArch\" \\\\\\n+\\t\\t--enable-shared \\\\\\n+\\t\\t--enable-unicode=ucs4 \\\\\\n+\\t\\t--with-system-expat \\\\\\n+\\t\\t--with-system-ffi \\\\\\n+\\t&& make -j \"$(nproc)\" \\\\\\n+# set thread stack size to 1MB so we don\\'t segfault before we hit sys.getrecursionlimit()\\n+# https://github.com/alpinelinux/aports/commit/2026e1259422d4e0cf92391ca2d3844356c649d0\\n+\\t\\tEXTRA_CFLAGS=\"-DTHREAD_STACK_SIZE=0x100000\" \\\\\\n+\\t&& make install \\\\\\n+\\t\\\\\\n+\\t&& find /usr/local -type f -executable -not \\\\( -name \\'*tkinter*\\' \\\\) -exec scanelf --needed --nobanner --format \\'%n#p\\' \\'{}\\' \\';\\' \\\\\\n+\\t\\t| tr \\',\\' \\'\\\\n\\' \\\\\\n+\\t\\t| sort -u \\\\\\n+\\t\\t| awk \\'system(\"[ -e /usr/local/lib/\" $1 \" ]\") == 0 { next } { print \"so:\" $1 }\\' \\\\\\n+\\t\\t| xargs -rt apk add --no-cache --virtual .python-rundeps \\\\\\n+\\t&& apk del .build-deps \\\\\\n+\\t\\\\\\n+\\t&& find /usr/local -depth \\\\\\n+\\t\\t\\\\( \\\\\\n+\\t\\t\\t\\\\( -type d -a \\\\( -name test -o -name tests \\\\) \\\\) \\\\\\n+\\t\\t\\t-o \\\\\\n+\\t\\t\\t\\\\( -type f -a \\\\( -name \\'*.pyc\\' -o -name \\'*.pyo\\' \\\\) \\\\) \\\\\\n+\\t\\t\\\\) -exec rm -rf \\'{}\\' + \\\\\\n+\\t&& rm -rf /usr/src/python \\\\\\n+\\t\\\\\\n+\\t&& python2 --version\\n+\\n+# if this is called \"PIP_VERSION\", pip explodes with \"ValueError: invalid truth value \\'<VERSION>\\'\"\\n+ENV PYTHON_PIP_VERSION 19.1.1\\n+\\n+RUN set -ex; \\\\\\n+\\t\\\\\\n+\\twget -O get-pip.py \\'https://bootstrap.pypa.io/get-pip.py\\'; \\\\\\n+\\t\\\\\\n+\\tpython get-pip.py \\\\\\n+\\t\\t--disable-pip-version-check \\\\\\n+\\t\\t--no-cache-dir \\\\\\n+\\t\\t\"pip==$PYTHON_PIP_VERSION\" \\\\\\n+\\t; \\\\\\n+\\tpip --version; \\\\\\n+\\t\\\\\\n+\\tfind /usr/local -depth \\\\\\n+\\t\\t\\\\( \\\\\\n+\\t\\t\\t\\\\( -type d -a \\\\( -name test -o -name tests \\\\) \\\\) \\\\\\n+\\t\\t\\t-o \\\\\\n+\\t\\t\\t\\\\( -type f -a \\\\( -name \\'*.pyc\\' -o -name \\'*.pyo\\' \\\\) \\\\) \\\\\\n+\\t\\t\\\\) -exec rm -rf \\'{}\\' +; \\\\\\n+\\trm -f get-pip.py\\n+\\n+CMD [\"python2\"]'},\n",
       " {'commit_sha': 'e057559fad64ed81b3da9fad6612a2de8b0ae544',\n",
       "  'author': 'docker-library-bot',\n",
       "  'last_modified': 'Thu, 20 Jun 2019 13:44:40 GMT',\n",
       "  'patch': '@@ -0,0 +1,121 @@\\n+#\\n+# NOTE: THIS DOCKERFILE IS GENERATED VIA \"update.sh\"\\n+#\\n+# PLEASE DO NOT EDIT IT DIRECTLY.\\n+#\\n+\\n+FROM alpine:3.10\\n+\\n+# ensure local python is preferred over distribution python\\n+ENV PATH /usr/local/bin:$PATH\\n+\\n+# http://bugs.python.org/issue19846\\n+# > At the moment, setting \"LANG=C\" on a Linux system *fundamentally breaks Python 3*, and that\\'s not OK.\\n+ENV LANG C.UTF-8\\n+# https://github.com/docker-library/python/issues/147\\n+ENV PYTHONIOENCODING UTF-8\\n+\\n+# install ca-certificates so that HTTPS works consistently\\n+# other runtime dependencies for Python are installed later\\n+RUN apk add --no-cache ca-certificates\\n+\\n+ENV GPG_KEY C01E1CAD5EA2C4F0B8E3571504C367C218ADD4FF\\n+ENV PYTHON_VERSION 2.7.16\\n+\\n+RUN set -ex \\\\\\n+\\t&& apk add --no-cache --virtual .fetch-deps \\\\\\n+\\t\\tgnupg \\\\\\n+\\t\\ttar \\\\\\n+\\t\\txz \\\\\\n+\\t\\\\\\n+\\t&& wget -O python.tar.xz \"https://www.python.org/ftp/python/${PYTHON_VERSION%%[a-z]*}/Python-$PYTHON_VERSION.tar.xz\" \\\\\\n+\\t&& wget -O python.tar.xz.asc \"https://www.python.org/ftp/python/${PYTHON_VERSION%%[a-z]*}/Python-$PYTHON_VERSION.tar.xz.asc\" \\\\\\n+\\t&& export GNUPGHOME=\"$(mktemp -d)\" \\\\\\n+\\t&& gpg --batch --keyserver ha.pool.sks-keyservers.net --recv-keys \"$GPG_KEY\" \\\\\\n+\\t&& gpg --batch --verify python.tar.xz.asc python.tar.xz \\\\\\n+\\t&& { command -v gpgconf > /dev/null && gpgconf --kill all || :; } \\\\\\n+\\t&& rm -rf \"$GNUPGHOME\" python.tar.xz.asc \\\\\\n+\\t&& mkdir -p /usr/src/python \\\\\\n+\\t&& tar -xJC /usr/src/python --strip-components=1 -f python.tar.xz \\\\\\n+\\t&& rm python.tar.xz \\\\\\n+\\t\\\\\\n+\\t&& apk add --no-cache --virtual .build-deps  \\\\\\n+\\t\\tbzip2-dev \\\\\\n+\\t\\tcoreutils \\\\\\n+\\t\\tdpkg-dev dpkg \\\\\\n+\\t\\texpat-dev \\\\\\n+\\t\\tfindutils \\\\\\n+\\t\\tgcc \\\\\\n+\\t\\tgdbm-dev \\\\\\n+\\t\\tlibc-dev \\\\\\n+\\t\\tlibffi-dev \\\\\\n+\\t\\tlibnsl-dev \\\\\\n+\\t\\tlibtirpc-dev \\\\\\n+\\t\\tlinux-headers \\\\\\n+\\t\\tmake \\\\\\n+\\t\\tncurses-dev \\\\\\n+\\t\\topenssl-dev \\\\\\n+\\t\\tpax-utils \\\\\\n+\\t\\treadline-dev \\\\\\n+\\t\\tsqlite-dev \\\\\\n+\\t\\ttcl-dev \\\\\\n+\\t\\ttk \\\\\\n+\\t\\ttk-dev \\\\\\n+\\t\\tzlib-dev \\\\\\n+# add build deps before removing fetch deps in case there\\'s overlap\\n+\\t&& apk del .fetch-deps \\\\\\n+\\t\\\\\\n+\\t&& cd /usr/src/python \\\\\\n+\\t&& gnuArch=\"$(dpkg-architecture --query DEB_BUILD_GNU_TYPE)\" \\\\\\n+\\t&& ./configure \\\\\\n+\\t\\t--build=\"$gnuArch\" \\\\\\n+\\t\\t--enable-shared \\\\\\n+\\t\\t--enable-unicode=ucs4 \\\\\\n+\\t\\t--with-system-expat \\\\\\n+\\t\\t--with-system-ffi \\\\\\n+\\t&& make -j \"$(nproc)\" \\\\\\n+# set thread stack size to 1MB so we don\\'t segfault before we hit sys.getrecursionlimit()\\n+# https://github.com/alpinelinux/aports/commit/2026e1259422d4e0cf92391ca2d3844356c649d0\\n+\\t\\tEXTRA_CFLAGS=\"-DTHREAD_STACK_SIZE=0x100000\" \\\\\\n+\\t&& make install \\\\\\n+\\t\\\\\\n+\\t&& find /usr/local -type f -executable -not \\\\( -name \\'*tkinter*\\' \\\\) -exec scanelf --needed --nobanner --format \\'%n#p\\' \\'{}\\' \\';\\' \\\\\\n+\\t\\t| tr \\',\\' \\'\\\\n\\' \\\\\\n+\\t\\t| sort -u \\\\\\n+\\t\\t| awk \\'system(\"[ -e /usr/local/lib/\" $1 \" ]\") == 0 { next } { print \"so:\" $1 }\\' \\\\\\n+\\t\\t| xargs -rt apk add --no-cache --virtual .python-rundeps \\\\\\n+\\t&& apk del .build-deps \\\\\\n+\\t\\\\\\n+\\t&& find /usr/local -depth \\\\\\n+\\t\\t\\\\( \\\\\\n+\\t\\t\\t\\\\( -type d -a \\\\( -name test -o -name tests \\\\) \\\\) \\\\\\n+\\t\\t\\t-o \\\\\\n+\\t\\t\\t\\\\( -type f -a \\\\( -name \\'*.pyc\\' -o -name \\'*.pyo\\' \\\\) \\\\) \\\\\\n+\\t\\t\\\\) -exec rm -rf \\'{}\\' + \\\\\\n+\\t&& rm -rf /usr/src/python \\\\\\n+\\t\\\\\\n+\\t&& python2 --version\\n+\\n+# if this is called \"PIP_VERSION\", pip explodes with \"ValueError: invalid truth value \\'<VERSION>\\'\"\\n+ENV PYTHON_PIP_VERSION 19.1.1\\n+\\n+RUN set -ex; \\\\\\n+\\t\\\\\\n+\\twget -O get-pip.py \\'https://bootstrap.pypa.io/get-pip.py\\'; \\\\\\n+\\t\\\\\\n+\\tpython get-pip.py \\\\\\n+\\t\\t--disable-pip-version-check \\\\\\n+\\t\\t--no-cache-dir \\\\\\n+\\t\\t\"pip==$PYTHON_PIP_VERSION\" \\\\\\n+\\t; \\\\\\n+\\tpip --version; \\\\\\n+\\t\\\\\\n+\\tfind /usr/local -depth \\\\\\n+\\t\\t\\\\( \\\\\\n+\\t\\t\\t\\\\( -type d -a \\\\( -name test -o -name tests \\\\) \\\\) \\\\\\n+\\t\\t\\t-o \\\\\\n+\\t\\t\\t\\\\( -type f -a \\\\( -name \\'*.pyc\\' -o -name \\'*.pyo\\' \\\\) \\\\) \\\\\\n+\\t\\t\\\\) -exec rm -rf \\'{}\\' +; \\\\\\n+\\trm -f get-pip.py\\n+\\n+CMD [\"python2\"]'},\n",
       " {'commit_sha': 'e057559fad64ed81b3da9fad6612a2de8b0ae544',\n",
       "  'author': 'docker-library-bot',\n",
       "  'last_modified': 'Thu, 20 Jun 2019 13:44:40 GMT',\n",
       "  'patch': '@@ -0,0 +1,121 @@\\n+#\\n+# NOTE: THIS DOCKERFILE IS GENERATED VIA \"update.sh\"\\n+#\\n+# PLEASE DO NOT EDIT IT DIRECTLY.\\n+#\\n+\\n+FROM alpine:3.10\\n+\\n+# ensure local python is preferred over distribution python\\n+ENV PATH /usr/local/bin:$PATH\\n+\\n+# http://bugs.python.org/issue19846\\n+# > At the moment, setting \"LANG=C\" on a Linux system *fundamentally breaks Python 3*, and that\\'s not OK.\\n+ENV LANG C.UTF-8\\n+# https://github.com/docker-library/python/issues/147\\n+ENV PYTHONIOENCODING UTF-8\\n+\\n+# install ca-certificates so that HTTPS works consistently\\n+# other runtime dependencies for Python are installed later\\n+RUN apk add --no-cache ca-certificates\\n+\\n+ENV GPG_KEY C01E1CAD5EA2C4F0B8E3571504C367C218ADD4FF\\n+ENV PYTHON_VERSION 2.7.16\\n+\\n+RUN set -ex \\\\\\n+\\t&& apk add --no-cache --virtual .fetch-deps \\\\\\n+\\t\\tgnupg \\\\\\n+\\t\\ttar \\\\\\n+\\t\\txz \\\\\\n+\\t\\\\\\n+\\t&& wget -O python.tar.xz \"https://www.python.org/ftp/python/${PYTHON_VERSION%%[a-z]*}/Python-$PYTHON_VERSION.tar.xz\" \\\\\\n+\\t&& wget -O python.tar.xz.asc \"https://www.python.org/ftp/python/${PYTHON_VERSION%%[a-z]*}/Python-$PYTHON_VERSION.tar.xz.asc\" \\\\\\n+\\t&& export GNUPGHOME=\"$(mktemp -d)\" \\\\\\n+\\t&& gpg --batch --keyserver ha.pool.sks-keyservers.net --recv-keys \"$GPG_KEY\" \\\\\\n+\\t&& gpg --batch --verify python.tar.xz.asc python.tar.xz \\\\\\n+\\t&& { command -v gpgconf > /dev/null && gpgconf --kill all || :; } \\\\\\n+\\t&& rm -rf \"$GNUPGHOME\" python.tar.xz.asc \\\\\\n+\\t&& mkdir -p /usr/src/python \\\\\\n+\\t&& tar -xJC /usr/src/python --strip-components=1 -f python.tar.xz \\\\\\n+\\t&& rm python.tar.xz \\\\\\n+\\t\\\\\\n+\\t&& apk add --no-cache --virtual .build-deps  \\\\\\n+\\t\\tbzip2-dev \\\\\\n+\\t\\tcoreutils \\\\\\n+\\t\\tdpkg-dev dpkg \\\\\\n+\\t\\texpat-dev \\\\\\n+\\t\\tfindutils \\\\\\n+\\t\\tgcc \\\\\\n+\\t\\tgdbm-dev \\\\\\n+\\t\\tlibc-dev \\\\\\n+\\t\\tlibffi-dev \\\\\\n+\\t\\tlibnsl-dev \\\\\\n+\\t\\tlibtirpc-dev \\\\\\n+\\t\\tlinux-headers \\\\\\n+\\t\\tmake \\\\\\n+\\t\\tncurses-dev \\\\\\n+\\t\\topenssl-dev \\\\\\n+\\t\\tpax-utils \\\\\\n+\\t\\treadline-dev \\\\\\n+\\t\\tsqlite-dev \\\\\\n+\\t\\ttcl-dev \\\\\\n+\\t\\ttk \\\\\\n+\\t\\ttk-dev \\\\\\n+\\t\\tzlib-dev \\\\\\n+# add build deps before removing fetch deps in case there\\'s overlap\\n+\\t&& apk del .fetch-deps \\\\\\n+\\t\\\\\\n+\\t&& cd /usr/src/python \\\\\\n+\\t&& gnuArch=\"$(dpkg-architecture --query DEB_BUILD_GNU_TYPE)\" \\\\\\n+\\t&& ./configure \\\\\\n+\\t\\t--build=\"$gnuArch\" \\\\\\n+\\t\\t--enable-shared \\\\\\n+\\t\\t--enable-unicode=ucs4 \\\\\\n+\\t\\t--with-system-expat \\\\\\n+\\t\\t--with-system-ffi \\\\\\n+\\t&& make -j \"$(nproc)\" \\\\\\n+# set thread stack size to 1MB so we don\\'t segfault before we hit sys.getrecursionlimit()\\n+# https://github.com/alpinelinux/aports/commit/2026e1259422d4e0cf92391ca2d3844356c649d0\\n+\\t\\tEXTRA_CFLAGS=\"-DTHREAD_STACK_SIZE=0x100000\" \\\\\\n+\\t&& make install \\\\\\n+\\t\\\\\\n+\\t&& find /usr/local -type f -executable -not \\\\( -name \\'*tkinter*\\' \\\\) -exec scanelf --needed --nobanner --format \\'%n#p\\' \\'{}\\' \\';\\' \\\\\\n+\\t\\t| tr \\',\\' \\'\\\\n\\' \\\\\\n+\\t\\t| sort -u \\\\\\n+\\t\\t| awk \\'system(\"[ -e /usr/local/lib/\" $1 \" ]\") == 0 { next } { print \"so:\" $1 }\\' \\\\\\n+\\t\\t| xargs -rt apk add --no-cache --virtual .python-rundeps \\\\\\n+\\t&& apk del .build-deps \\\\\\n+\\t\\\\\\n+\\t&& find /usr/local -depth \\\\\\n+\\t\\t\\\\( \\\\\\n+\\t\\t\\t\\\\( -type d -a \\\\( -name test -o -name tests \\\\) \\\\) \\\\\\n+\\t\\t\\t-o \\\\\\n+\\t\\t\\t\\\\( -type f -a \\\\( -name \\'*.pyc\\' -o -name \\'*.pyo\\' \\\\) \\\\) \\\\\\n+\\t\\t\\\\) -exec rm -rf \\'{}\\' + \\\\\\n+\\t&& rm -rf /usr/src/python \\\\\\n+\\t\\\\\\n+\\t&& python2 --version\\n+\\n+# if this is called \"PIP_VERSION\", pip explodes with \"ValueError: invalid truth value \\'<VERSION>\\'\"\\n+ENV PYTHON_PIP_VERSION 19.1.1\\n+\\n+RUN set -ex; \\\\\\n+\\t\\\\\\n+\\twget -O get-pip.py \\'https://bootstrap.pypa.io/get-pip.py\\'; \\\\\\n+\\t\\\\\\n+\\tpython get-pip.py \\\\\\n+\\t\\t--disable-pip-version-check \\\\\\n+\\t\\t--no-cache-dir \\\\\\n+\\t\\t\"pip==$PYTHON_PIP_VERSION\" \\\\\\n+\\t; \\\\\\n+\\tpip --version; \\\\\\n+\\t\\\\\\n+\\tfind /usr/local -depth \\\\\\n+\\t\\t\\\\( \\\\\\n+\\t\\t\\t\\\\( -type d -a \\\\( -name test -o -name tests \\\\) \\\\) \\\\\\n+\\t\\t\\t-o \\\\\\n+\\t\\t\\t\\\\( -type f -a \\\\( -name \\'*.pyc\\' -o -name \\'*.pyo\\' \\\\) \\\\) \\\\\\n+\\t\\t\\\\) -exec rm -rf \\'{}\\' +; \\\\\\n+\\trm -f get-pip.py\\n+\\n+CMD [\"python2\"]'}]"
      ]
     },
     "execution_count": 40,
     "metadata": {},
     "output_type": "execute_result"
    }
   ],
   "source": [
    "df0_commits"
   ]
  },
  {
   "cell_type": "code",
   "execution_count": 17,
   "metadata": {},
   "outputs": [],
   "source": [
    "commit = commits[-5]"
   ]
  },
  {
   "cell_type": "code",
   "execution_count": 18,
   "metadata": {},
   "outputs": [
    {
     "data": {
      "text/plain": [
       "'ccfb4c011e1db901c167c8d4c3611263bd68e65c'"
      ]
     },
     "execution_count": 18,
     "metadata": {},
     "output_type": "execute_result"
    }
   ],
   "source": [
    "commit.sha"
   ]
  },
  {
   "cell_type": "code",
   "execution_count": 19,
   "metadata": {
    "scrolled": true
   },
   "outputs": [
    {
     "data": {
      "text/plain": [
       "NamedUser(login=\"docker-library-bot\")"
      ]
     },
     "execution_count": 19,
     "metadata": {},
     "output_type": "execute_result"
    }
   ],
   "source": [
    "commit.author"
   ]
  },
  {
   "cell_type": "code",
   "execution_count": 20,
   "metadata": {},
   "outputs": [
    {
     "data": {
      "text/plain": [
       "'Sun, 25 Aug 2019 09:49:20 GMT'"
      ]
     },
     "execution_count": 20,
     "metadata": {},
     "output_type": "execute_result"
    }
   ],
   "source": [
    "commit.last_modified"
   ]
  },
  {
   "cell_type": "code",
   "execution_count": 31,
   "metadata": {},
   "outputs": [
    {
     "data": {
      "text/plain": [
       "'Update to 3.7.0, pip 18.0'"
      ]
     },
     "execution_count": 31,
     "metadata": {},
     "output_type": "execute_result"
    }
   ],
   "source": [
    "commit.raw_data['commit']['message']"
   ]
  },
  {
   "cell_type": "code",
   "execution_count": 21,
   "metadata": {},
   "outputs": [
    {
     "data": {
      "text/plain": [
       "[File(sha=\"4e24dc545306e898ec26cd50e78d663151fb2476\", filename=\"3.7/alpine3.7/Dockerfile\"),\n",
       " File(sha=\"6b9fe4698fcc07b644fa31fa784186f2764c41df\", filename=\"3.7/alpine3.8/Dockerfile\"),\n",
       " File(sha=\"c2bef6ff7997f316125281ab8e611f5fdae865bd\", filename=\"3.7/stretch/Dockerfile\"),\n",
       " File(sha=\"7d832b1749ade67a58f39d01840baad058ac376a\", filename=\"3.7/stretch/slim/Dockerfile\"),\n",
       " File(sha=\"cdb3516089c9db25d1305e2747c3170b695886e2\", filename=\"3.7/windows/windowsservercore-1709/Dockerfile\"),\n",
       " File(sha=\"f04b597a799e3bbf5c3755b8780e71055a784dd9\", filename=\"3.7/windows/windowsservercore-ltsc2016/Dockerfile\")]"
      ]
     },
     "execution_count": 21,
     "metadata": {},
     "output_type": "execute_result"
    }
   ],
   "source": [
    "commit.files"
   ]
  },
  {
   "cell_type": "code",
   "execution_count": 38,
   "metadata": {},
   "outputs": [],
   "source": [
    "file = commit.files[0]"
   ]
  },
  {
   "cell_type": "code",
   "execution_count": 39,
   "metadata": {},
   "outputs": [
    {
     "data": {
      "text/plain": [
       "'Mon, 06 May 2019 15:49:32 GMT'"
      ]
     },
     "execution_count": 39,
     "metadata": {},
     "output_type": "execute_result"
    }
   ],
   "source": [
    "file.last_modified"
   ]
  },
  {
   "cell_type": "code",
   "execution_count": 40,
   "metadata": {
    "scrolled": true
   },
   "outputs": [
    {
     "data": {
      "text/plain": [
       "{'sha': '93a3920e2f1f0b4d51ff8432c78fbe781f8bfc50',\n",
       " 'filename': '3.8-rc/alpine3.9/Dockerfile',\n",
       " 'status': 'modified',\n",
       " 'additions': 1,\n",
       " 'deletions': 1,\n",
       " 'changes': 2,\n",
       " 'blob_url': 'https://github.com/docker-library/python/blob/81d9938f8e33d8ab43dba18cea32aa83df4dd52d/3.8-rc/alpine3.9/Dockerfile',\n",
       " 'raw_url': 'https://github.com/docker-library/python/raw/81d9938f8e33d8ab43dba18cea32aa83df4dd52d/3.8-rc/alpine3.9/Dockerfile',\n",
       " 'contents_url': 'https://api.github.com/repos/docker-library/python/contents/3.8-rc/alpine3.9/Dockerfile?ref=81d9938f8e33d8ab43dba18cea32aa83df4dd52d',\n",
       " 'patch': '@@ -105,7 +105,7 @@ RUN cd /usr/local/bin \\\\\\n \\t&& ln -s python3-config python-config\\n \\n # if this is called \"PIP_VERSION\", pip explodes with \"ValueError: invalid truth value \\'<VERSION>\\'\"\\n-ENV PYTHON_PIP_VERSION 19.1\\n+ENV PYTHON_PIP_VERSION 19.1.1\\n \\n RUN set -ex; \\\\\\n \\t\\\\'}"
      ]
     },
     "execution_count": 40,
     "metadata": {},
     "output_type": "execute_result"
    }
   ],
   "source": [
    "file.raw_data"
   ]
  },
  {
   "cell_type": "code",
   "execution_count": 43,
   "metadata": {},
   "outputs": [
    {
     "data": {
      "text/plain": [
       "['3.8-rc/alpine3.9/Dockerfile',\n",
       " '3.8-rc/stretch/Dockerfile',\n",
       " '3.8-rc/stretch/slim/Dockerfile',\n",
       " '3.8-rc/windows/windowsservercore-1803/Dockerfile',\n",
       " '3.8-rc/windows/windowsservercore-1809/Dockerfile',\n",
       " '3.8-rc/windows/windowsservercore-ltsc2016/Dockerfile']"
      ]
     },
     "execution_count": 43,
     "metadata": {},
     "output_type": "execute_result"
    }
   ],
   "source": [
    "[f.filename for f in commit.files]"
   ]
  },
  {
   "cell_type": "code",
   "execution_count": 45,
   "metadata": {
    "scrolled": true
   },
   "outputs": [
    {
     "data": {
      "text/plain": [
       "'3.8-rc/windows/windowsservercore-ltsc2016/Dockerfile'"
      ]
     },
     "execution_count": 45,
     "metadata": {},
     "output_type": "execute_result"
    }
   ],
   "source": [
    "df.path"
   ]
  },
  {
   "cell_type": "code",
   "execution_count": 15,
   "metadata": {},
   "outputs": [
    {
     "data": {
      "text/plain": [
       "'@@ -141,10 +141,10 @@ RUN cd /usr/local/bin \\\\\\n \\t&& ln -s python3-config python-config\\n \\n # if this is called \"PIP_VERSION\", pip explodes with \"ValueError: invalid truth value \\'<VERSION>\\'\"\\n-ENV PYTHON_PIP_VERSION 19.2.1\\n+ENV PYTHON_PIP_VERSION 19.2.2\\n # https://github.com/pypa/get-pip\\n-ENV PYTHON_GET_PIP_URL https://github.com/pypa/get-pip/raw/404c9418e33c5031b1a9ab623168b3e8a2ed8c88/get-pip.py\\n-ENV PYTHON_GET_PIP_SHA256 56bb63d3cf54e7444351256f72a60f575f6d8c7f1faacffae33167afc8e7609d\\n+ENV PYTHON_GET_PIP_URL https://github.com/pypa/get-pip/raw/0c72a3b4ece313faccb446a96c84770ccedc5ec5/get-pip.py\\n+ENV PYTHON_GET_PIP_SHA256 201edc6df416da971e64cc94992d2dd24bc328bada7444f0c4f2031ae31e8dad\\n \\n RUN set -ex; \\\\\\n \\t\\\\'"
      ]
     },
     "execution_count": 15,
     "metadata": {},
     "output_type": "execute_result"
    }
   ],
   "source": [
    "file.patch"
   ]
  },
  {
   "cell_type": "code",
   "execution_count": 25,
   "metadata": {},
   "outputs": [
    {
     "data": {
      "text/plain": [
       "'3.6/alpine3.10/Dockerfile'"
      ]
     },
     "execution_count": 25,
     "metadata": {},
     "output_type": "execute_result"
    }
   ],
   "source": [
    "file.filename"
   ]
  },
  {
   "cell_type": "markdown",
   "metadata": {},
   "source": [
    "Commit statistics"
   ]
  },
  {
   "cell_type": "code",
   "execution_count": 29,
   "metadata": {},
   "outputs": [],
   "source": [
    "stats = commit.stats"
   ]
  },
  {
   "cell_type": "code",
   "execution_count": 30,
   "metadata": {
    "scrolled": true
   },
   "outputs": [
    {
     "data": {
      "text/plain": [
       "{'total': 36, 'additions': 18, 'deletions': 18}"
      ]
     },
     "execution_count": 30,
     "metadata": {},
     "output_type": "execute_result"
    }
   ],
   "source": [
    "stats.raw_data"
   ]
  },
  {
   "cell_type": "markdown",
   "metadata": {},
   "source": [
    "_______"
   ]
  }
 ],
 "metadata": {
  "kernelspec": {
   "display_name": "Python 3",
   "language": "python",
   "name": "python3"
  },
  "language_info": {
   "codemirror_mode": {
    "name": "ipython",
    "version": 3
   },
   "file_extension": ".py",
   "mimetype": "text/x-python",
   "name": "python",
   "nbconvert_exporter": "python",
   "pygments_lexer": "ipython3",
   "version": "3.7.3"
  }
 },
 "nbformat": 4,
 "nbformat_minor": 2
}
